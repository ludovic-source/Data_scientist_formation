{
 "cells": [
  {
   "cell_type": "markdown",
   "id": "e43d32f9-5854-490c-9028-08d601c4048b",
   "metadata": {},
   "source": [
    "# Classifiez automatiquement des biens de consommation : \n",
    "*Notebook mission 2 - Test d’une API de collecte de données de change*\n",
    "\n",
    "Nous souhaitons élargir notre gamme de produits à l’épicerie fine. \r\n",
    " \r\n",
    "\r\n",
    "Pour cela, pourrais-tu tester la collecte de produits à base de “champagne” via l’API disponible ici ou via l'API Openfood Facts en pièce jointe (ne nécessitant aucune inscriptio? \r\n",
    "\r\n",
    " \r\n",
    "\r\n",
    "Pourrais-tu ensuite nous proposer un script ou notebook Python permettant une extraction des 10 premiers produits dans un fichier “.csv”, contenant pour chaque produit les données suivantes : foodId, label, category, foodContentsLabel, image.\n",
    "\n",
    "**Appeler l'API et récupérer le résultat**"
   ]
  },
  {
   "cell_type": "code",
   "execution_count": 2,
   "id": "4c176252-737a-4469-bf47-93fb40042136",
   "metadata": {},
   "outputs": [
    {
     "name": "stdout",
     "output_type": "stream",
     "text": [
      "Succès - nbre de produits : 50\n"
     ]
    }
   ],
   "source": [
    "import requests\n",
    "\n",
    "# Définir l'URL de l'API avec le paramètre de recherche\n",
    "url = \"https://world.openfoodfacts.org/cgi/search.pl?action=process&tagtype_0=ingredients&tag_contains_0=contains&tag_0=champagne&json=true\"\n",
    "\n",
    "# Effectuer la requête GET\n",
    "response = requests.get(url)\n",
    "\n",
    "# Vérifier si la requête a réussi\n",
    "if response.status_code == 200:\n",
    "    # Récupérer la réponse en JSON\n",
    "    data = response.json()\n",
    "    \n",
    "    # Récupérer les produits\n",
    "    products = data.get(\"products\", [])\n",
    "    print(\"Succès - nbre de produits :\", len(products))\n",
    "else:\n",
    "    print(f\"Erreur : {response.status_code}\")"
   ]
  },
  {
   "cell_type": "markdown",
   "id": "3b24adf7-bb77-46cc-99b1-15a1945da54c",
   "metadata": {},
   "source": [
    "**Filtrer les produits avec l'ingrédient \"champagne\"**"
   ]
  },
  {
   "cell_type": "code",
   "execution_count": 4,
   "id": "86ebcbed-6372-48f2-a77a-505331b6a670",
   "metadata": {},
   "outputs": [],
   "source": [
    "# Filtrer les produits contenant \"champagne\" dans les ingrédients\n",
    "filtered_products = [\n",
    "    product for product in products \n",
    "    if \"ingredients_text\" in product and \"champagne\" in product[\"ingredients_text\"].lower()\n",
    "]"
   ]
  },
  {
   "cell_type": "markdown",
   "id": "c88fe12c-af22-43b4-b085-ecaa477efaee",
   "metadata": {},
   "source": [
    "**Afficher le résultat**"
   ]
  },
  {
   "cell_type": "code",
   "execution_count": 6,
   "id": "440805c9-511d-4753-9493-571d28aefb57",
   "metadata": {},
   "outputs": [
    {
     "name": "stdout",
     "output_type": "stream",
     "text": [
      "Produits contenant 'champagne' (48 trouvés) :\n",
      "\n",
      "1. Faux Gras - Gaia\n",
      "   Ingrédients: Eau, levure alimentaire, huile de coco, amidon de pomme de terre, protéines de tournesol, Champagne (2%), pulpe de tomates, sel marin, huile de tournesol, truffe (1%), épices (0,18% : coriandre, cannelle, clous de girofle).\n",
      "\n",
      "2. Veuve Clicquot Champagne Ponsardin Brut - Champagner weiss, Veuve Clicquot Champagne Brut\n",
      "   Ingrédients: Champagne\n",
      "\n",
      "3. Nicolas Feuillatte - Nicolas Feuillatte\n",
      "   Ingrédients: Champagne, Contient des _sulfites_\n",
      "\n",
      "4. Confiture abricot, mangue, pêche fruit de la passion - Monoprix Gourmet,Monoprix\n",
      "   Ingrédients: Fruits 60% (pulpe d'abricot 25%, pulpe de mangue 12%, pêche 12%, jus de fruit de la passion 11%) - sucre de canne - gélifiant : pectines - Champagne - jus de citron - extrait de vanille. Malgré tout le soin apporté à la préparation de ce produit, la présence exceptionnelle de noyaux n'est pas exclue.\n",
      "\n",
      "5. Champagne CHARLES VINCENT BRUT - Carrefour\n",
      "   Ingrédients: Champagne brut.\n",
      "\n",
      "6. Champagne Blue Top Brut - Heidsieck & Co\n",
      "   Ingrédients: Champagne (_sulfites_)\n",
      "\n",
      "7. Coquille saint Jacques Royale - Picard\n",
      "   Ingrédients: Noix de Saint-Jacques 40% (mollusques), fumet de poisson (eau, poisson, carotte, céleri, oignon, poireau, beurre), crème, brisure de morille 7,7%, biscuit (farine de blé, beurre, jaune d'oeuf issu de poule élevée en plein air, blanc d'oeuf issu de poule élevée en plein air, sucre glace, sel, colorant : curcumine), beurre, champagne 4,1%, fumet de barbes de Saint-Jacques (fumet de poisson, barbes de Saint-Jacques (mollusques)), échalote, beurre, réduction d'échalote (échalote, beurre, vinaigre de vin), farine de blé, pain d'épices (farine de froment, miel, sucre, anis étoilé, beurre, poudre à lever), amidon de riz, beurre concentré, ciboulette, lait écrémé en poudre, sel poivre\n",
      "\n",
      "8. Champagne - De Castellane\n",
      "   Ingrédients: Champagne\n",
      "\n",
      "9. Champagne Alfred Rothschild et Cie brut - Alfred Rothschild et Cie\n",
      "   Ingrédients: Champagne brut (contient _sulfites_)\n",
      "\n",
      "10. Rillettes de homard au cognac - Deluxe\n",
      "   Ingrédients: Chair de homard américain 49%, huile de colza, colin d'Alaska, eau, double concentré de tomates, Champagne (contient sulfites), moutarde de Dijon (eau, graines de moutarde, vinaigre d'alcool, sel), fibre de blé, jaune d'œuf en poudre, farine de blé, sel, Cognac 0,5%, poivre blanc.\n",
      "\n"
     ]
    }
   ],
   "source": [
    "# Afficher les produits filtrés\n",
    "print(f\"Produits contenant 'champagne' ({len(filtered_products)} trouvés) :\\n\")\n",
    "for i, product in enumerate(filtered_products[:10]):  # Limiter l'affichage aux 10 premiers\n",
    "    print(f\"{i+1}. {product.get('product_name', 'Nom inconnu')} - {product.get('brands', 'Marque inconnue')}\")\n",
    "    print(f\"   Ingrédients: {product.get('ingredients_text', 'Non précisé')}\\n\")"
   ]
  },
  {
   "cell_type": "markdown",
   "id": "3274a7de-c21d-4390-bc1a-a610412c2782",
   "metadata": {},
   "source": [
    "**Extraction des 10 premiers produits**"
   ]
  },
  {
   "cell_type": "code",
   "execution_count": 8,
   "id": "b6c33820-4d2f-430b-a9c1-79a11309f7af",
   "metadata": {},
   "outputs": [
    {
     "data": {
      "text/plain": [
       "[{'foodId': '8711812380571',\n",
       "  'label': 'Faux Gras',\n",
       "  'category': 'Produits à tartiner, Produits à tartiner salés, Alternatives à la viande, Substituts de viande, Substituts du foie gras',\n",
       "  'foodContentsLabel': 'Eau, levure alimentaire, huile de coco, amidon de pomme de terre, protéines de tournesol, Champagne (2%), pulpe de tomates, sel marin, huile de tournesol, truffe (1%), épices (0,18% : coriandre, cannelle, clous de girofle).',\n",
       "  'image': 'https://images.openfoodfacts.org/images/products/871/181/238/0571/front_fr.81.400.jpg'},\n",
       " {'foodId': '3049610004104',\n",
       "  'label': 'Veuve Clicquot Champagne Ponsardin Brut',\n",
       "  'category': 'Boissons, Boissons alcoolisées, Vins, Vins effervescents, Champagnes',\n",
       "  'foodContentsLabel': 'Champagne',\n",
       "  'image': 'https://images.openfoodfacts.org/images/products/304/961/000/4104/front_fr.39.400.jpg'},\n",
       " {'foodId': '3282946015837',\n",
       "  'label': 'Nicolas Feuillatte',\n",
       "  'category': 'Boissons, Boissons alcoolisées, Vins, Vins français, Vins effervescents, Champagnes, Champagnes français, Champagnes bruts',\n",
       "  'foodContentsLabel': 'Champagne, Contient des _sulfites_',\n",
       "  'image': 'https://images.openfoodfacts.org/images/products/328/294/601/5837/front_fr.7.400.jpg'},\n",
       " {'foodId': '3350033436282',\n",
       "  'label': 'Confiture abricot, mangue, pêche fruit de la passion',\n",
       "  'category': \"Aliments et boissons à base de végétaux, Aliments d'origine végétale, Aliments à base de fruits et de légumes, Petit-déjeuners, Produits à tartiner, Fruits et produits dérivés, Pâtes à tartiner végétales, Produits à tartiner sucrés, Confitures et marmelades, Confitures, Confitures multifruits\",\n",
       "  'foodContentsLabel': \"Fruits 60% (pulpe d'abricot 25%, pulpe de mangue 12%, pêche 12%, jus de fruit de la passion 11%) - sucre de canne - gélifiant : pectines - Champagne - jus de citron - extrait de vanille. Malgré tout le soin apporté à la préparation de ce produit, la présence exceptionnelle de noyaux n'est pas exclue.\",\n",
       "  'image': 'https://images.openfoodfacts.org/images/products/335/003/343/6282/front_fr.18.400.jpg'},\n",
       " {'foodId': '3245391237858',\n",
       "  'label': 'Champagne CHARLES VINCENT BRUT',\n",
       "  'category': 'Boissons, Boissons alcoolisées, Vins, Vins français, Vins effervescents, Champagnes, Champagnes français',\n",
       "  'foodContentsLabel': 'Champagne brut.',\n",
       "  'image': 'https://images.openfoodfacts.org/images/products/324/539/123/7858/front_fr.24.400.jpg'},\n",
       " {'foodId': '3256930103817',\n",
       "  'label': 'Champagne Blue Top Brut',\n",
       "  'category': 'Boissons, Boissons alcoolisées, Vins, Vins français, Vins effervescents, Champagnes, Champagnes français, Champagnes bruts',\n",
       "  'foodContentsLabel': 'Champagne (_sulfites_)',\n",
       "  'image': 'https://images.openfoodfacts.org/images/products/325/693/010/3817/front_fr.17.400.jpg'},\n",
       " {'foodId': '3270160890682',\n",
       "  'label': 'Coquille saint Jacques Royale',\n",
       "  'category': 'Surgelés, Entrées et snacks surgelés, Coquilles-saint-jacques-surgelees',\n",
       "  'foodContentsLabel': \"Noix de Saint-Jacques 40% (mollusques), fumet de poisson (eau, poisson, carotte, céleri, oignon, poireau, beurre), crème, brisure de morille 7,7%, biscuit (farine de blé, beurre, jaune d'oeuf issu de poule élevée en plein air, blanc d'oeuf issu de poule élevée en plein air, sucre glace, sel, colorant : curcumine), beurre, champagne 4,1%, fumet de barbes de Saint-Jacques (fumet de poisson, barbes de Saint-Jacques (mollusques)), échalote, beurre, réduction d'échalote (échalote, beurre, vinaigre de vin), farine de blé, pain d'épices (farine de froment, miel, sucre, anis étoilé, beurre, poudre à lever), amidon de riz, beurre concentré, ciboulette, lait écrémé en poudre, sel poivre\",\n",
       "  'image': 'https://images.openfoodfacts.org/images/products/327/016/089/0682/front_fr.11.400.jpg'},\n",
       " {'foodId': '3113870000029',\n",
       "  'label': 'Champagne',\n",
       "  'category': 'Boissons, Boissons alcoolisées, Vins, Vins effervescents, Champagnes',\n",
       "  'foodContentsLabel': 'Champagne',\n",
       "  'image': 'https://images.openfoodfacts.org/images/products/311/387/000/0029/front_fr.3.400.jpg'},\n",
       " {'foodId': '3113910312013',\n",
       "  'label': 'Champagne Alfred Rothschild et Cie brut',\n",
       "  'category': 'Boissons, Boissons alcoolisées, Vins, Vins français, Vins effervescents, Champagnes, Champagnes français, Champagnes bruts',\n",
       "  'foodContentsLabel': 'Champagne brut (contient _sulfites_)',\n",
       "  'image': 'https://images.openfoodfacts.org/images/products/311/391/031/2013/front_fr.3.400.jpg'},\n",
       " {'foodId': '4056489843696',\n",
       "  'label': 'Rillettes de homard au cognac',\n",
       "  'category': 'Rillettes de homard au cognac et champagne',\n",
       "  'foodContentsLabel': \"Chair de homard américain 49%, huile de colza, colin d'Alaska, eau, double concentré de tomates, Champagne (contient sulfites), moutarde de Dijon (eau, graines de moutarde, vinaigre d'alcool, sel), fibre de blé, jaune d'œuf en poudre, farine de blé, sel, Cognac 0,5%, poivre blanc.\",\n",
       "  'image': 'https://images.openfoodfacts.org/images/products/405/648/984/3696/front_fr.3.400.jpg'}]"
      ]
     },
     "execution_count": 8,
     "metadata": {},
     "output_type": "execute_result"
    }
   ],
   "source": [
    "champagne_products = []\n",
    "\n",
    "for i, product in enumerate(filtered_products[:10]):    \n",
    "            champagne_product = {\n",
    "                \"foodId\": product.get(\"code\", \"N/A\"),\n",
    "                \"label\": product.get(\"product_name\", \"Nom inconnu\"),\n",
    "                \"category\": product.get(\"categories\", \"Non précisé\"),\n",
    "                \"foodContentsLabel\": product.get(\"ingredients_text\", \"Non précisé\"),\n",
    "                \"image\": product.get(\"image_url\", \"Aucune image\")\n",
    "            }\n",
    "            champagne_products.append(champagne_product)\n",
    "\n",
    "champagne_products"
   ]
  },
  {
   "cell_type": "markdown",
   "id": "0905a653-d90c-4fdb-9d79-fc32955ae1b8",
   "metadata": {},
   "source": [
    "**Mettre les informations extraites dans un fichier csv**"
   ]
  },
  {
   "cell_type": "code",
   "execution_count": 10,
   "id": "5d2572e9-6319-4f83-a9f2-e64a9808fc85",
   "metadata": {},
   "outputs": [
    {
     "name": "stdout",
     "output_type": "stream",
     "text": [
      "✅ Données enregistrées dans 'C:/Users/admin/Documents/Projets/Projet_6/result_api.csv' (10 produits).\n"
     ]
    }
   ],
   "source": [
    "import csv\n",
    "\n",
    "csv_filename = \"C:/Users/admin/Documents/Projets/Projet_6/result_api.csv\"\n",
    "\n",
    "# Écrire les données dans un fichier CSV\n",
    "with open(csv_filename, mode=\"w\", newline=\"\", encoding=\"utf-8\") as file:\n",
    "        writer = csv.DictWriter(file, fieldnames=[\"foodId\", \"label\", \"category\", \"foodContentsLabel\", \"image\"])\n",
    "        writer.writeheader()  # Écrire l'en-tête\n",
    "        writer.writerows(champagne_products)  # Écrire les données\n",
    "\n",
    "print(f\"✅ Données enregistrées dans '{csv_filename}' ({len(champagne_products)} produits).\")"
   ]
  },
  {
   "cell_type": "markdown",
   "id": "9e0bb381-7855-45b8-aa14-9eb2954d130d",
   "metadata": {},
   "source": [
    "**Création du script complet**"
   ]
  },
  {
   "cell_type": "code",
   "execution_count": 12,
   "id": "857c94f5-31a8-44a3-88b3-d6f5196a279a",
   "metadata": {},
   "outputs": [
    {
     "name": "stdout",
     "output_type": "stream",
     "text": [
      "✅ Données enregistrées dans 'C:/Users/admin/Documents/Projets/Projet_6/results_api.csv' (10 produits).\n"
     ]
    }
   ],
   "source": [
    "import csv\n",
    "import requests\n",
    "\n",
    "# Définir l'URL de l'API avec le paramètre de recherche\n",
    "url = \"https://world.openfoodfacts.org/cgi/search.pl?action=process&tagtype_0=ingredients&tag_contains_0=contains&tag_0=champagne&json=true\"\n",
    "\n",
    "# Effectuer la requête GET\n",
    "response = requests.get(url)\n",
    "\n",
    "# Vérifier si la requête a réussi\n",
    "if response.status_code == 200:\n",
    "    # Récupérer la réponse en JSON\n",
    "    data = response.json()\n",
    "    \n",
    "    # Récupérer les produits\n",
    "    products = data.get(\"products\", [])\n",
    "\n",
    "    # Filtrer les produits contenant \"champagne\" dans les ingrédients\n",
    "    filtered_products = [\n",
    "        product for product in products \n",
    "        if \"ingredients_text\" in product and \"champagne\" in product[\"ingredients_text\"].lower()\n",
    "    ]\n",
    "\n",
    "    # Sélectionner les 10 premiers produits et extraire les infos demandées\n",
    "    champagne_products = []\n",
    "    for i, product in enumerate(filtered_products[:10]):    \n",
    "        champagne_product = {\n",
    "                    \"foodId\": product.get(\"code\", \"N/A\"),\n",
    "                    \"label\": product.get(\"product_name\", \"Nom inconnu\"),\n",
    "                    \"category\": product.get(\"categories\", \"Non précisé\"),\n",
    "                    \"foodContentsLabel\": product.get(\"ingredients_text\", \"Non précisé\"),\n",
    "                    \"image\": product.get(\"image_url\", \"Aucune image\")\n",
    "        }\n",
    "        champagne_products.append(champagne_product)\n",
    "\n",
    "    # Écrire les données dans un fichier CSV\n",
    "    csv_filename = \"C:/Users/admin/Documents/Projets/Projet_6/results_api.csv\"\n",
    "    with open(csv_filename, mode=\"w\", newline=\"\", encoding=\"utf-8\") as file:\n",
    "            writer = csv.DictWriter(file, fieldnames=[\"foodId\", \"label\", \"category\", \"foodContentsLabel\", \"image\"])\n",
    "            writer.writeheader()  # Écrire l'en-tête\n",
    "            writer.writerows(champagne_products)  # Écrire les données\n",
    "    \n",
    "    print(f\"✅ Données enregistrées dans '{csv_filename}' ({len(champagne_products)} produits).\")\n",
    "    \n",
    "else:\n",
    "    print(f\"Erreur : {response.status_code}\")"
   ]
  },
  {
   "cell_type": "code",
   "execution_count": null,
   "id": "378c0af0-ae7a-4329-8b67-dda77c057e5c",
   "metadata": {},
   "outputs": [],
   "source": []
  }
 ],
 "metadata": {
  "kernelspec": {
   "display_name": "Python 3 (ipykernel)",
   "language": "python",
   "name": "python3"
  },
  "language_info": {
   "codemirror_mode": {
    "name": "ipython",
    "version": 3
   },
   "file_extension": ".py",
   "mimetype": "text/x-python",
   "name": "python",
   "nbconvert_exporter": "python",
   "pygments_lexer": "ipython3",
   "version": "3.11.7"
  }
 },
 "nbformat": 4,
 "nbformat_minor": 5
}
