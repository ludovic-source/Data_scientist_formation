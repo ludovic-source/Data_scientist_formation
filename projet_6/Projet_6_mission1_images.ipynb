{
 "cells": [
  {
   "cell_type": "markdown",
   "id": "9d2b2cee-ffe5-4ea4-b357-e8ec771c7840",
   "metadata": {},
   "source": [
    "# Classifiez automatiquement des biens de consommation : \n",
    "*Notebook mission 1 - techniques traitement d'images*\n",
    "\n",
    "**Etudiez la faisabilité d'un moteur de classification d'articles**\n",
    "\n",
    "Vous êtes Data Scientist au sein de l’entreprise \"Place de marché”, qui souhaite lancer une marketplace e-commerce. Sur cette place de marché anglophone, des vendeurs proposent des articles à des acheteurs en postant une photo et une description.\n",
    "\n",
    "Pour l'instant, l'attribution de la catégorie d'un article est effectuée manuellement par les vendeurs, et est donc peu fiable. De plus, le volume des articles est pour l’instant très petit.\n",
    " \n",
    "\n",
    "Pour rendre l’expérience utilisateur des vendeurs (faciliter la mise en ligne de nouveaux articles) et des acheteurs (faciliter la recherche de produits) la plus fluide possible, et dans l'optique d'un passage à l'échelle,  il devient nécessaire d'automatiser cette tâche d‘attribution de la catégo\n",
    "\n",
    "Objectif : Etudier la faisabilité d'un moteur de classification des articles en différentes catégories, à partir du texte (en anglais) et de l’image comme dans l’illustration ci-dessous.rie.\n",
    "\n",
    "**3 et 4 parties de la mission :**\n",
    "\n",
    "Faisabilité de classification - techniques traitement d'images basiques\n",
    "\n",
    "- Analysez les images via différentes méthodes de transformation (niveau de gris, filtrage bruit, contraste etc.).\n",
    "- Utilisez des algorithmes d'extraction d'e features d’images comme SIFT.\n",
    "- Utilisez des méthodes de réduction de dimension sur les images encodées et comparer les résultats avec les catégories réelles. \n",
    "\n",
    "Faisabilité de classification - techniques traitement d'images plus avancées\n",
    "\n",
    "- Reprenez la démarche précédente en utilisant cette fois-ci des réseaux de neurones pré-entraînés. \n",
    "- Comparez vos résultats avec ceux des méthodes de traitement d’image plus basiques."
   ]
  },
  {
   "cell_type": "code",
   "execution_count": 47,
   "id": "b1e611a8-20c9-471d-af59-824ef796989c",
   "metadata": {},
   "outputs": [
    {
     "name": "stdout",
     "output_type": "stream",
     "text": [
      "numpy version 1.26.4\n",
      "pandas version 2.1.4\n",
      "matplotlib version 3.8.0\n",
      "seaborn version 0.13.2\n",
      "scipy version 1.11.4\n",
      "statsmodels version 0.14.0\n",
      "sklearn version 1.6.1\n",
      "PIL version 10.2.0\n",
      "cv2 version 4.11.0\n"
     ]
    }
   ],
   "source": [
    "# fonctions personnelles pour le pré traitement des données textuelles\n",
    "import pre_treatment_text as ptt\n",
    "\n",
    "import numpy as np\n",
    "\n",
    "import pandas as pd\n",
    "import matplotlib\n",
    "import matplotlib.pyplot as plt\n",
    "import seaborn as sns\n",
    "from matplotlib.ticker import ScalarFormatter\n",
    "from matplotlib.ticker import FuncFormatter\n",
    "import scipy\n",
    "from scipy import stats\n",
    "import scipy.stats as st\n",
    "\n",
    "import statsmodels\n",
    "import statsmodels.api as sm\n",
    "\n",
    "import sklearn\n",
    "\n",
    "# pour le centrage et la réduction\n",
    "from sklearn.preprocessing import StandardScaler, MinMaxScaler\n",
    "# pour l'ACP\n",
    "from sklearn.decomposition import PCA\n",
    "\n",
    "from sklearn import metrics\n",
    "from sklearn.metrics import roc_curve, auc, confusion_matrix\n",
    "\n",
    "from sklearn.cluster import KMeans\n",
    "\n",
    "from sklearn.manifold import TSNE\n",
    "\n",
    "import timeit\n",
    "import time\n",
    "\n",
    "from collections import defaultdict\n",
    "from collections import Counter\n",
    "\n",
    "import PIL\n",
    "from PIL import Image\n",
    "import cv2\n",
    "\n",
    "print(\"numpy version\", np.__version__)\n",
    "print(\"pandas version\", pd.__version__)\n",
    "print(\"matplotlib version\", matplotlib.__version__)\n",
    "print(\"seaborn version\", sns.__version__)\n",
    "print(\"scipy version\", scipy.__version__)\n",
    "print(\"statsmodels version\", statsmodels.__version__)\n",
    "\n",
    "print(\"sklearn version\", sklearn.__version__)\n",
    "\n",
    "print(\"PIL version\", PIL.__version__)\n",
    "print(\"cv2 version\", cv2.__version__)\n",
    "\n",
    "pd.options.display.max_rows = 200\n",
    "pd.options.display.max_columns = 100"
   ]
  },
  {
   "cell_type": "markdown",
   "id": "fb65684a-ff97-495c-8f99-013e584e6209",
   "metadata": {},
   "source": [
    "## 1 - Pré traitement du dataset\n",
    "\n",
    "**Chargement des données**"
   ]
  },
  {
   "cell_type": "code",
   "execution_count": 4,
   "id": "4db49056-a193-45ae-8a4b-403b9684aeb4",
   "metadata": {},
   "outputs": [
    {
     "data": {
      "text/html": [
       "<div>\n",
       "<style scoped>\n",
       "    .dataframe tbody tr th:only-of-type {\n",
       "        vertical-align: middle;\n",
       "    }\n",
       "\n",
       "    .dataframe tbody tr th {\n",
       "        vertical-align: top;\n",
       "    }\n",
       "\n",
       "    .dataframe thead th {\n",
       "        text-align: right;\n",
       "    }\n",
       "</style>\n",
       "<table border=\"1\" class=\"dataframe\">\n",
       "  <thead>\n",
       "    <tr style=\"text-align: right;\">\n",
       "      <th></th>\n",
       "      <th>uniq_id</th>\n",
       "      <th>crawl_timestamp</th>\n",
       "      <th>product_url</th>\n",
       "      <th>product_name</th>\n",
       "      <th>product_category_tree</th>\n",
       "      <th>pid</th>\n",
       "      <th>retail_price</th>\n",
       "      <th>discounted_price</th>\n",
       "      <th>image</th>\n",
       "      <th>is_FK_Advantage_product</th>\n",
       "      <th>description</th>\n",
       "      <th>product_rating</th>\n",
       "      <th>overall_rating</th>\n",
       "      <th>brand</th>\n",
       "      <th>product_specifications</th>\n",
       "    </tr>\n",
       "  </thead>\n",
       "  <tbody>\n",
       "    <tr>\n",
       "      <th>0</th>\n",
       "      <td>55b85ea15a1536d46b7190ad6fff8ce7</td>\n",
       "      <td>2016-04-30 03:22:56 +0000</td>\n",
       "      <td>http://www.flipkart.com/elegance-polyester-mul...</td>\n",
       "      <td>Elegance Polyester Multicolor Abstract Eyelet ...</td>\n",
       "      <td>[\"Home Furnishing &gt;&gt; Curtains &amp; Accessories &gt;&gt;...</td>\n",
       "      <td>CRNEG7BKMFFYHQ8Z</td>\n",
       "      <td>1899.0</td>\n",
       "      <td>899.0</td>\n",
       "      <td>55b85ea15a1536d46b7190ad6fff8ce7.jpg</td>\n",
       "      <td>False</td>\n",
       "      <td>Key Features of Elegance Polyester Multicolor ...</td>\n",
       "      <td>No rating available</td>\n",
       "      <td>No rating available</td>\n",
       "      <td>Elegance</td>\n",
       "      <td>{\"product_specification\"=&gt;[{\"key\"=&gt;\"Brand\", \"v...</td>\n",
       "    </tr>\n",
       "    <tr>\n",
       "      <th>1</th>\n",
       "      <td>7b72c92c2f6c40268628ec5f14c6d590</td>\n",
       "      <td>2016-04-30 03:22:56 +0000</td>\n",
       "      <td>http://www.flipkart.com/sathiyas-cotton-bath-t...</td>\n",
       "      <td>Sathiyas Cotton Bath Towel</td>\n",
       "      <td>[\"Baby Care &gt;&gt; Baby Bath &amp; Skin &gt;&gt; Baby Bath T...</td>\n",
       "      <td>BTWEGFZHGBXPHZUH</td>\n",
       "      <td>600.0</td>\n",
       "      <td>449.0</td>\n",
       "      <td>7b72c92c2f6c40268628ec5f14c6d590.jpg</td>\n",
       "      <td>False</td>\n",
       "      <td>Specifications of Sathiyas Cotton Bath Towel (...</td>\n",
       "      <td>No rating available</td>\n",
       "      <td>No rating available</td>\n",
       "      <td>Sathiyas</td>\n",
       "      <td>{\"product_specification\"=&gt;[{\"key\"=&gt;\"Machine Wa...</td>\n",
       "    </tr>\n",
       "    <tr>\n",
       "      <th>2</th>\n",
       "      <td>64d5d4a258243731dc7bbb1eef49ad74</td>\n",
       "      <td>2016-04-30 03:22:56 +0000</td>\n",
       "      <td>http://www.flipkart.com/eurospa-cotton-terry-f...</td>\n",
       "      <td>Eurospa Cotton Terry Face Towel Set</td>\n",
       "      <td>[\"Baby Care &gt;&gt; Baby Bath &amp; Skin &gt;&gt; Baby Bath T...</td>\n",
       "      <td>BTWEG6SHXTDB2A2Y</td>\n",
       "      <td>NaN</td>\n",
       "      <td>NaN</td>\n",
       "      <td>64d5d4a258243731dc7bbb1eef49ad74.jpg</td>\n",
       "      <td>False</td>\n",
       "      <td>Key Features of Eurospa Cotton Terry Face Towe...</td>\n",
       "      <td>No rating available</td>\n",
       "      <td>No rating available</td>\n",
       "      <td>Eurospa</td>\n",
       "      <td>{\"product_specification\"=&gt;[{\"key\"=&gt;\"Material\",...</td>\n",
       "    </tr>\n",
       "    <tr>\n",
       "      <th>3</th>\n",
       "      <td>d4684dcdc759dd9cdf41504698d737d8</td>\n",
       "      <td>2016-06-20 08:49:52 +0000</td>\n",
       "      <td>http://www.flipkart.com/santosh-royal-fashion-...</td>\n",
       "      <td>SANTOSH ROYAL FASHION Cotton Printed King size...</td>\n",
       "      <td>[\"Home Furnishing &gt;&gt; Bed Linen &gt;&gt; Bedsheets &gt;&gt;...</td>\n",
       "      <td>BDSEJT9UQWHDUBH4</td>\n",
       "      <td>2699.0</td>\n",
       "      <td>1299.0</td>\n",
       "      <td>d4684dcdc759dd9cdf41504698d737d8.jpg</td>\n",
       "      <td>False</td>\n",
       "      <td>Key Features of SANTOSH ROYAL FASHION Cotton P...</td>\n",
       "      <td>No rating available</td>\n",
       "      <td>No rating available</td>\n",
       "      <td>SANTOSH ROYAL FASHION</td>\n",
       "      <td>{\"product_specification\"=&gt;[{\"key\"=&gt;\"Brand\", \"v...</td>\n",
       "    </tr>\n",
       "    <tr>\n",
       "      <th>4</th>\n",
       "      <td>6325b6870c54cd47be6ebfbffa620ec7</td>\n",
       "      <td>2016-06-20 08:49:52 +0000</td>\n",
       "      <td>http://www.flipkart.com/jaipur-print-cotton-fl...</td>\n",
       "      <td>Jaipur Print Cotton Floral King sized Double B...</td>\n",
       "      <td>[\"Home Furnishing &gt;&gt; Bed Linen &gt;&gt; Bedsheets &gt;&gt;...</td>\n",
       "      <td>BDSEJTHNGWVGWWQU</td>\n",
       "      <td>2599.0</td>\n",
       "      <td>698.0</td>\n",
       "      <td>6325b6870c54cd47be6ebfbffa620ec7.jpg</td>\n",
       "      <td>False</td>\n",
       "      <td>Key Features of Jaipur Print Cotton Floral Kin...</td>\n",
       "      <td>No rating available</td>\n",
       "      <td>No rating available</td>\n",
       "      <td>Jaipur Print</td>\n",
       "      <td>{\"product_specification\"=&gt;[{\"key\"=&gt;\"Machine Wa...</td>\n",
       "    </tr>\n",
       "  </tbody>\n",
       "</table>\n",
       "</div>"
      ],
      "text/plain": [
       "                            uniq_id            crawl_timestamp  \\\n",
       "0  55b85ea15a1536d46b7190ad6fff8ce7  2016-04-30 03:22:56 +0000   \n",
       "1  7b72c92c2f6c40268628ec5f14c6d590  2016-04-30 03:22:56 +0000   \n",
       "2  64d5d4a258243731dc7bbb1eef49ad74  2016-04-30 03:22:56 +0000   \n",
       "3  d4684dcdc759dd9cdf41504698d737d8  2016-06-20 08:49:52 +0000   \n",
       "4  6325b6870c54cd47be6ebfbffa620ec7  2016-06-20 08:49:52 +0000   \n",
       "\n",
       "                                         product_url  \\\n",
       "0  http://www.flipkart.com/elegance-polyester-mul...   \n",
       "1  http://www.flipkart.com/sathiyas-cotton-bath-t...   \n",
       "2  http://www.flipkart.com/eurospa-cotton-terry-f...   \n",
       "3  http://www.flipkart.com/santosh-royal-fashion-...   \n",
       "4  http://www.flipkart.com/jaipur-print-cotton-fl...   \n",
       "\n",
       "                                        product_name  \\\n",
       "0  Elegance Polyester Multicolor Abstract Eyelet ...   \n",
       "1                         Sathiyas Cotton Bath Towel   \n",
       "2                Eurospa Cotton Terry Face Towel Set   \n",
       "3  SANTOSH ROYAL FASHION Cotton Printed King size...   \n",
       "4  Jaipur Print Cotton Floral King sized Double B...   \n",
       "\n",
       "                               product_category_tree               pid  \\\n",
       "0  [\"Home Furnishing >> Curtains & Accessories >>...  CRNEG7BKMFFYHQ8Z   \n",
       "1  [\"Baby Care >> Baby Bath & Skin >> Baby Bath T...  BTWEGFZHGBXPHZUH   \n",
       "2  [\"Baby Care >> Baby Bath & Skin >> Baby Bath T...  BTWEG6SHXTDB2A2Y   \n",
       "3  [\"Home Furnishing >> Bed Linen >> Bedsheets >>...  BDSEJT9UQWHDUBH4   \n",
       "4  [\"Home Furnishing >> Bed Linen >> Bedsheets >>...  BDSEJTHNGWVGWWQU   \n",
       "\n",
       "   retail_price  discounted_price                                 image  \\\n",
       "0        1899.0             899.0  55b85ea15a1536d46b7190ad6fff8ce7.jpg   \n",
       "1         600.0             449.0  7b72c92c2f6c40268628ec5f14c6d590.jpg   \n",
       "2           NaN               NaN  64d5d4a258243731dc7bbb1eef49ad74.jpg   \n",
       "3        2699.0            1299.0  d4684dcdc759dd9cdf41504698d737d8.jpg   \n",
       "4        2599.0             698.0  6325b6870c54cd47be6ebfbffa620ec7.jpg   \n",
       "\n",
       "   is_FK_Advantage_product                                        description  \\\n",
       "0                    False  Key Features of Elegance Polyester Multicolor ...   \n",
       "1                    False  Specifications of Sathiyas Cotton Bath Towel (...   \n",
       "2                    False  Key Features of Eurospa Cotton Terry Face Towe...   \n",
       "3                    False  Key Features of SANTOSH ROYAL FASHION Cotton P...   \n",
       "4                    False  Key Features of Jaipur Print Cotton Floral Kin...   \n",
       "\n",
       "        product_rating       overall_rating                  brand  \\\n",
       "0  No rating available  No rating available               Elegance   \n",
       "1  No rating available  No rating available               Sathiyas   \n",
       "2  No rating available  No rating available                Eurospa   \n",
       "3  No rating available  No rating available  SANTOSH ROYAL FASHION   \n",
       "4  No rating available  No rating available           Jaipur Print   \n",
       "\n",
       "                              product_specifications  \n",
       "0  {\"product_specification\"=>[{\"key\"=>\"Brand\", \"v...  \n",
       "1  {\"product_specification\"=>[{\"key\"=>\"Machine Wa...  \n",
       "2  {\"product_specification\"=>[{\"key\"=>\"Material\",...  \n",
       "3  {\"product_specification\"=>[{\"key\"=>\"Brand\", \"v...  \n",
       "4  {\"product_specification\"=>[{\"key\"=>\"Machine Wa...  "
      ]
     },
     "execution_count": 4,
     "metadata": {},
     "output_type": "execute_result"
    }
   ],
   "source": [
    "# Charger le fichier de données\n",
    "data = pd.read_csv(\"C:/Users/admin/Documents/Projets/Projet_6/data_projet/Dataset+projet+prétraitement+textes+images/Flipkart/flipkart_com-ecommerce_sample_1050.csv\", \\\n",
    "                   sep=',', low_memory=False)\n",
    "data.head()"
   ]
  },
  {
   "cell_type": "markdown",
   "id": "6115d253-60c0-4571-9749-befcdfd78db5",
   "metadata": {},
   "source": [
    "Dans ce dataset, nous utiliserons uniquement les noms des produits (product_name), les catégories de premier niveau (transformation de product_category_tree), les noms des fichiers d'image (image).\n",
    "\n",
    "**Préparation de la variable catégorielle cible**\n",
    "\n",
    "Transformons la catégorie pour conserver uniquement le 1er niveau :"
   ]
  },
  {
   "cell_type": "code",
   "execution_count": 6,
   "id": "a8889fd0-6669-4130-914e-f8b902619c17",
   "metadata": {},
   "outputs": [
    {
     "data": {
      "text/plain": [
       "0       [\"Home Furnishing >> Curtains & Accessories >>...\n",
       "1       [\"Baby Care >> Baby Bath & Skin >> Baby Bath T...\n",
       "2       [\"Baby Care >> Baby Bath & Skin >> Baby Bath T...\n",
       "3       [\"Home Furnishing >> Bed Linen >> Bedsheets >>...\n",
       "4       [\"Home Furnishing >> Bed Linen >> Bedsheets >>...\n",
       "                              ...                        \n",
       "1045    [\"Baby Care >> Baby & Kids Gifts >> Stickers >...\n",
       "1046    [\"Baby Care >> Baby & Kids Gifts >> Stickers >...\n",
       "1047    [\"Baby Care >> Baby & Kids Gifts >> Stickers >...\n",
       "1048    [\"Baby Care >> Baby & Kids Gifts >> Stickers >...\n",
       "1049    [\"Baby Care >> Baby & Kids Gifts >> Stickers >...\n",
       "Name: product_category_tree, Length: 1050, dtype: object"
      ]
     },
     "execution_count": 6,
     "metadata": {},
     "output_type": "execute_result"
    }
   ],
   "source": [
    "y = data['product_category_tree']\n",
    "y"
   ]
  },
  {
   "cell_type": "code",
   "execution_count": 8,
   "id": "c6b6ff0a-b481-4397-9bd4-33c2a884fcb3",
   "metadata": {},
   "outputs": [
    {
     "data": {
      "text/plain": [
       "0       Home Furnishing\n",
       "1             Baby Care\n",
       "2             Baby Care\n",
       "3       Home Furnishing\n",
       "4       Home Furnishing\n",
       "             ...       \n",
       "1045          Baby Care\n",
       "1046          Baby Care\n",
       "1047          Baby Care\n",
       "1048          Baby Care\n",
       "1049          Baby Care\n",
       "Name: product_category_tree, Length: 1050, dtype: object"
      ]
     },
     "execution_count": 8,
     "metadata": {},
     "output_type": "execute_result"
    }
   ],
   "source": [
    "# Appliquer la méthode split sur chaque élément de la colonne\n",
    "y = data['product_category_tree'].apply(lambda x: ptt.clean_category_first_level(x))\n",
    "y"
   ]
  },
  {
   "cell_type": "markdown",
   "id": "2ee6441a-b2f0-4d32-80a5-663d87aae2a1",
   "metadata": {},
   "source": [
    "## 2 - Analyse d'une image\n",
    "\n",
    "### 2.1 - Premières manipulations"
   ]
  },
  {
   "cell_type": "code",
   "execution_count": 21,
   "id": "ec94bc49-0c4c-4a88-b221-219cb8f3179e",
   "metadata": {},
   "outputs": [],
   "source": [
    "# Charger l'image\n",
    "img = Image.open(\"C:/Users/admin/Documents/Projets/Projet_6/data_projet/Dataset+projet+prétraitement+textes+images/Flipkart/Images/b0229d4466ac60c7ba53c7ce9fabad7c.jpg\") \n",
    "\n",
    "# Afficher l'image chargée\n",
    "img.show()"
   ]
  },
  {
   "cell_type": "markdown",
   "id": "2a49c3fb-a41e-40d1-a32f-183b077bb835",
   "metadata": {},
   "source": [
    "**Quelle est la taille de notre image, donnée en nombre de pixels :**"
   ]
  },
  {
   "cell_type": "code",
   "execution_count": 24,
   "id": "79d7732b-d784-4629-8428-9cc1c664d441",
   "metadata": {},
   "outputs": [
    {
     "name": "stdout",
     "output_type": "stream",
     "text": [
      "Largeur : 1098 px, hauteur : 1100 px\n"
     ]
    }
   ],
   "source": [
    "# Récupérer et afficher la taille de l'image (en pixels)\n",
    "w, h = img.size\n",
    "print(\"Largeur : {} px, hauteur : {} px\".format(w, h))"
   ]
  },
  {
   "cell_type": "markdown",
   "id": "94a4d954-755b-4b7c-b814-33d3e5afa352",
   "metadata": {},
   "source": [
    "**Regardons les valeurs des pixels**"
   ]
  },
  {
   "cell_type": "code",
   "execution_count": 28,
   "id": "7ad5739b-6cb1-4308-bace-d9fdff6271ab",
   "metadata": {},
   "outputs": [
    {
     "name": "stdout",
     "output_type": "stream",
     "text": [
      "Format des pixels : RGB\n",
      "Valeur du pixel situé en (20,100) : (208, 206, 207)\n"
     ]
    }
   ],
   "source": [
    "# Afficher son mode de quantification\n",
    "print(\"Format des pixels : {}\".format(img.mode))\n",
    "\n",
    "# Récupérer et afficher la valeur du pixel à une position précise\n",
    "px_value = img.getpixel((20,100))\n",
    "print(\"Valeur du pixel situé en (20,100) : {}\".format(px_value))"
   ]
  },
  {
   "cell_type": "markdown",
   "id": "c1727a47-5289-4e4a-b794-c811b2f9fc57",
   "metadata": {},
   "source": [
    "Le format utilisé est RGB pour une photo en couleur (3x8-bit pixels, true color - Rouge-vert-bleu).\n",
    "\n",
    "Nous pouvons récupérer d'un seul coup les valeurs de tous les pixels de l'image à l'aide de la bibliothèque numpy :"
   ]
  },
  {
   "cell_type": "code",
   "execution_count": 33,
   "id": "64667e10-d9ea-4352-a28c-4324d944741a",
   "metadata": {},
   "outputs": [
    {
     "name": "stdout",
     "output_type": "stream",
     "text": [
      "Taille de la matrice de pixels : (1100, 1098, 3)\n"
     ]
    }
   ],
   "source": [
    "import numpy as np\n",
    "\n",
    "# Récupérer les valeurs de tous les pixels sous forme d'une matrice\n",
    "mat = np.array(img)\n",
    "mat\n",
    "\n",
    "# Afficher la taille de la matrice de pixels\n",
    "print(\"Taille de la matrice de pixels : {}\".format(mat.shape))"
   ]
  },
  {
   "cell_type": "markdown",
   "id": "952a58d0-117d-4cf5-bc8a-bc99d174a882",
   "metadata": {},
   "source": [
    "### 2.2 - Premiers traitements d'images\n",
    "\n",
    "**Conversion de l'image couleur en gris**"
   ]
  },
  {
   "cell_type": "code",
   "execution_count": null,
   "id": "979a008f-af76-4b32-abb1-f880b5c00fef",
   "metadata": {},
   "outputs": [],
   "source": []
  }
 ],
 "metadata": {
  "kernelspec": {
   "display_name": "Python 3 (ipykernel)",
   "language": "python",
   "name": "python3"
  },
  "language_info": {
   "codemirror_mode": {
    "name": "ipython",
    "version": 3
   },
   "file_extension": ".py",
   "mimetype": "text/x-python",
   "name": "python",
   "nbconvert_exporter": "python",
   "pygments_lexer": "ipython3",
   "version": "3.11.7"
  }
 },
 "nbformat": 4,
 "nbformat_minor": 5
}
