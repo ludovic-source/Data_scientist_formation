{
 "cells": [
  {
   "cell_type": "markdown",
   "id": "b7301f15-792a-48b7-b81d-34d62a63c754",
   "metadata": {},
   "source": [
    "Bienvenu"
   ]
  },
  {
   "cell_type": "code",
   "execution_count": 5,
   "id": "249e009c-2918-407e-87c7-d303a7ee14b9",
   "metadata": {},
   "outputs": [
    {
     "name": "stdout",
     "output_type": "stream",
     "text": [
      "Hello world\n"
     ]
    }
   ],
   "source": [
    "#Hello\n",
    "print(\"Hello world\")"
   ]
  },
  {
   "cell_type": "code",
   "execution_count": 11,
   "id": "1c192f80-78de-49ff-9908-4a6c0f4109a9",
   "metadata": {},
   "outputs": [
    {
     "name": "stdout",
     "output_type": "stream",
     "text": [
      "700\n",
      "1.4285714285714286\n",
      "1\n",
      "300\n"
     ]
    }
   ],
   "source": [
    "compteCourant = 500\n",
    "compteEpargne = 1000\n",
    "compteCourant += 200\n",
    "print(compteCourant)\n",
    "print(compteEpargne / compteCourant)\n",
    "print(compteEpargne // compteCourant)\n",
    "print(compteEpargne % compteCourant)"
   ]
  },
  {
   "cell_type": "code",
   "execution_count": 17,
   "id": "3e707a97-be25-4e42-9c8f-59b9daff11a3",
   "metadata": {},
   "outputs": [
    {
     "name": "stdout",
     "output_type": "stream",
     "text": [
      "500.0\n",
      "500\n",
      "1000.0\n"
     ]
    }
   ],
   "source": [
    "print(compteEpargne / 2)\n",
    "print(int(compteEpargne / 2))\n",
    "print(float(compteEpargne))"
   ]
  },
  {
   "cell_type": "code",
   "execution_count": null,
   "id": "631e4ec1-d22b-4ad5-86ca-b1e12f5a12cd",
   "metadata": {},
   "outputs": [],
   "source": []
  }
 ],
 "metadata": {
  "kernelspec": {
   "display_name": "Python 3 (ipykernel)",
   "language": "python",
   "name": "python3"
  },
  "language_info": {
   "codemirror_mode": {
    "name": "ipython",
    "version": 3
   },
   "file_extension": ".py",
   "mimetype": "text/x-python",
   "name": "python",
   "nbconvert_exporter": "python",
   "pygments_lexer": "ipython3",
   "version": "3.11.7"
  }
 },
 "nbformat": 4,
 "nbformat_minor": 5
}
