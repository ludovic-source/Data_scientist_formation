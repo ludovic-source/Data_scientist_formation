{
 "cells": [
  {
   "cell_type": "markdown",
   "id": "3440dd49-df90-4402-af7d-39453aaff9f5",
   "metadata": {},
   "source": [
    "# Préparez des données pour un organisme de santé publique"
   ]
  },
  {
   "cell_type": "markdown",
   "id": "ff8cf79b-2c2c-4b0b-9962-6588d6c5c939",
   "metadata": {},
   "source": [
    "## 0 - Rappel du sujet\n",
    "\n",
    "L'agence Santé publique France souhaite améliorer sa base de données Open Food Facts, et fait appel aux services de votre entreprise. Cette base de données open source est mise à la disposition de particuliers, et d’organisations afin de leur permettre de connaître la qualité nutritionnelle de produits. \n",
    "\n",
    "Aujourd’hui, pour ajouter un produit à la base de données d'Open Food Facts, il est nécessaire de remplir de nombreux champs textuels et numériques, ce qui peut conduire à des erreurs de saisie et à des valeurs manquantes dans la base. \n",
    "\n",
    "L’agence Santé publique France confie à votre entreprise la création d’un système de suggestion ou d’auto-complétion pour aider les usagers à remplir plus efficacement la base de données. Dans un premier temps, vous devez vous concentrer sur la prise en main des données, et d’abord les nettoyer et les explorer.\n",
    "\n",
    "Afin de simplifier ton approche, je te propose de commencer par établir la faisabilité de suggérer les valeurs manquantes pour une variable dont plus de 50% des valeurs sont manquantes.\n",
    "\n",
    "Voici les différentes étapes pour nettoyer et explorer les données :\r",
    " \r\n",
    "\r\n",
    "1) Traiter le jeu de données\r\n",
    "\r\n",
    "Repérer des variables pertinentes pour les traitements à venir, et nécessaires pour suggérer des valeurs manquantes,.\r\n",
    "Nettoyer les données en :\r\n",
    "mettant en évidence les éventuelles valeurs manquantes parmi les variables pertinentes sélectionnées, avec au moins 3 méthodes de traitement adaptées aux variables concernées,\r\n",
    "identifiant et en traitant les éventuelles valeurs aberrantes de chaque variable.\r\n",
    "Automatiser ces traitements pour éviter de répéter ces opérations\r\n",
    "Attention, le client souhaite que le programme fonctionne si la base de données est légèrement modifiée (ajout d’entrées, par xmple) !\r\n",
    "\r\n",
    " \r\n",
    "\r\n",
    "2) Tout au long de l’analyse, produire des visualisations afin de mieux comprendre les données. Effectuer une analyse univariée pour chaque variable intéressante, afin de synthétiser son comportement."
   ]
  },
  {
   "cell_type": "markdown",
   "id": "4217f5cc-c1e4-4e1d-b456-e5a2835dc2ba",
   "metadata": {},
   "source": [
    "## 1 - Préparer le dataframe"
   ]
  },
  {
   "cell_type": "code",
   "execution_count": 5,
   "id": "3a78b7d3-3ca4-4b16-823b-53437a4db7af",
   "metadata": {},
   "outputs": [
    {
     "name": "stdout",
     "output_type": "stream",
     "text": [
      "numpy version 1.26.4\n",
      "pandas version 2.1.4\n",
      "matplotlib version 3.8.0\n",
      "seaborn version 0.13.2\n"
     ]
    },
    {
     "ename": "NameError",
     "evalue": "name 'scipy' is not defined",
     "output_type": "error",
     "traceback": [
      "\u001b[1;31m---------------------------------------------------------------------------\u001b[0m",
      "\u001b[1;31mNameError\u001b[0m                                 Traceback (most recent call last)",
      "Cell \u001b[1;32mIn[5], line 22\u001b[0m\n\u001b[0;32m     20\u001b[0m \u001b[38;5;28mprint\u001b[39m(\u001b[38;5;124m\"\u001b[39m\u001b[38;5;124mmatplotlib version\u001b[39m\u001b[38;5;124m\"\u001b[39m, matplotlib\u001b[38;5;241m.\u001b[39m__version__)\n\u001b[0;32m     21\u001b[0m \u001b[38;5;28mprint\u001b[39m(\u001b[38;5;124m\"\u001b[39m\u001b[38;5;124mseaborn version\u001b[39m\u001b[38;5;124m\"\u001b[39m, sns\u001b[38;5;241m.\u001b[39m__version__)\n\u001b[1;32m---> 22\u001b[0m \u001b[38;5;28mprint\u001b[39m(\u001b[38;5;124m\"\u001b[39m\u001b[38;5;124mscipy version\u001b[39m\u001b[38;5;124m\"\u001b[39m, scipy\u001b[38;5;241m.\u001b[39m__version__)\n\u001b[0;32m     23\u001b[0m \u001b[38;5;28mprint\u001b[39m(\u001b[38;5;124m\"\u001b[39m\u001b[38;5;124mstatsmodels version\u001b[39m\u001b[38;5;124m\"\u001b[39m, statsmodels\u001b[38;5;241m.\u001b[39m__version__)\n\u001b[0;32m     24\u001b[0m \u001b[38;5;28mprint\u001b[39m(\u001b[38;5;124m\"\u001b[39m\u001b[38;5;124mmissingno version\u001b[39m\u001b[38;5;124m\"\u001b[39m, msno\u001b[38;5;241m.\u001b[39m__version__)\n",
      "\u001b[1;31mNameError\u001b[0m: name 'scipy' is not defined"
     ]
    }
   ],
   "source": [
    "import numpy as np\n",
    "\n",
    "import pandas as pd\n",
    "import matplotlib\n",
    "import matplotlib.pyplot as plt\n",
    "import seaborn as sns\n",
    "from matplotlib.ticker import ScalarFormatter\n",
    "from matplotlib.ticker import FuncFormatter\n",
    "\n",
    "from scipy import stats\n",
    "import scipy.stats as st\n",
    "\n",
    "import statsmodels\n",
    "import statsmodels.api as sm\n",
    "#!pip install missingno\n",
    "import missingno as msno\n",
    "\n",
    "print(\"numpy version\", np.__version__)\n",
    "print(\"pandas version\", pd.__version__)\n",
    "print(\"matplotlib version\", matplotlib.__version__)\n",
    "print(\"seaborn version\", sns.__version__)\n",
    "print(\"scipy version\", scipy.__version__)\n",
    "print(\"statsmodels version\", statsmodels.__version__)\n",
    "print(\"missingno version\", msno.__version__)\n",
    "\n",
    "pd.options.display.max_rows = 200\n",
    "pd.options.display.max_columns = 100"
   ]
  },
  {
   "cell_type": "code",
   "execution_count": null,
   "id": "fbdc598a-0bab-4ea2-a1e9-03e12834b489",
   "metadata": {},
   "outputs": [],
   "source": [
    "# Charger le fichier de données\n",
    "data = pd.read_csv(\"C:/Users/admin/Documents/Projets/Projet_3/openfoodfacts/fr.openfoodfacts.org.products.csv\", sep='\\t', low_memory=False)\n",
    "data.head()"
   ]
  },
  {
   "cell_type": "code",
   "execution_count": null,
   "id": "ca96275f-4139-4926-9131-e499271a67c0",
   "metadata": {},
   "outputs": [],
   "source": [
    "data.shape"
   ]
  },
  {
   "cell_type": "code",
   "execution_count": null,
   "id": "78d509e9-c30b-4cea-9cd4-d0f976a7c4e7",
   "metadata": {},
   "outputs": [],
   "source": [
    "data.dtypes"
   ]
  },
  {
   "cell_type": "code",
   "execution_count": null,
   "id": "22262c5c-1ec1-4e5a-8622-179f2b812ae2",
   "metadata": {},
   "outputs": [],
   "source": [
    "data.describe()"
   ]
  },
  {
   "cell_type": "markdown",
   "id": "7406c04e-b62d-4aa7-a492-7b9ded6f3086",
   "metadata": {},
   "source": [
    "## 2 - Nettoyer et filtrer des features et produits\n",
    "\n",
    "- Identifier ma cible selon les critères demandés.\n",
    "- Mettres en place un processus clair et automatisé pour filtrer les features (variables / colonnes) et des produits (lignes) qui seront utilisés pour atteindre l’objectif de mon projet."
   ]
  },
  {
   "cell_type": "markdown",
   "id": "471f4433-a7a1-49f2-bf0f-98593910cfdf",
   "metadata": {},
   "source": [
    "**Lister l’ensemble des features du fichier, quantitatives (numériques) ou qualitatives (catégorielles).**"
   ]
  },
  {
   "cell_type": "code",
   "execution_count": null,
   "id": "e2d7f59a-25b6-4307-b9d8-aa7ffc582028",
   "metadata": {},
   "outputs": [],
   "source": [
    "features = data.columns\n",
    "for feature in features:\n",
    "    print(feature)"
   ]
  },
  {
   "cell_type": "markdown",
   "id": "d3b5c2b5-2e26-4301-ab48-45894a3b4b97",
   "metadata": {},
   "source": [
    "**Choisir une cible (une feature ayant moins de 50% de valeurs présentes) catégorielle sera très probablement plus simple à gérer qu’une quantitative dans ce projet.**"
   ]
  },
  {
   "cell_type": "code",
   "execution_count": null,
   "id": "f69a9421-ab96-4ec6-8ba9-a87cbec44fda",
   "metadata": {},
   "outputs": [],
   "source": [
    "list_sort = data.isna().mean().sort_values()\n",
    "list_sort"
   ]
  },
  {
   "cell_type": "code",
   "execution_count": null,
   "id": "586964c7-385a-4cef-b254-39d36acc6a59",
   "metadata": {},
   "outputs": [],
   "source": [
    "#msno.bar(data)"
   ]
  },
  {
   "cell_type": "code",
   "execution_count": null,
   "id": "950b554b-469b-44c8-8926-fbbd79f1c639",
   "metadata": {},
   "outputs": [],
   "source": [
    "# Filtrer les lignes où 'pnns_groups_1' n'est pas NaN\n",
    "filtered_data = data[~data['pnns_groups_1'].isna()]\n",
    "\n",
    "# Extraire la colonne 'pnns_groups_1' des lignes filtrées\n",
    "list_pnns_groups_1 = filtered_data['pnns_groups_1'].unique()\n",
    "\n",
    "print(\"Liste des valeurs :\", list_pnns_groups_1)\n",
    "print(\"Nombre de lignes :\", list_pnns_groups_1.size)"
   ]
  },
  {
   "cell_type": "markdown",
   "id": "4120b0e0-2e72-4bf9-8a74-f732cf671c74",
   "metadata": {},
   "source": [
    "La variable \"pnns_groups_1\" me paraît être une bonne cible : il y a 14 valeurs possibles. Elle a 71 % de valeurs manquantes.\n",
    "\n",
    "Par contre il y a des doublons, par exemple 'Cereals and potatoes' et 'cereals-and-potatoes', à corriger."
   ]
  },
  {
   "cell_type": "code",
   "execution_count": null,
   "id": "45ec1b01-9dab-4d0e-baa7-b0a83df93ac1",
   "metadata": {},
   "outputs": [],
   "source": [
    "mask = data['pnns_groups_1'] == 'cereals-and-potatoes'\n",
    "data.loc[mask, 'pnns_groups_1'] = 'Cereals and potatoes'\n",
    "\n",
    "mask = data['pnns_groups_1'] == 'salty-snacks'\n",
    "data.loc[mask, 'pnns_groups_1'] = 'Salty snacks'\n",
    "\n",
    "mask = data['pnns_groups_1'] == 'fruits-and-vegetables'\n",
    "data.loc[mask, 'pnns_groups_1'] = 'Fruits and vegetables'\n",
    "\n",
    "mask = data['pnns_groups_1'] == 'sugary-snacks'\n",
    "data.loc[mask, 'pnns_groups_1'] = 'Sugary snacks'\n",
    "\n",
    "data.shape"
   ]
  },
  {
   "cell_type": "markdown",
   "id": "b9911f93-eb2f-4efb-a45f-a459cf9f5191",
   "metadata": {},
   "source": [
    "**Supprimer les lignes (produits) n’ayant pas de valeur cible.**"
   ]
  },
  {
   "cell_type": "code",
   "execution_count": null,
   "id": "49dae073-4c52-4e01-8835-81fd3d4e651f",
   "metadata": {},
   "outputs": [],
   "source": [
    "df = data[~data['pnns_groups_1'].isna()].copy()\n",
    "df.shape"
   ]
  },
  {
   "cell_type": "markdown",
   "id": "2470df57-b1bd-48d6-abc8-a853eff8fbd2",
   "metadata": {},
   "source": [
    "Supprimer également les produits avec la valeur 'unknown'"
   ]
  },
  {
   "cell_type": "code",
   "execution_count": null,
   "id": "89701abb-f1f9-45aa-acd6-54d585d1a543",
   "metadata": {},
   "outputs": [],
   "source": [
    "mask = df['pnns_groups_1'] == 'unknown'\n",
    "print('nombre de produits à supprimer avec la valeur \"unknow\":', df.loc[mask].shape[0])\n",
    "df = df[~mask].copy()\n",
    "df.shape"
   ]
  },
  {
   "cell_type": "markdown",
   "id": "8692fa79-2c55-4be7-b778-7b314b8dfafc",
   "metadata": {},
   "source": [
    "**Supprimer les produits en double.**\n",
    "\n",
    "Un doublon est un produit dont le nom du produit (product name) est identique."
   ]
  },
  {
   "cell_type": "code",
   "execution_count": null,
   "id": "80ac3e99-4a57-48ba-b0f4-0ccc320daf08",
   "metadata": {},
   "outputs": [],
   "source": [
    "# on ajoute une colonne pour indiquer le nombre de valeurs absentes\n",
    "df['NB_NAN'] = df.isna().sum(axis=1)\n",
    "# on trie sur le nbre de valeurs absentes\n",
    "df = df.sort_values('NB_NAN')\n",
    "# on conserve la ligne doublée qui a le moins de valeurs absentes\n",
    "df = df.drop_duplicates('product_name', keep='first')\n",
    "# on supprime la colonne inutile pour la suite\n",
    "df = df.drop('NB_NAN', axis=1)"
   ]
  },
  {
   "cell_type": "code",
   "execution_count": null,
   "id": "d2168850-c332-4ada-8368-c772fdb2866e",
   "metadata": {},
   "outputs": [],
   "source": [
    "df.shape"
   ]
  },
  {
   "cell_type": "markdown",
   "id": "891395fd-d1ee-4add-b32f-b5bc68b5af18",
   "metadata": {},
   "source": [
    "**Afficher les taux de remplissage des features du dataset.**"
   ]
  },
  {
   "cell_type": "code",
   "execution_count": null,
   "id": "da6a99af-edc3-4861-a82e-18c7314d8255",
   "metadata": {},
   "outputs": [],
   "source": [
    "list_sort = df.isna().mean().sort_values()\n",
    "list_sort"
   ]
  },
  {
   "cell_type": "markdown",
   "id": "1f8f19b6-f168-41ff-9adc-2c2efc9a334a",
   "metadata": {},
   "source": [
    "**Sélectionner des features qui sont assez remplis (plus que 50%) et qui vous paraissent intéressantes pour effectuer la prédiction de votre cible.**"
   ]
  },
  {
   "cell_type": "code",
   "execution_count": null,
   "id": "7821e586-b85c-4ea3-b42b-dacc73e12265",
   "metadata": {},
   "outputs": [],
   "source": [
    "features = ['energy_100g', 'proteins_100g', 'fat_100g', 'carbohydrates_100g', 'salt_100g', 'sodium_100g', 'sugars_100g', 'saturated-fat_100g', 'fiber_100g', 'nutrition_grade_fr']\n",
    "X = df[features]\n",
    "X.shape"
   ]
  },
  {
   "cell_type": "markdown",
   "id": "3e0724b7-cb52-4d14-b32b-fd742ae32091",
   "metadata": {},
   "source": [
    "Voici les features qui me semblent intéressantes pour la prédiction de la cible :\n",
    "- energy_100g\n",
    "- proteins_100g\n",
    "- fat_100g\n",
    "- carbohydrates_100g\n",
    "- salt_100g\n",
    "- sodium_100g\n",
    "- sugars_100g\n",
    "- saturated-fat_100g\n",
    "- fiber_100g\n",
    "- nutrition_grade_fr"
   ]
  },
  {
   "cell_type": "markdown",
   "id": "81c5e15f-3a8e-4611-8a51-5767ad179ea5",
   "metadata": {},
   "source": [
    "**Séparer la cible du reste du dataset.**"
   ]
  },
  {
   "cell_type": "code",
   "execution_count": null,
   "id": "1ee2de99-7773-4b4c-ba55-acf484e761f4",
   "metadata": {},
   "outputs": [],
   "source": [
    "y = df['pnns_groups_1']\n",
    "df = df.drop('pnns_groups_1', axis=1)\n",
    "y.shape"
   ]
  },
  {
   "cell_type": "code",
   "execution_count": null,
   "id": "34f4b38e-bfec-4ad9-94a0-63615afb04f9",
   "metadata": {},
   "outputs": [],
   "source": [
    "df.shape"
   ]
  },
  {
   "cell_type": "code",
   "execution_count": null,
   "id": "886ea273-035c-41c8-93ad-0402cb8c8a00",
   "metadata": {},
   "outputs": [],
   "source": [
    "# msno.heatmap(df_features)"
   ]
  },
  {
   "cell_type": "markdown",
   "id": "f6d703dc-98da-4d51-b878-fade0aa36972",
   "metadata": {},
   "source": [
    "**Automatiser tout ce qui a été fait jusqu’à maintenant en utilisant :**\n",
    "- une fonction qui prend en input votre dataframe d’origine\n",
    "- les méthodes spécifiques aux dataframes pandas. Accessoirement numpy si ce que vous voulez faire n’est pas directement ou simplement disponible via la librairie pandas."
   ]
  },
  {
   "cell_type": "code",
   "execution_count": null,
   "id": "fd0257f2-9801-4394-822b-f801fbb10455",
   "metadata": {},
   "outputs": [],
   "source": [
    "def "
   ]
  },
  {
   "cell_type": "code",
   "execution_count": null,
   "id": "bf6fde25-1c88-4abf-8a25-4dfadbb40826",
   "metadata": {},
   "outputs": [],
   "source": []
  },
  {
   "cell_type": "code",
   "execution_count": null,
   "id": "8105b413-b43b-49a4-9bfe-d23c0bd323b1",
   "metadata": {},
   "outputs": [],
   "source": []
  },
  {
   "cell_type": "code",
   "execution_count": null,
   "id": "1636c8d0-f9f6-495b-a30a-449ae4a61b0b",
   "metadata": {},
   "outputs": [],
   "source": []
  },
  {
   "cell_type": "markdown",
   "id": "5020495e-ea63-4715-9ab5-8930d906c47f",
   "metadata": {},
   "source": [
    "## 2 - Identifier et traiter les valeurs aberrantes"
   ]
  },
  {
   "cell_type": "markdown",
   "id": "3a12bc49-15ab-43d7-b14f-cfd2a444f90a",
   "metadata": {},
   "source": [
    "### 2.1 - vue globale"
   ]
  },
  {
   "cell_type": "code",
   "execution_count": null,
   "id": "5d360f81-19a6-4b9c-b71d-4758ac1756c9",
   "metadata": {},
   "outputs": [],
   "source": [
    "X.describe()"
   ]
  },
  {
   "cell_type": "markdown",
   "id": "9e09b48f-cb91-4d23-9401-c619ef4e3770",
   "metadata": {},
   "source": [
    "Sans entrer dans le détail, on constate déjà des valeurs aberrantes:\n",
    "- Les valeurs max ne devraient pas dépasser 100 grammes (sauf \"energy_100g\"). Or toutes les features ont une valeur max > 100g (exemple fat max = 380g)\n",
    "- Les valeurs min ne peuvent pas être négatives. Or pour la feature \"sugars_100g\", il y a au moins une valeur négative.\n"
   ]
  },
  {
   "cell_type": "markdown",
   "id": "2edad77e-29a1-4f5e-a668-e967345e869d",
   "metadata": {},
   "source": [
    "### 2.2 - Feature \"energy_100g\"\n",
    "Visualiser la distribution de la variable"
   ]
  },
  {
   "cell_type": "code",
   "execution_count": null,
   "id": "4e21d5c2-66d1-4ea0-9b1e-a4d886a7f29e",
   "metadata": {},
   "outputs": [],
   "source": [
    "plt.figure(figsize=(10,3))\n",
    "sns.boxplot(x=X['energy_100g'])\n",
    "plt.show()"
   ]
  },
  {
   "cell_type": "markdown",
   "id": "7942f8a3-1311-4842-b58d-6f613127a639",
   "metadata": {},
   "source": [
    "On peut aussi regarder la méthode basée sur l'IQR. L'IQR est la différence entre le 25e centile (Q1) et le 75e centile (Q3) des données. Les valeurs :\n",
    "- inférieures à Q1 - 1,5 * IQR\n",
    "- ou supérieures à Q3 + 1,5 * IQR\n",
    "\n",
    "sont considérées comme aberrantes."
   ]
  },
  {
   "cell_type": "code",
   "execution_count": null,
   "id": "e2c8bf6a-4e08-4eba-8cbf-e17678aa512e",
   "metadata": {},
   "outputs": [],
   "source": [
    "# On enlève les NaN\n",
    "sample = X[X['energy_100g'].notnull()]\n",
    "\n",
    "# On calcule l'IQR et les limites\n",
    "iqr = np.quantile(sample.energy_100g, q=[0.25, 0.75])\n",
    "limite_basse = iqr[0] - 1.5*(iqr[1] - iqr[0])\n",
    "limite_haute = iqr[1] + 1.5*(iqr[1] - iqr[0])\n",
    "print(\"limite basse :\", limite_basse)\n",
    "print(\"limite haute :\", limite_haute)"
   ]
  },
  {
   "cell_type": "code",
   "execution_count": null,
   "id": "9f83dc76-2ac8-4c68-92ff-394f2add7c04",
   "metadata": {},
   "outputs": [],
   "source": [
    "mask = df['energy_100g'] > limite_haute\n",
    "print(df.loc[mask, ['code', 'product_name', 'energy_100g']])"
   ]
  },
  {
   "cell_type": "markdown",
   "id": "ac8f51dd-472e-4c8f-819e-eb2900427943",
   "metadata": {},
   "source": [
    "Utilisez la méthode du z-score Le z-score mesure de combien d'écarts types une valeur est éloignée de la moyenne de la variable. On considère qu'un z-score supérieur à 2 ou 3 correspond à un outlier."
   ]
  },
  {
   "cell_type": "code",
   "execution_count": null,
   "id": "8303e49d-64fc-4eab-be5c-335db451a3c2",
   "metadata": {},
   "outputs": [],
   "source": [
    "# Calculer le z-score\n",
    "sample['z_energy'] = stats.zscore(sample['energy_100g'])"
   ]
  },
  {
   "cell_type": "code",
   "execution_count": null,
   "id": "9d97d16b-1b59-4e96-aa1c-5334d74fa4a6",
   "metadata": {},
   "outputs": [],
   "source": [
    "mask = df['z_energy'] > 3\n",
    "print(df.loc[mask, ['code', 'product_name', 'energy_100g']])"
   ]
  },
  {
   "cell_type": "code",
   "execution_count": null,
   "id": "a729cd35-0d7b-4151-b444-9d2faa1800be",
   "metadata": {},
   "outputs": [],
   "source": []
  },
  {
   "cell_type": "code",
   "execution_count": null,
   "id": "e59a4270-c460-42ff-a457-13dc73c27680",
   "metadata": {},
   "outputs": [],
   "source": []
  },
  {
   "cell_type": "code",
   "execution_count": null,
   "id": "f1420bc7-7176-4e6a-834b-19c42c4eae66",
   "metadata": {},
   "outputs": [],
   "source": []
  },
  {
   "cell_type": "code",
   "execution_count": null,
   "id": "e84d06b8-d544-424c-9404-e47c92b0c786",
   "metadata": {},
   "outputs": [],
   "source": []
  },
  {
   "cell_type": "code",
   "execution_count": null,
   "id": "6ff28835-6308-44a4-9be2-d328f2f5a2b3",
   "metadata": {},
   "outputs": [],
   "source": []
  },
  {
   "cell_type": "code",
   "execution_count": null,
   "id": "55ba2a4d-e08c-4a19-bb30-e00b8bf56cf5",
   "metadata": {},
   "outputs": [],
   "source": []
  },
  {
   "cell_type": "code",
   "execution_count": null,
   "id": "4ef03a15-8b3a-46e9-a52d-2cfbbff8e384",
   "metadata": {},
   "outputs": [],
   "source": []
  },
  {
   "cell_type": "code",
   "execution_count": null,
   "id": "5db4ae56-4e72-48f2-8d17-0672b65193d8",
   "metadata": {},
   "outputs": [],
   "source": []
  },
  {
   "cell_type": "code",
   "execution_count": null,
   "id": "28b64014-62ca-4b78-9c90-69b4abfc7de8",
   "metadata": {},
   "outputs": [],
   "source": []
  },
  {
   "cell_type": "code",
   "execution_count": null,
   "id": "847a2ace-a46b-4a1c-982c-6f1e95f21d36",
   "metadata": {},
   "outputs": [],
   "source": []
  },
  {
   "cell_type": "code",
   "execution_count": null,
   "id": "9165fe4e-52fb-44a9-bfaa-092ea78e4d47",
   "metadata": {},
   "outputs": [],
   "source": []
  },
  {
   "cell_type": "code",
   "execution_count": null,
   "id": "c00100b6-3738-4e30-a9d3-a92c93ccedf5",
   "metadata": {},
   "outputs": [],
   "source": []
  },
  {
   "cell_type": "code",
   "execution_count": null,
   "id": "18851ed9-d0e4-42b8-9209-06d2d3415e93",
   "metadata": {},
   "outputs": [],
   "source": []
  },
  {
   "cell_type": "code",
   "execution_count": null,
   "id": "374aabba-258f-402d-8d14-84370036034a",
   "metadata": {},
   "outputs": [],
   "source": []
  },
  {
   "cell_type": "code",
   "execution_count": null,
   "id": "0dd320b9-0132-452c-8825-c7aa9400011b",
   "metadata": {},
   "outputs": [],
   "source": []
  },
  {
   "cell_type": "code",
   "execution_count": null,
   "id": "8850828b-7e0e-463f-8e50-f53939a81f79",
   "metadata": {},
   "outputs": [],
   "source": []
  },
  {
   "cell_type": "markdown",
   "id": "77d79291-f641-48c8-8abc-7b2b277befb6",
   "metadata": {},
   "source": [
    "## 3 - Identifier et traiter les valeurs manquantes"
   ]
  },
  {
   "cell_type": "markdown",
   "id": "50c2f964-f772-47b5-9254-97b372be7f32",
   "metadata": {},
   "source": [
    "valeurs aberrantes --> NaN\n",
    "\n",
    "Vérifier les lignes produits qui ont plus de 80% de valeurs manquantes, et les supprimer."
   ]
  },
  {
   "cell_type": "markdown",
   "id": "5d5a4ae6-ec72-4eb2-9a9d-c000b40b8003",
   "metadata": {},
   "source": [
    "- 0\n",
    "- mediane, par groupe possible (genre groupe nutriscore)\n",
    "- iterative inputer (variables corrélées entre elles)\n",
    "- knn"
   ]
  },
  {
   "cell_type": "code",
   "execution_count": null,
   "id": "d8b91783-f54e-4ace-ae1b-3f4377b94142",
   "metadata": {},
   "outputs": [],
   "source": []
  },
  {
   "cell_type": "code",
   "execution_count": null,
   "id": "ef61382b-c602-42ae-833d-5a9107525bed",
   "metadata": {},
   "outputs": [],
   "source": []
  },
  {
   "cell_type": "markdown",
   "id": "60b49583-b3ab-4211-a0d5-0645fb822b9d",
   "metadata": {},
   "source": [
    "## 4 - Effectuer les analyses uni-variées et bi-variées"
   ]
  },
  {
   "cell_type": "code",
   "execution_count": null,
   "id": "22773f2b-cce2-408c-a708-860d3019f81a",
   "metadata": {},
   "outputs": [],
   "source": []
  },
  {
   "cell_type": "code",
   "execution_count": null,
   "id": "bf59b90b-8b84-4fd7-ad74-be5815ad4810",
   "metadata": {},
   "outputs": [],
   "source": []
  },
  {
   "cell_type": "code",
   "execution_count": null,
   "id": "86ac3e32-3ecd-4632-a553-606f79673981",
   "metadata": {},
   "outputs": [],
   "source": []
  },
  {
   "cell_type": "code",
   "execution_count": null,
   "id": "a44c240b-490c-46f4-8599-f15d2f9518cc",
   "metadata": {},
   "outputs": [],
   "source": []
  },
  {
   "cell_type": "markdown",
   "id": "bd6ca0a0-db1d-4a34-8958-65eb813e15b8",
   "metadata": {},
   "source": [
    "## 5 - Réaliser une analyse multi-variée"
   ]
  },
  {
   "cell_type": "code",
   "execution_count": null,
   "id": "779421f9-8f86-45e3-8c6a-5178d3dfc8b7",
   "metadata": {},
   "outputs": [],
   "source": []
  },
  {
   "cell_type": "code",
   "execution_count": null,
   "id": "dc7b9f31-2d04-4696-9a37-e0da2f58bc2a",
   "metadata": {},
   "outputs": [],
   "source": []
  },
  {
   "cell_type": "code",
   "execution_count": null,
   "id": "91b4441c-d447-40b9-851d-a6e1aa0c0230",
   "metadata": {},
   "outputs": [],
   "source": []
  },
  {
   "cell_type": "code",
   "execution_count": null,
   "id": "0156a0ac-8ecd-416d-a31a-b89633944ed2",
   "metadata": {},
   "outputs": [],
   "source": []
  },
  {
   "cell_type": "markdown",
   "id": "57fdeb15-d888-4f64-ad28-0ed00574558a",
   "metadata": {},
   "source": [
    "## 6 - RGPD"
   ]
  },
  {
   "cell_type": "code",
   "execution_count": null,
   "id": "0798cefc-9765-4b2a-ab19-c338dec1ebef",
   "metadata": {},
   "outputs": [],
   "source": []
  },
  {
   "cell_type": "code",
   "execution_count": null,
   "id": "dbb7becf-aede-48ac-9ec1-c5d7eab1bc97",
   "metadata": {},
   "outputs": [],
   "source": []
  }
 ],
 "metadata": {
  "kernelspec": {
   "display_name": "Python 3 (ipykernel)",
   "language": "python",
   "name": "python3"
  },
  "language_info": {
   "codemirror_mode": {
    "name": "ipython",
    "version": 3
   },
   "file_extension": ".py",
   "mimetype": "text/x-python",
   "name": "python",
   "nbconvert_exporter": "python",
   "pygments_lexer": "ipython3",
   "version": "3.11.7"
  }
 },
 "nbformat": 4,
 "nbformat_minor": 5
}
