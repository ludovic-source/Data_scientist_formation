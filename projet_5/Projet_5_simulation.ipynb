{
 "cells": [
  {
   "cell_type": "markdown",
   "id": "214aaa24-fba6-46d1-a73d-b7651996a1ce",
   "metadata": {},
   "source": [
    "# Segmentez des clients d'un site e-commerce - *Notebook simulation*"
   ]
  },
  {
   "cell_type": "code",
   "execution_count": 179,
   "id": "9a71a2cc-a1bb-4c6e-acb5-453c28fa962b",
   "metadata": {},
   "outputs": [
    {
     "name": "stdout",
     "output_type": "stream",
     "text": [
      "numpy version 1.26.4\n",
      "pandas version 2.1.4\n",
      "matplotlib version 3.8.0\n",
      "seaborn version 0.13.2\n",
      "scipy version 1.11.4\n",
      "statsmodels version 0.14.0\n",
      "missingno version 0.5.2\n",
      "sklearn version 1.2.2\n",
      "folium version 0.19.2\n"
     ]
    }
   ],
   "source": [
    "import numpy as np\n",
    "\n",
    "import pandas as pd\n",
    "import matplotlib\n",
    "import matplotlib.pyplot as plt\n",
    "import seaborn as sns\n",
    "from matplotlib.ticker import ScalarFormatter\n",
    "from matplotlib.ticker import FuncFormatter\n",
    "import scipy\n",
    "from scipy import stats\n",
    "import scipy.stats as st\n",
    "\n",
    "import statsmodels\n",
    "import statsmodels.api as sm\n",
    "import missingno as msno\n",
    "\n",
    "import sklearn\n",
    "\n",
    "from sklearn.impute import KNNImputer\n",
    "from category_encoders.ordinal import OrdinalEncoder\n",
    "from sklearn.preprocessing import LabelEncoder\n",
    "from sklearn.preprocessing import OneHotEncoder\n",
    "from sklearn.preprocessing import QuantileTransformer\n",
    "from category_encoders import TargetEncoder\n",
    "\n",
    "# pour le centrage et la réduction\n",
    "from sklearn.preprocessing import StandardScaler\n",
    "# pour l'ACP\n",
    "from sklearn.decomposition import PCA\n",
    "\n",
    "from sklearn import model_selection\n",
    "from sklearn.model_selection import GridSearchCV\n",
    "\n",
    "from sklearn import metrics\n",
    "from sklearn.metrics import roc_curve, auc, confusion_matrix\n",
    "from sklearn.metrics import silhouette_score, silhouette_samples\n",
    "from sklearn.metrics import adjusted_rand_score\n",
    "from sklearn.datasets import make_blobs\n",
    "\n",
    "from sklearn import neighbors\n",
    "from sklearn.neighbors import KNeighborsClassifier\n",
    "\n",
    "from sklearn import datasets\n",
    "from sklearn.cluster import KMeans\n",
    "from sklearn.cluster import AgglomerativeClustering\n",
    "from sklearn.cluster import DBSCAN\n",
    "\n",
    "from sklearn.manifold import TSNE\n",
    "\n",
    "from sklearn.utils import resample\n",
    "\n",
    "from yellowbrick.cluster import KElbowVisualizer\n",
    "\n",
    "from scipy.cluster.hierarchy import dendrogram, linkage\n",
    "\n",
    "import timeit\n",
    "import warnings\n",
    "\n",
    "from datetime import datetime, timedelta\n",
    "\n",
    "# pour cartographie\n",
    "import folium\n",
    "import cartopy.crs as ccrs\n",
    "import geopandas as gpd\n",
    "import contextily as ctx\n",
    "\n",
    "import sqlite3\n",
    "\n",
    "print(\"numpy version\", np.__version__)\n",
    "print(\"pandas version\", pd.__version__)\n",
    "print(\"matplotlib version\", matplotlib.__version__)\n",
    "print(\"seaborn version\", sns.__version__)\n",
    "print(\"scipy version\", scipy.__version__)\n",
    "print(\"statsmodels version\", statsmodels.__version__)\n",
    "print(\"missingno version\", msno.__version__)\n",
    "\n",
    "print(\"sklearn version\", sklearn.__version__)\n",
    "\n",
    "print(\"folium version\", folium.__version__)\n",
    "\n",
    "pd.options.display.max_rows = 200\n",
    "pd.options.display.max_columns = 100"
   ]
  },
  {
   "cell_type": "markdown",
   "id": "ca8260ae-fb13-4a5a-9bcf-d6815ee576fc",
   "metadata": {},
   "source": [
    "## 1 - Démarche\n",
    "\n",
    "J'utiliserais les mêmes features que celles utilisées dans le 2ème essai; c'est à dire :\n",
    "- récence\n",
    "- fréquence\n",
    "- montant\n",
    "- score_moyen\n",
    "\n",
    "Voici les étapes :\n",
    "- **T0 :** entraînement initial du modèle M0 sur le dataset X_0, créé à partir de toutes les commandes passées jusqu’à T0.\n",
    "    - L'entraînement de ce modème génére la liste des clusters C0=M0.fit_predict(X_0).\n",
    "- **T1 :**  entrainement du nouveau modème M1 sur le dataset X_1, créé à partir de toutes les commandes passées jusqu’à T1.\n",
    "    - L'entraînement de ce modème génére la liste des clusters C1_new=M1.fit_predict(X_1).\n",
    "    - On fait ensuite une nouvelle prédiction avec M0 sur M1 ==> C1_init = M0.predict(X_1).\n",
    "    - On calcule l'ARI entre C1 et C1_init avec adjusted_rand_score avec sklearn.\n",
    "- **T2 :**  entrainement du nouveau modème M2 sur le dataset X_2, créé à partir de toutes les commandes passées jusqu’à T2.\n",
    "    - L'entraînement de ce modème génére la liste des clusters C2_new=M2.fit_predict(X_2).\n",
    "    - On fait ensuite une nouvelle prédiction avec M0 sur M2 ==> C2_init = M0.predict(X_2).\n",
    "    - On calcule l'ARI entre C2_new et C2_init avec adjusted_rand_score avec sklearn.         "
   ]
  },
  {
   "cell_type": "markdown",
   "id": "b1302511-8b77-4b7a-a61e-ce0ac1c0253b",
   "metadata": {},
   "source": [
    "## 2 - Création d'une fonction d'extraction du jeu de données par date Ti\n",
    "\n",
    "J'utilise un accès direct à la base de données olist.db.\n",
    "\n",
    "La fonction créée pour extraire les données de la base prends le paramètre date_select (T0, T1, T2,...).\n",
    "\n",
    "Les données extraites sont chargées dans un dataframe."
   ]
  },
  {
   "cell_type": "code",
   "execution_count": 118,
   "id": "bc3b6e56-5b2d-4bc7-adab-87cba622a87f",
   "metadata": {},
   "outputs": [],
   "source": [
    "def get_olist_data_per_order_purchase_timestamp(maxDate):\n",
    "\n",
    "    \"\"\"\n",
    "    Récupère les données agrégées des commandes à une date spécifiée à partir de la base de données Olist.\n",
    "\n",
    "    Cette fonction exécute une requête SQL pour calculer les métriques RFM (Récence, Fréquence, Montant) \n",
    "    ainsi que le score moyen des avis clients pour chaque client unique, en utilisant une date d'achat \n",
    "    maximale comme référence. Elle retourne un DataFrame contenant ces métriques agrégées.\n",
    "\n",
    "    Args:\n",
    "        maxDate (str): La date et l'heure maximale pour les commandes à analyser, au format \n",
    "                       'YYYY-MM-DD HH:MM:SS'.\n",
    "\n",
    "    Returns:\n",
    "        pandas.DataFrame: Un DataFrame avec les colonnes suivantes pour chaque client unique :\n",
    "            - recence (int): Nombre de jours depuis la dernière commande.\n",
    "            - frequence (int): Nombre de commandes distinctes passées par le client.\n",
    "            - montant (float): Montant total dépensé par le client.\n",
    "            - score_moyen (float): Note moyenne des avis donnés par le client.\n",
    "\n",
    "    Raises:\n",
    "        sqlite3.OperationalError: Si une erreur survient lors de l'exécution de la requête SQL.\n",
    "        sqlite3.ProgrammingError: Si les paramètres de la requête ne correspondent pas au nombre attendu.\n",
    "\n",
    "    Example:\n",
    "        >>> df = get_olist_data_per_order_purchase_timestamp(\"2018-10-17 17:30:18\")\n",
    "        >>> print(df.head())\n",
    "\n",
    "    Notes:\n",
    "        - Cette fonction utilise SQLite pour interagir avec la base de données.\n",
    "        - La connexion à la base de données est fermée après l'exécution.\n",
    "        - La colonne \"customer_unique_id\" est exclue du DataFrame retourné.\n",
    "    \"\"\"\n",
    "    \n",
    "    # Connexion à une base SQLite (ou création si elle n'existe pas)\n",
    "    conn = sqlite3.connect('C:/Users/admin/Documents/Projets/Projet_5/olist.db')\n",
    "    \n",
    "    # Créer un curseur\n",
    "    cursor = conn.cursor()\n",
    "\n",
    "    # Requête SQL\n",
    "    query = \"\"\"\n",
    "                WITH orders_filter AS (\n",
    "                \tSELECT * \n",
    "                \t\tFROM orders o \n",
    "                \t\tWHERE o.order_purchase_timestamp < :maxDate\n",
    "                ),\n",
    "                latest_order AS(\n",
    "                \tSELECT max(order_purchase_timestamp) AS max_purchase_date\n",
    "                FROM orders_filter\n",
    "                ),\n",
    "                orders_join_rfm AS(\n",
    "                \tSELECT c.customer_unique_id,\n",
    "                \t       CAST(julianday((SELECT max_purchase_date FROM latest_order)) - julianday(MAX(o.order_purchase_timestamp)) AS INTEGER) AS recence,\n",
    "                    \t   COUNT(DISTINCT o.order_id) AS frequence,\n",
    "                    \t   SUM(oi.price) AS montant\n",
    "                \t    FROM customers c\n",
    "                \t    LEFT JOIN orders_filter o ON c.customer_id = o.customer_id\n",
    "                \t    LEFT JOIN order_items oi ON o.order_id = oi.order_id\n",
    "                \t\tGROUP BY c.customer_unique_id\n",
    "                ),\n",
    "                review_joins AS(\n",
    "                \tSELECT c.customer_unique_id, AVG(or2.review_score) AS score_moyen\n",
    "                \t\tFROM customers c\n",
    "                \t\tINNER JOIN orders_filter o ON o.customer_id = c.customer_id\n",
    "                \t\tINNER JOIN order_reviews or2 ON or2.order_id = o.order_id\n",
    "                \t\tGROUP BY c.customer_unique_id \n",
    "                ),\n",
    "                aggregation AS(\n",
    "                \tSELECT orfm.customer_unique_id, recence, frequence, montant, score_moyen\n",
    "                \t\tFROM orders_join_rfm orfm\n",
    "                \t\tLEFT JOIN review_joins rj ON rj.customer_unique_id = orfm.customer_unique_id\n",
    "                )\n",
    "                SELECT * \n",
    "                \tFROM aggregation\n",
    "                \tWHERE recence IS NOT NULL;\n",
    "            \"\"\"         \n",
    "\n",
    "    # Exécution avec paramètre pour maxDate\n",
    "    cursor.execute(query, {'maxDate': maxDate})\n",
    "    rows = cursor.fetchall()\n",
    "\n",
    "    # Fermer la connexion\n",
    "    conn.close()\n",
    "    \n",
    "    # Obtenir les noms de colonnes\n",
    "    columns = [description[0] for description in cursor.description]\n",
    "\n",
    "    # Convertir en DataFrame\n",
    "    df = pd.DataFrame(rows, columns=[\"customer_unique_id\", \"recence\", \"frequence\", \"montant\", \"score_moyen\"])\n",
    "    df.drop('customer_unique_id', axis=1, inplace=True)    \n",
    "    \n",
    "    return df"
   ]
  },
  {
   "cell_type": "markdown",
   "id": "fd995328-5fb0-46f6-b35d-8ec64885b1d2",
   "metadata": {},
   "source": [
    "Testons la fonction :"
   ]
  },
  {
   "cell_type": "code",
   "execution_count": 70,
   "id": "5d2cc0eb-ce7b-4bab-b8aa-2ce7f6c2d57f",
   "metadata": {},
   "outputs": [
    {
     "data": {
      "text/html": [
       "<div>\n",
       "<style scoped>\n",
       "    .dataframe tbody tr th:only-of-type {\n",
       "        vertical-align: middle;\n",
       "    }\n",
       "\n",
       "    .dataframe tbody tr th {\n",
       "        vertical-align: top;\n",
       "    }\n",
       "\n",
       "    .dataframe thead th {\n",
       "        text-align: right;\n",
       "    }\n",
       "</style>\n",
       "<table border=\"1\" class=\"dataframe\">\n",
       "  <thead>\n",
       "    <tr style=\"text-align: right;\">\n",
       "      <th></th>\n",
       "      <th>recence</th>\n",
       "      <th>frequence</th>\n",
       "      <th>montant</th>\n",
       "      <th>score_moyen</th>\n",
       "    </tr>\n",
       "  </thead>\n",
       "  <tbody>\n",
       "    <tr>\n",
       "      <th>0</th>\n",
       "      <td>160</td>\n",
       "      <td>1</td>\n",
       "      <td>129.90</td>\n",
       "      <td>5.0</td>\n",
       "    </tr>\n",
       "    <tr>\n",
       "      <th>1</th>\n",
       "      <td>163</td>\n",
       "      <td>1</td>\n",
       "      <td>18.90</td>\n",
       "      <td>4.0</td>\n",
       "    </tr>\n",
       "    <tr>\n",
       "      <th>2</th>\n",
       "      <td>585</td>\n",
       "      <td>1</td>\n",
       "      <td>69.00</td>\n",
       "      <td>3.0</td>\n",
       "    </tr>\n",
       "    <tr>\n",
       "      <th>3</th>\n",
       "      <td>369</td>\n",
       "      <td>1</td>\n",
       "      <td>25.99</td>\n",
       "      <td>4.0</td>\n",
       "    </tr>\n",
       "    <tr>\n",
       "      <th>4</th>\n",
       "      <td>336</td>\n",
       "      <td>1</td>\n",
       "      <td>180.00</td>\n",
       "      <td>5.0</td>\n",
       "    </tr>\n",
       "  </tbody>\n",
       "</table>\n",
       "</div>"
      ],
      "text/plain": [
       "   recence  frequence  montant  score_moyen\n",
       "0      160          1   129.90          5.0\n",
       "1      163          1    18.90          4.0\n",
       "2      585          1    69.00          3.0\n",
       "3      369          1    25.99          4.0\n",
       "4      336          1   180.00          5.0"
      ]
     },
     "execution_count": 70,
     "metadata": {},
     "output_type": "execute_result"
    }
   ],
   "source": [
    "df = get_olist_data_per_order_purchase_timestamp(\"2018-10-17 17:30:18\")\n",
    "\n",
    "df.head()"
   ]
  },
  {
   "cell_type": "code",
   "execution_count": 61,
   "id": "d25deff2-5414-4d68-8689-dcbee04f9728",
   "metadata": {},
   "outputs": [
    {
     "data": {
      "text/plain": [
       "(96096, 4)"
      ]
     },
     "execution_count": 61,
     "metadata": {},
     "output_type": "execute_result"
    }
   ],
   "source": [
    "df.shape"
   ]
  },
  {
   "cell_type": "markdown",
   "id": "b6a26fd1-ba6f-466f-af1f-5258dba42f34",
   "metadata": {},
   "source": [
    "## 3 - Création des fonctions de transformation et d'affichage\n",
    "\n",
    "### 3.1 - Création d'une fonction de transformation des données"
   ]
  },
  {
   "cell_type": "code",
   "execution_count": 99,
   "id": "82e24584-05fd-4309-825f-f3a93611dfce",
   "metadata": {},
   "outputs": [],
   "source": [
    "def transform_df(df):\n",
    "\n",
    "    \"\"\"\n",
    "    Transforme les données d'un DataFrame en appliquant des traitements sur certaines colonnes.\n",
    "\n",
    "    Cette fonction effectue plusieurs étapes de prétraitement des données :\n",
    "    - Remplace les valeurs manquantes (NaN) dans les colonnes 'score_moyen' et 'montant' par la médiane de chaque colonne.\n",
    "    - Applique une transformation des colonnes 'montant', 'recence' et 'frequence' en utilisant un `QuantileTransformer` pour normaliser les données.\n",
    "    - Ajoute les nouvelles colonnes normalisées au DataFrame.\n",
    "    - Supprime les anciennes colonnes 'montant', 'recence' et 'frequence'.\n",
    "\n",
    "    Args:\n",
    "        df (pandas.DataFrame): Le DataFrame contenant les données à transformer. Il doit inclure les colonnes 'score_moyen', \n",
    "                               'montant', 'recence', et 'frequence'.\n",
    "\n",
    "    Returns:\n",
    "        pandas.DataFrame: Le DataFrame transformé avec les nouvelles colonnes normalisées 'montant_norm', 'recence_norm', \n",
    "                          et 'frequence_norm' et sans les anciennes colonnes 'montant', 'recence', 'frequence'.\n",
    "\n",
    "    Example:\n",
    "        >>> df = pd.DataFrame({\n",
    "        >>>     'score_moyen': [4.5, np.nan, 3.0, 5.0],\n",
    "        >>>     'montant': [200, 300, np.nan, 150],\n",
    "        >>>     'recence': [10, 20, 30, 40],\n",
    "        >>>     'frequence': [1, 2, 3, 4]\n",
    "        >>> })\n",
    "        >>> transformed_df = transform_df(df)\n",
    "        >>> print(transformed_df.head())\n",
    "\n",
    "    Notes:\n",
    "        - La fonction utilise `QuantileTransformer` avec une distribution normale pour normaliser les colonnes numériques.\n",
    "        - Les valeurs manquantes dans 'score_moyen' et 'montant' sont remplacées par leur médiane respective.\n",
    "    \"\"\"\n",
    "    \n",
    "    # Remplacer les NaN de la feature \"score_moyen\" par la médiane\n",
    "    df['score_moyen'] = df['score_moyen'].fillna(df['score_moyen'].median())\n",
    "\n",
    "    # Remplacer les NaN de la feature \"montant\" par la médiane\n",
    "    df['montant'] = df['montant'].fillna(df['montant'].median())\n",
    "\n",
    "    # Application de QuantileTransformer (par défaut, transforme en distribution uniforme)\n",
    "    quantile_transformer = QuantileTransformer(output_distribution='normal', random_state=42)\n",
    "    df_transformed = quantile_transformer.fit_transform(df[['montant', 'recence', 'frequence']])\n",
    "\n",
    "    # Conversion en DataFrame\n",
    "    columns_to_transform = ['montant_norm', 'recence_norm', 'frequence_norm']\n",
    "    df_transformed = pd.DataFrame(df_transformed, columns=columns_to_transform)\n",
    "\n",
    "    # Ajoutons les nouvelles colonnes\n",
    "    df_transformed.index = df.index\n",
    "    df[columns_to_transform] = df_transformed\n",
    "    \n",
    "    # Supprimons les anciennes\n",
    "    df.drop(['montant', 'recence', 'frequence'], axis=1, inplace=True) \n",
    "\n",
    "    return df"
   ]
  },
  {
   "cell_type": "markdown",
   "id": "7a5fbeb6-9d98-4c9a-8cf2-b71fa1b190b6",
   "metadata": {},
   "source": [
    "### 3.2 - Création d'une fonction d'affichage des distributions"
   ]
  },
  {
   "cell_type": "code",
   "execution_count": 158,
   "id": "4155ba28-83ce-4220-9033-4d36c34d0d77",
   "metadata": {},
   "outputs": [],
   "source": [
    "def print_features_distribution(df):\n",
    "\n",
    "    \"\"\"\n",
    "    Affiche des histogrammes pour chaque colonne d'un DataFrame.\n",
    "\n",
    "    Cette fonction génère un graphique avec des histogrammes pour chaque colonne numérique\n",
    "    d'un DataFrame. Chaque histogramme représente la distribution des valeurs dans une\n",
    "    colonne donnée. Les histogrammes sont organisés dans une grille de sous-graphes.\n",
    "\n",
    "    Args:\n",
    "        df (pandas.DataFrame): Le DataFrame contenant les colonnes pour lesquelles les distributions\n",
    "                               doivent être affichées. Le DataFrame doit contenir des données numériques.\n",
    "\n",
    "    Returns:\n",
    "        None: La fonction génère simplement un graphique et l'affiche à l'écran. Aucun objet n'est retourné.\n",
    "\n",
    "    Example:\n",
    "        >>> df = pd.DataFrame({\n",
    "        >>>     'feature_1': [1, 2, 2, 3, 3, 4, 5],\n",
    "        >>>     'feature_2': [2, 3, 3, 4, 5, 5, 6]\n",
    "        >>> })\n",
    "        >>> print_features_distribution(df)\n",
    "\n",
    "    Notes:\n",
    "        - La fonction utilise `matplotlib.pyplot` pour la création des graphiques.\n",
    "        - Les histogrammes sont affichés sur une grille de 3 lignes et 4 colonnes (maximum 12 graphiques).\n",
    "    \"\"\"\n",
    "    \n",
    "    # Créer des histogrammes pour chaque colonne\n",
    "    fig = plt.figure(figsize=(14, 10))\n",
    "    for feat_idx in range(df.shape[1]):  # Pour chaque colonne\n",
    "        ax = fig.add_subplot(3, 4, feat_idx + 1)  # Ajouter à la grille\n",
    "        h = ax.hist(df.iloc[:, feat_idx], bins=50, color=\"steelblue\", edgecolor=\"none\")\n",
    "        ax.set_title(df.columns[feat_idx], fontsize=14)\n",
    "    \n",
    "    plt.tight_layout()\n",
    "    plt.show()"
   ]
  },
  {
   "cell_type": "code",
   "execution_count": null,
   "id": "4205e0b9-7b8b-4caa-a7e5-784cb877970b",
   "metadata": {},
   "outputs": [],
   "source": []
  },
  {
   "cell_type": "code",
   "execution_count": null,
   "id": "6f42ca74-92c6-4e68-8dd7-ff6a7d86e2e9",
   "metadata": {},
   "outputs": [],
   "source": []
  },
  {
   "cell_type": "code",
   "execution_count": null,
   "id": "ccfef97e-c513-4237-81c3-fa5a92068fec",
   "metadata": {},
   "outputs": [],
   "source": []
  },
  {
   "cell_type": "code",
   "execution_count": null,
   "id": "7188c770-bc47-4189-bccd-3830ac78bf3b",
   "metadata": {},
   "outputs": [],
   "source": []
  },
  {
   "cell_type": "code",
   "execution_count": null,
   "id": "79a4eefe-df92-4ae0-b57b-893e338967a9",
   "metadata": {},
   "outputs": [],
   "source": []
  },
  {
   "cell_type": "markdown",
   "id": "a0df5653-eb54-4860-9ea7-79eb9685561e",
   "metadata": {},
   "source": [
    "## 4 - Simulation\n",
    "\n",
    "### 4.1 - T0 - initialisation\n",
    "\n",
    "**Préparation du jeu de données**\n",
    "\n",
    "Sélection des commandes passées jusqu'à T0."
   ]
  },
  {
   "cell_type": "code",
   "execution_count": 120,
   "id": "b60e6314-055a-450b-b122-2b39624ef6c3",
   "metadata": {},
   "outputs": [
    {
     "data": {
      "text/html": [
       "<div>\n",
       "<style scoped>\n",
       "    .dataframe tbody tr th:only-of-type {\n",
       "        vertical-align: middle;\n",
       "    }\n",
       "\n",
       "    .dataframe tbody tr th {\n",
       "        vertical-align: top;\n",
       "    }\n",
       "\n",
       "    .dataframe thead th {\n",
       "        text-align: right;\n",
       "    }\n",
       "</style>\n",
       "<table border=\"1\" class=\"dataframe\">\n",
       "  <thead>\n",
       "    <tr style=\"text-align: right;\">\n",
       "      <th></th>\n",
       "      <th>recence</th>\n",
       "      <th>frequence</th>\n",
       "      <th>montant</th>\n",
       "      <th>score_moyen</th>\n",
       "    </tr>\n",
       "  </thead>\n",
       "  <tbody>\n",
       "    <tr>\n",
       "      <th>0</th>\n",
       "      <td>296</td>\n",
       "      <td>1</td>\n",
       "      <td>69.00</td>\n",
       "      <td>3.0</td>\n",
       "    </tr>\n",
       "    <tr>\n",
       "      <th>1</th>\n",
       "      <td>80</td>\n",
       "      <td>1</td>\n",
       "      <td>25.99</td>\n",
       "      <td>4.0</td>\n",
       "    </tr>\n",
       "    <tr>\n",
       "      <th>2</th>\n",
       "      <td>47</td>\n",
       "      <td>1</td>\n",
       "      <td>180.00</td>\n",
       "      <td>5.0</td>\n",
       "    </tr>\n",
       "    <tr>\n",
       "      <th>3</th>\n",
       "      <td>301</td>\n",
       "      <td>1</td>\n",
       "      <td>135.00</td>\n",
       "      <td>4.0</td>\n",
       "    </tr>\n",
       "    <tr>\n",
       "      <th>4</th>\n",
       "      <td>166</td>\n",
       "      <td>1</td>\n",
       "      <td>13.90</td>\n",
       "      <td>3.0</td>\n",
       "    </tr>\n",
       "  </tbody>\n",
       "</table>\n",
       "</div>"
      ],
      "text/plain": [
       "   recence  frequence  montant  score_moyen\n",
       "0      296          1    69.00          3.0\n",
       "1       80          1    25.99          4.0\n",
       "2       47          1   180.00          5.0\n",
       "3      301          1   135.00          4.0\n",
       "4      166          1    13.90          3.0"
      ]
     },
     "execution_count": 120,
     "metadata": {},
     "output_type": "execute_result"
    }
   ],
   "source": [
    "X_0 = get_olist_data_per_order_purchase_timestamp(\"2017-12-31 23:59:59\")\n",
    "X_0.head()"
   ]
  },
  {
   "cell_type": "code",
   "execution_count": 121,
   "id": "86474950-31bd-4793-8d59-456efbf01314",
   "metadata": {},
   "outputs": [
    {
     "data": {
      "text/plain": [
       "(44034, 4)"
      ]
     },
     "execution_count": 121,
     "metadata": {},
     "output_type": "execute_result"
    }
   ],
   "source": [
    "X_0.shape"
   ]
  },
  {
   "cell_type": "markdown",
   "id": "55585d74-2185-41bc-bfea-602f3ad7f9e1",
   "metadata": {},
   "source": [
    "Distribution avant la transformation :"
   ]
  },
  {
   "cell_type": "code",
   "execution_count": 124,
   "id": "71588cba-62d8-44c7-96ff-67085030d5ce",
   "metadata": {},
   "outputs": [
    {
     "data": {
      "image/png": "[encoded data removed]",
      "text/plain": [
       "<Figure size 1400x1000 with 4 Axes>"
      ]
     },
     "metadata": {},
     "output_type": "display_data"
    }
   ],
   "source": [
    "print_features_distribution(X_0)"
   ]
  },
  {
   "cell_type": "markdown",
   "id": "55121fdb-f055-488d-a834-5b511be1b2e0",
   "metadata": {},
   "source": [
    "Transformation des données :"
   ]
  },
  {
   "cell_type": "code",
   "execution_count": 126,
   "id": "4bf13804-cdc3-41c7-abb0-f6f8f5f515b4",
   "metadata": {},
   "outputs": [
    {
     "data": {
      "text/plain": [
       "(44034, 4)"
      ]
     },
     "execution_count": 126,
     "metadata": {},
     "output_type": "execute_result"
    }
   ],
   "source": [
    "X_0 = transform_df(X_0)\n",
    "X_0.shape"
   ]
  },
  {
   "cell_type": "markdown",
   "id": "8958b052-2d81-4356-a69d-4fc53280dc8d",
   "metadata": {},
   "source": [
    "Distribution après la transformation :"
   ]
  },
  {
   "cell_type": "code",
   "execution_count": 160,
   "id": "a21a389f-8b49-4ac5-9bd8-eb8f8fe5a015",
   "metadata": {},
   "outputs": [
    {
     "data": {
      "image/png": "[encoded data removed]",
      "text/plain": [
       "<Figure size 1400x1000 with 4 Axes>"
      ]
     },
     "metadata": {},
     "output_type": "display_data"
    }
   ],
   "source": [
    "print_features_distribution(X_0)"
   ]
  },
  {
   "cell_type": "markdown",
   "id": "fc59e11f-6bc5-4e3f-9f09-0fa46e29ad46",
   "metadata": {},
   "source": [
    "Centrer et réduire les données :"
   ]
  },
  {
   "cell_type": "code",
   "execution_count": 137,
   "id": "ba773bb2-13c7-4cb3-9ee3-ed645796ef59",
   "metadata": {},
   "outputs": [
    {
     "data": {
      "text/html": [
       "<div>\n",
       "<style scoped>\n",
       "    .dataframe tbody tr th:only-of-type {\n",
       "        vertical-align: middle;\n",
       "    }\n",
       "\n",
       "    .dataframe tbody tr th {\n",
       "        vertical-align: top;\n",
       "    }\n",
       "\n",
       "    .dataframe thead th {\n",
       "        text-align: right;\n",
       "    }\n",
       "</style>\n",
       "<table border=\"1\" class=\"dataframe\">\n",
       "  <thead>\n",
       "    <tr style=\"text-align: right;\">\n",
       "      <th></th>\n",
       "      <th>score_moyen</th>\n",
       "      <th>montant_norm</th>\n",
       "      <th>recence_norm</th>\n",
       "      <th>frequence_norm</th>\n",
       "    </tr>\n",
       "  </thead>\n",
       "  <tbody>\n",
       "    <tr>\n",
       "      <th>count</th>\n",
       "      <td>4.403400e+04</td>\n",
       "      <td>4.403400e+04</td>\n",
       "      <td>4.403400e+04</td>\n",
       "      <td>4.403400e+04</td>\n",
       "    </tr>\n",
       "    <tr>\n",
       "      <th>mean</th>\n",
       "      <td>-3.992103e-16</td>\n",
       "      <td>-1.670100e-17</td>\n",
       "      <td>-2.904521e-18</td>\n",
       "      <td>-3.059429e-16</td>\n",
       "    </tr>\n",
       "    <tr>\n",
       "      <th>std</th>\n",
       "      <td>1.000011e+00</td>\n",
       "      <td>1.000011e+00</td>\n",
       "      <td>1.000011e+00</td>\n",
       "      <td>1.000011e+00</td>\n",
       "    </tr>\n",
       "    <tr>\n",
       "      <th>min</th>\n",
       "      <td>-2.316347e+00</td>\n",
       "      <td>-5.233219e+00</td>\n",
       "      <td>-5.206437e+00</td>\n",
       "      <td>-1.717648e-01</td>\n",
       "    </tr>\n",
       "    <tr>\n",
       "      <th>25%</th>\n",
       "      <td>-6.674541e-02</td>\n",
       "      <td>-6.882184e-01</td>\n",
       "      <td>-6.619773e-01</td>\n",
       "      <td>-1.717648e-01</td>\n",
       "    </tr>\n",
       "    <tr>\n",
       "      <th>50%</th>\n",
       "      <td>6.831219e-01</td>\n",
       "      <td>1.188479e-02</td>\n",
       "      <td>1.016182e-03</td>\n",
       "      <td>-1.717648e-01</td>\n",
       "    </tr>\n",
       "    <tr>\n",
       "      <th>75%</th>\n",
       "      <td>6.831219e-01</td>\n",
       "      <td>6.844371e-01</td>\n",
       "      <td>6.655359e-01</td>\n",
       "      <td>-1.717648e-01</td>\n",
       "    </tr>\n",
       "    <tr>\n",
       "      <th>max</th>\n",
       "      <td>6.831219e-01</td>\n",
       "      <td>5.199084e+00</td>\n",
       "      <td>5.195919e+00</td>\n",
       "      <td>8.184495e+00</td>\n",
       "    </tr>\n",
       "  </tbody>\n",
       "</table>\n",
       "</div>"
      ],
      "text/plain": [
       "        score_moyen  montant_norm  recence_norm  frequence_norm\n",
       "count  4.403400e+04  4.403400e+04  4.403400e+04    4.403400e+04\n",
       "mean  -3.992103e-16 -1.670100e-17 -2.904521e-18   -3.059429e-16\n",
       "std    1.000011e+00  1.000011e+00  1.000011e+00    1.000011e+00\n",
       "min   -2.316347e+00 -5.233219e+00 -5.206437e+00   -1.717648e-01\n",
       "25%   -6.674541e-02 -6.882184e-01 -6.619773e-01   -1.717648e-01\n",
       "50%    6.831219e-01  1.188479e-02  1.016182e-03   -1.717648e-01\n",
       "75%    6.831219e-01  6.844371e-01  6.655359e-01   -1.717648e-01\n",
       "max    6.831219e-01  5.199084e+00  5.195919e+00    8.184495e+00"
      ]
     },
     "execution_count": 137,
     "metadata": {},
     "output_type": "execute_result"
    }
   ],
   "source": [
    "X_scale_0 = StandardScaler().fit_transform(X_0)\n",
    "df_0 = pd.DataFrame(X_scale_0, columns=X_0.columns)\n",
    "df_0.describe()"
   ]
  },
  {
   "cell_type": "markdown",
   "id": "0d35ea36-66f3-4e84-a179-9d2babae0187",
   "metadata": {},
   "source": [
    "**Entraînement**\n",
    "\n",
    "Entraînement initial du modèle M0 sur le dataset X_0, créé à partir de toutes les commandes passées jusqu’à T0.\n",
    "\n",
    "Appliquons le clustering avec k-means et k = 5 :"
   ]
  },
  {
   "cell_type": "code",
   "execution_count": 182,
   "id": "35348622-55a6-4eea-ab59-473c47e8f598",
   "metadata": {},
   "outputs": [],
   "source": [
    "warnings.filterwarnings(\"ignore\")"
   ]
  },
  {
   "cell_type": "code",
   "execution_count": 167,
   "id": "58ad63c5-7718-4150-a954-8d116a990f12",
   "metadata": {},
   "outputs": [
    {
     "name": "stderr",
     "output_type": "stream",
     "text": [
      "C:\\Users\\admin\\anaconda3\\Lib\\site-packages\\sklearn\\cluster\\_kmeans.py:870: FutureWarning: The default value of `n_init` will change from 10 to 'auto' in 1.4. Set the value of `n_init` explicitly to suppress the warning\n",
      "  warnings.warn(\n"
     ]
    }
   ],
   "source": [
    "M0 = KMeans(n_clusters=5, random_state=42)\n",
    "C0 = M0.fit_predict(X_scale_0)"
   ]
  },
  {
   "cell_type": "markdown",
   "id": "3ded7387-fef9-48d8-b9f1-d4f6ecda91a2",
   "metadata": {},
   "source": [
    "Affichons la distribution des clusters :"
   ]
  },
  {
   "cell_type": "code",
   "execution_count": 174,
   "id": "6fb2dcc5-5b03-4bd0-959b-5cda4f9a1a02",
   "metadata": {},
   "outputs": [
    {
     "data": {
      "image/png": "[encoded data removed]",
      "text/plain": [
       "<Figure size 800x550 with 1 Axes>"
      ]
     },
     "metadata": {},
     "output_type": "display_data"
    }
   ],
   "source": [
    "sns.histplot(data=C0)\n",
    "plt.title('Histplot of cluster à T0', fontsize=16)\n",
    "plt.show()"
   ]
  },
  {
   "cell_type": "markdown",
   "id": "766f5a41-6fa5-4146-bee2-d990fc15244d",
   "metadata": {},
   "source": [
    "### 4.2 - Itérations\n",
    "\n",
    "Le principe est d'itérer sur chaque date Ti et de sauvegarder les résultats pour les afficher sur un graphiqyue après toutes les itérations.\n",
    "\n",
    "Je démarre sur des cylces de 1 semaine."
   ]
  },
  {
   "cell_type": "code",
   "execution_count": 184,
   "id": "99fd4752-e764-4a93-9786-feed77a70379",
   "metadata": {},
   "outputs": [
    {
     "ename": "ValueError",
     "evalue": "Input X contains NaN.\nKMeans does not accept missing values encoded as NaN natively. For supervised learning, you might want to consider sklearn.ensemble.HistGradientBoostingClassifier and Regressor which accept missing values encoded as NaNs natively. Alternatively, it is possible to preprocess the data, for instance by using an imputer transformer in a pipeline or drop samples with missing values. See https://scikit-learn.org/stable/modules/impute.html You can find a list of all estimators that handle NaN values at the following page: https://scikit-learn.org/stable/modules/impute.html#estimators-that-handle-nan-values",
     "output_type": "error",
     "traceback": [
      "\u001b[1;31m---------------------------------------------------------------------------\u001b[0m",
      "\u001b[1;31mValueError\u001b[0m                                Traceback (most recent call last)",
      "Cell \u001b[1;32mIn[184], line 27\u001b[0m\n\u001b[0;32m     24\u001b[0m X_scale_ \u001b[38;5;241m=\u001b[39m StandardScaler()\u001b[38;5;241m.\u001b[39mfit_transform(X_)\n\u001b[0;32m     26\u001b[0m \u001b[38;5;66;03m# Appliquer le clustering sur le modèle initial\u001b[39;00m\n\u001b[1;32m---> 27\u001b[0m C_init \u001b[38;5;241m=\u001b[39m M0\u001b[38;5;241m.\u001b[39mpredict(X_scale_)\n\u001b[0;32m     29\u001b[0m \u001b[38;5;66;03m# Appliquer le clustering sur le nouveau modèle\u001b[39;00m\n\u001b[0;32m     30\u001b[0m M_ \u001b[38;5;241m=\u001b[39m KMeans(n_clusters\u001b[38;5;241m=\u001b[39m\u001b[38;5;241m5\u001b[39m, random_state\u001b[38;5;241m=\u001b[39m\u001b[38;5;241m42\u001b[39m)\n",
      "File \u001b[1;32m~\\anaconda3\\Lib\\site-packages\\sklearn\\cluster\\_kmeans.py:1058\u001b[0m, in \u001b[0;36m_BaseKMeans.predict\u001b[1;34m(self, X, sample_weight)\u001b[0m\n\u001b[0;32m   1036\u001b[0m \u001b[38;5;250m\u001b[39m\u001b[38;5;124;03m\"\"\"Predict the closest cluster each sample in X belongs to.\u001b[39;00m\n\u001b[0;32m   1037\u001b[0m \n\u001b[0;32m   1038\u001b[0m \u001b[38;5;124;03mIn the vector quantization literature, `cluster_centers_` is called\u001b[39;00m\n\u001b[1;32m   (...)\u001b[0m\n\u001b[0;32m   1054\u001b[0m \u001b[38;5;124;03m    Index of the cluster each sample belongs to.\u001b[39;00m\n\u001b[0;32m   1055\u001b[0m \u001b[38;5;124;03m\"\"\"\u001b[39;00m\n\u001b[0;32m   1056\u001b[0m check_is_fitted(\u001b[38;5;28mself\u001b[39m)\n\u001b[1;32m-> 1058\u001b[0m X \u001b[38;5;241m=\u001b[39m \u001b[38;5;28mself\u001b[39m\u001b[38;5;241m.\u001b[39m_check_test_data(X)\n\u001b[0;32m   1059\u001b[0m sample_weight \u001b[38;5;241m=\u001b[39m _check_sample_weight(sample_weight, X, dtype\u001b[38;5;241m=\u001b[39mX\u001b[38;5;241m.\u001b[39mdtype)\n\u001b[0;32m   1061\u001b[0m labels \u001b[38;5;241m=\u001b[39m _labels_inertia_threadpool_limit(\n\u001b[0;32m   1062\u001b[0m     X,\n\u001b[0;32m   1063\u001b[0m     sample_weight,\n\u001b[1;32m   (...)\u001b[0m\n\u001b[0;32m   1066\u001b[0m     return_inertia\u001b[38;5;241m=\u001b[39m\u001b[38;5;28;01mFalse\u001b[39;00m,\n\u001b[0;32m   1067\u001b[0m )\n",
      "File \u001b[1;32m~\\anaconda3\\Lib\\site-packages\\sklearn\\cluster\\_kmeans.py:934\u001b[0m, in \u001b[0;36m_BaseKMeans._check_test_data\u001b[1;34m(self, X)\u001b[0m\n\u001b[0;32m    933\u001b[0m \u001b[38;5;28;01mdef\u001b[39;00m \u001b[38;5;21m_check_test_data\u001b[39m(\u001b[38;5;28mself\u001b[39m, X):\n\u001b[1;32m--> 934\u001b[0m     X \u001b[38;5;241m=\u001b[39m \u001b[38;5;28mself\u001b[39m\u001b[38;5;241m.\u001b[39m_validate_data(\n\u001b[0;32m    935\u001b[0m         X,\n\u001b[0;32m    936\u001b[0m         accept_sparse\u001b[38;5;241m=\u001b[39m\u001b[38;5;124m\"\u001b[39m\u001b[38;5;124mcsr\u001b[39m\u001b[38;5;124m\"\u001b[39m,\n\u001b[0;32m    937\u001b[0m         reset\u001b[38;5;241m=\u001b[39m\u001b[38;5;28;01mFalse\u001b[39;00m,\n\u001b[0;32m    938\u001b[0m         dtype\u001b[38;5;241m=\u001b[39m[np\u001b[38;5;241m.\u001b[39mfloat64, np\u001b[38;5;241m.\u001b[39mfloat32],\n\u001b[0;32m    939\u001b[0m         order\u001b[38;5;241m=\u001b[39m\u001b[38;5;124m\"\u001b[39m\u001b[38;5;124mC\u001b[39m\u001b[38;5;124m\"\u001b[39m,\n\u001b[0;32m    940\u001b[0m         accept_large_sparse\u001b[38;5;241m=\u001b[39m\u001b[38;5;28;01mFalse\u001b[39;00m,\n\u001b[0;32m    941\u001b[0m     )\n\u001b[0;32m    942\u001b[0m     \u001b[38;5;28;01mreturn\u001b[39;00m X\n",
      "File \u001b[1;32m~\\anaconda3\\Lib\\site-packages\\sklearn\\base.py:565\u001b[0m, in \u001b[0;36mBaseEstimator._validate_data\u001b[1;34m(self, X, y, reset, validate_separately, **check_params)\u001b[0m\n\u001b[0;32m    563\u001b[0m     \u001b[38;5;28;01mraise\u001b[39;00m \u001b[38;5;167;01mValueError\u001b[39;00m(\u001b[38;5;124m\"\u001b[39m\u001b[38;5;124mValidation should be done on X, y or both.\u001b[39m\u001b[38;5;124m\"\u001b[39m)\n\u001b[0;32m    564\u001b[0m \u001b[38;5;28;01melif\u001b[39;00m \u001b[38;5;129;01mnot\u001b[39;00m no_val_X \u001b[38;5;129;01mand\u001b[39;00m no_val_y:\n\u001b[1;32m--> 565\u001b[0m     X \u001b[38;5;241m=\u001b[39m check_array(X, input_name\u001b[38;5;241m=\u001b[39m\u001b[38;5;124m\"\u001b[39m\u001b[38;5;124mX\u001b[39m\u001b[38;5;124m\"\u001b[39m, \u001b[38;5;241m*\u001b[39m\u001b[38;5;241m*\u001b[39mcheck_params)\n\u001b[0;32m    566\u001b[0m     out \u001b[38;5;241m=\u001b[39m X\n\u001b[0;32m    567\u001b[0m \u001b[38;5;28;01melif\u001b[39;00m no_val_X \u001b[38;5;129;01mand\u001b[39;00m \u001b[38;5;129;01mnot\u001b[39;00m no_val_y:\n",
      "File \u001b[1;32m~\\anaconda3\\Lib\\site-packages\\sklearn\\utils\\validation.py:921\u001b[0m, in \u001b[0;36mcheck_array\u001b[1;34m(array, accept_sparse, accept_large_sparse, dtype, order, copy, force_all_finite, ensure_2d, allow_nd, ensure_min_samples, ensure_min_features, estimator, input_name)\u001b[0m\n\u001b[0;32m    915\u001b[0m         \u001b[38;5;28;01mraise\u001b[39;00m \u001b[38;5;167;01mValueError\u001b[39;00m(\n\u001b[0;32m    916\u001b[0m             \u001b[38;5;124m\"\u001b[39m\u001b[38;5;124mFound array with dim \u001b[39m\u001b[38;5;132;01m%d\u001b[39;00m\u001b[38;5;124m. \u001b[39m\u001b[38;5;132;01m%s\u001b[39;00m\u001b[38;5;124m expected <= 2.\u001b[39m\u001b[38;5;124m\"\u001b[39m\n\u001b[0;32m    917\u001b[0m             \u001b[38;5;241m%\u001b[39m (array\u001b[38;5;241m.\u001b[39mndim, estimator_name)\n\u001b[0;32m    918\u001b[0m         )\n\u001b[0;32m    920\u001b[0m     \u001b[38;5;28;01mif\u001b[39;00m force_all_finite:\n\u001b[1;32m--> 921\u001b[0m         _assert_all_finite(\n\u001b[0;32m    922\u001b[0m             array,\n\u001b[0;32m    923\u001b[0m             input_name\u001b[38;5;241m=\u001b[39minput_name,\n\u001b[0;32m    924\u001b[0m             estimator_name\u001b[38;5;241m=\u001b[39mestimator_name,\n\u001b[0;32m    925\u001b[0m             allow_nan\u001b[38;5;241m=\u001b[39mforce_all_finite \u001b[38;5;241m==\u001b[39m \u001b[38;5;124m\"\u001b[39m\u001b[38;5;124mallow-nan\u001b[39m\u001b[38;5;124m\"\u001b[39m,\n\u001b[0;32m    926\u001b[0m         )\n\u001b[0;32m    928\u001b[0m \u001b[38;5;28;01mif\u001b[39;00m ensure_min_samples \u001b[38;5;241m>\u001b[39m \u001b[38;5;241m0\u001b[39m:\n\u001b[0;32m    929\u001b[0m     n_samples \u001b[38;5;241m=\u001b[39m _num_samples(array)\n",
      "File \u001b[1;32m~\\anaconda3\\Lib\\site-packages\\sklearn\\utils\\validation.py:161\u001b[0m, in \u001b[0;36m_assert_all_finite\u001b[1;34m(X, allow_nan, msg_dtype, estimator_name, input_name)\u001b[0m\n\u001b[0;32m    144\u001b[0m \u001b[38;5;28;01mif\u001b[39;00m estimator_name \u001b[38;5;129;01mand\u001b[39;00m input_name \u001b[38;5;241m==\u001b[39m \u001b[38;5;124m\"\u001b[39m\u001b[38;5;124mX\u001b[39m\u001b[38;5;124m\"\u001b[39m \u001b[38;5;129;01mand\u001b[39;00m has_nan_error:\n\u001b[0;32m    145\u001b[0m     \u001b[38;5;66;03m# Improve the error message on how to handle missing values in\u001b[39;00m\n\u001b[0;32m    146\u001b[0m     \u001b[38;5;66;03m# scikit-learn.\u001b[39;00m\n\u001b[0;32m    147\u001b[0m     msg_err \u001b[38;5;241m+\u001b[39m\u001b[38;5;241m=\u001b[39m (\n\u001b[0;32m    148\u001b[0m         \u001b[38;5;124mf\u001b[39m\u001b[38;5;124m\"\u001b[39m\u001b[38;5;130;01m\\n\u001b[39;00m\u001b[38;5;132;01m{\u001b[39;00mestimator_name\u001b[38;5;132;01m}\u001b[39;00m\u001b[38;5;124m does not accept missing values\u001b[39m\u001b[38;5;124m\"\u001b[39m\n\u001b[0;32m    149\u001b[0m         \u001b[38;5;124m\"\u001b[39m\u001b[38;5;124m encoded as NaN natively. For supervised learning, you might want\u001b[39m\u001b[38;5;124m\"\u001b[39m\n\u001b[1;32m   (...)\u001b[0m\n\u001b[0;32m    159\u001b[0m         \u001b[38;5;124m\"\u001b[39m\u001b[38;5;124m#estimators-that-handle-nan-values\u001b[39m\u001b[38;5;124m\"\u001b[39m\n\u001b[0;32m    160\u001b[0m     )\n\u001b[1;32m--> 161\u001b[0m \u001b[38;5;28;01mraise\u001b[39;00m \u001b[38;5;167;01mValueError\u001b[39;00m(msg_err)\n",
      "\u001b[1;31mValueError\u001b[0m: Input X contains NaN.\nKMeans does not accept missing values encoded as NaN natively. For supervised learning, you might want to consider sklearn.ensemble.HistGradientBoostingClassifier and Regressor which accept missing values encoded as NaNs natively. Alternatively, it is possible to preprocess the data, for instance by using an imputer transformer in a pipeline or drop samples with missing values. See https://scikit-learn.org/stable/modules/impute.html You can find a list of all estimators that handle NaN values at the following page: https://scikit-learn.org/stable/modules/impute.html#estimators-that-handle-nan-values"
     ]
    }
   ],
   "source": [
    "# Initialisation d'une liste pour stocker les résultats ARI\n",
    "ari_scores = []\n",
    "\n",
    "# Date de départ (peut être modifiée selon vos besoins)\n",
    "start_date = \"2017-12-31 23:59:59\"\n",
    "# Nombre de semaines \n",
    "num_weeks = 41\n",
    "\n",
    "# Convertir la date de départ en datetime\n",
    "start_date_obj = datetime.strptime(start_date, \"%Y-%m-%d %H:%M:%S\")\n",
    "\n",
    "# Boucle sur les cycles de 1 semaine\n",
    "for i in range(1, num_weeks + 1):\n",
    "    # Calculer la nouvelle date de fin pour chaque semaine\n",
    "    end_date_obj = start_date_obj + timedelta(weeks=i)\n",
    "    \n",
    "    # Convertir la date en chaîne de caractères pour la fonction\n",
    "    end_date_str = end_date_obj.strftime(\"%Y-%m-%d %H:%M:%S\")\n",
    "    \n",
    "    # Appeler la fonction avec la date calculée\n",
    "    X_ = get_olist_data_per_order_purchase_timestamp(end_date_str)\n",
    "\n",
    "    # Nettoyer et transformer les données\n",
    "    X_ = transform_df(X_)\n",
    "    \n",
    "    # Centrer et réduire les données\n",
    "    X_scale_ = StandardScaler().fit_transform(X_)\n",
    "\n",
    "    # Appliquer le clustering sur le modèle initial\n",
    "    C_init = M0.predict(X_scale_)\n",
    "\n",
    "    # Appliquer le clustering sur le nouveau modèle\n",
    "    M_ = KMeans(n_clusters=5, random_state=42)\n",
    "    C_new = M_fit_predict(X_scale_)\n",
    "    \n",
    "    # Calculer l'ARI entre les clusters prédits par M0 et M_\n",
    "    ari_score = adjusted_rand_score(C_init, C_new)\n",
    "\n",
    "    # Ajouter le score ARI et le numéro de semaine à la liste\n",
    "    ari_scores.append((i, ari_score))\n",
    "\n",
    "# Afficher les résultats ARI avec les numéros de semaine\n",
    "print(\"\\nRésultats ARI pour chaque cycle de 1 semaine:\")\n",
    "for week, score in ari_scores:\n",
    "    print(f\"Semaine {week}: ARI = {score}\")"
   ]
  },
  {
   "cell_type": "code",
   "execution_count": null,
   "id": "6d90203e-b3e4-4436-99ba-7bf406de9f0d",
   "metadata": {},
   "outputs": [],
   "source": []
  },
  {
   "cell_type": "code",
   "execution_count": null,
   "id": "efe31d46-1243-4e89-949f-6f627f36346b",
   "metadata": {},
   "outputs": [],
   "source": []
  },
  {
   "cell_type": "code",
   "execution_count": null,
   "id": "c53215ca-3238-4410-9f74-51f4a553b48b",
   "metadata": {},
   "outputs": [],
   "source": []
  },
  {
   "cell_type": "code",
   "execution_count": null,
   "id": "8075a588-28b2-4ffe-8c0f-94ddb016eead",
   "metadata": {},
   "outputs": [],
   "source": []
  },
  {
   "cell_type": "code",
   "execution_count": null,
   "id": "1e735a0c-5d27-42e6-80ef-34577483dd2c",
   "metadata": {},
   "outputs": [],
   "source": []
  },
  {
   "cell_type": "code",
   "execution_count": null,
   "id": "5f7f6db3-ad9a-42f4-87a6-785de10a82c2",
   "metadata": {},
   "outputs": [],
   "source": [
    "T0 : entraînement initial du modèle M0 sur le dataset X_0, créé à partir de toutes les commandes passées jusqu’à T0.\n",
    "L'entraînement de ce modème génére la liste des clusters C0=M0.fit_predict(X_0).\n",
    "T1 : entrainement du nouveau modème M1 sur le dataset X_1, créé à partir de toutes les commandes passées jusqu’à T1.\n",
    "L'entraînement de ce modème génére la liste des clusters C1_new=M1.fit_predict(X_1).\n",
    "On fait ensuite une nouvelle prédiction avec M0 sur M1 ==> C1_init = M0.predict(X_1).\n",
    "On calcule l'ARI entre C1 et C1_init avec adjusted_rand_score avec sklearn.\n",
    "T2 : entrainement du nouveau modème M2 sur le dataset X_2, créé à partir de toutes les commandes passées jusqu’à T2.\n",
    "L'entraînement de ce modème génére la liste des clusters C2_new=M2.fit_predict(X_2).\n",
    "On fait ensuite une nouvelle prédiction avec M0 sur M2 ==> C2_init = M0.predict(X_2).\n",
    "On calcule l'ARI entre C2_new et C2_init avec adjusted_rand_score avec sklearn."
   ]
  }
 ],
 "metadata": {
  "kernelspec": {
   "display_name": "Python 3 (ipykernel)",
   "language": "python",
   "name": "python3"
  },
  "language_info": {
   "codemirror_mode": {
    "name": "ipython",
    "version": 3
   },
   "file_extension": ".py",
   "mimetype": "text/x-python",
   "name": "python",
   "nbconvert_exporter": "python",
   "pygments_lexer": "ipython3",
   "version": "3.11.7"
  }
 },
 "nbformat": 4,
 "nbformat_minor": 5
}
