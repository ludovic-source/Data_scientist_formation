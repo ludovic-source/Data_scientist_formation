{
 "cells": [
  {
   "cell_type": "markdown",
   "id": "214aaa24-fba6-46d1-a73d-b7651996a1ce",
   "metadata": {},
   "source": [
    "# Segmentez des clients d'un site e-commerce - *Notebook simulation*"
   ]
  },
  {
   "cell_type": "code",
   "execution_count": 34,
   "id": "9a71a2cc-a1bb-4c6e-acb5-453c28fa962b",
   "metadata": {},
   "outputs": [
    {
     "name": "stdout",
     "output_type": "stream",
     "text": [
      "numpy version 1.26.4\n",
      "pandas version 2.1.4\n",
      "matplotlib version 3.8.0\n",
      "seaborn version 0.13.2\n",
      "scipy version 1.11.4\n",
      "statsmodels version 0.14.0\n",
      "missingno version 0.5.2\n",
      "sklearn version 1.2.2\n",
      "folium version 0.19.2\n"
     ]
    }
   ],
   "source": [
    "import numpy as np\n",
    "\n",
    "import pandas as pd\n",
    "import matplotlib\n",
    "import matplotlib.pyplot as plt\n",
    "import seaborn as sns\n",
    "from matplotlib.ticker import ScalarFormatter\n",
    "from matplotlib.ticker import FuncFormatter\n",
    "import scipy\n",
    "from scipy import stats\n",
    "import scipy.stats as st\n",
    "\n",
    "import statsmodels\n",
    "import statsmodels.api as sm\n",
    "import missingno as msno\n",
    "\n",
    "import sklearn\n",
    "\n",
    "from sklearn.impute import KNNImputer\n",
    "from category_encoders.ordinal import OrdinalEncoder\n",
    "from sklearn.preprocessing import LabelEncoder\n",
    "from sklearn.preprocessing import OneHotEncoder\n",
    "from sklearn.preprocessing import QuantileTransformer\n",
    "from category_encoders import TargetEncoder\n",
    "\n",
    "# pour le centrage et la réduction\n",
    "from sklearn.preprocessing import StandardScaler\n",
    "# pour l'ACP\n",
    "from sklearn.decomposition import PCA\n",
    "\n",
    "from sklearn import model_selection\n",
    "from sklearn.model_selection import GridSearchCV\n",
    "\n",
    "from sklearn import metrics\n",
    "from sklearn.metrics import roc_curve, auc, confusion_matrix\n",
    "from sklearn.metrics import silhouette_score, silhouette_samples\n",
    "from sklearn.datasets import make_blobs\n",
    "\n",
    "from sklearn import neighbors\n",
    "from sklearn.neighbors import KNeighborsClassifier\n",
    "\n",
    "from sklearn import datasets\n",
    "from sklearn.cluster import KMeans\n",
    "from sklearn.cluster import AgglomerativeClustering\n",
    "from sklearn.cluster import DBSCAN\n",
    "\n",
    "from sklearn.manifold import TSNE\n",
    "\n",
    "from sklearn.utils import resample\n",
    "\n",
    "from yellowbrick.cluster import KElbowVisualizer\n",
    "\n",
    "from scipy.cluster.hierarchy import dendrogram, linkage\n",
    "\n",
    "import timeit\n",
    "import warnings\n",
    "\n",
    "# pour cartographie\n",
    "import folium\n",
    "import cartopy.crs as ccrs\n",
    "import geopandas as gpd\n",
    "import contextily as ctx\n",
    "\n",
    "import sqlite3\n",
    "\n",
    "print(\"numpy version\", np.__version__)\n",
    "print(\"pandas version\", pd.__version__)\n",
    "print(\"matplotlib version\", matplotlib.__version__)\n",
    "print(\"seaborn version\", sns.__version__)\n",
    "print(\"scipy version\", scipy.__version__)\n",
    "print(\"statsmodels version\", statsmodels.__version__)\n",
    "print(\"missingno version\", msno.__version__)\n",
    "\n",
    "print(\"sklearn version\", sklearn.__version__)\n",
    "\n",
    "print(\"folium version\", folium.__version__)\n",
    "\n",
    "pd.options.display.max_rows = 200\n",
    "pd.options.display.max_columns = 100"
   ]
  },
  {
   "cell_type": "markdown",
   "id": "ca8260ae-fb13-4a5a-9bcf-d6815ee576fc",
   "metadata": {},
   "source": [
    "## 1 - Démarche\n",
    "\n",
    "J'utiliserais les mêmes features que celles utilisées dans le 2ème essai; c'est à dire :\n",
    "- récence\n",
    "- fréquence\n",
    "- montant\n",
    "- score_moyen\n",
    "\n",
    "Voici les étapes :\n",
    "- **T0 :** entraînement initial du modèle M0 sur le dataset X_0, créé à partir de toutes les commandes passées jusqu’à T0.\n",
    "    - L'entraînement de ce modème génére la liste des clusters C0=M0.fit_predict(X_0).\n",
    "- **T1 :**  entrainement du nouveau modème M1 sur le dataset X_1, créé à partir de toutes les commandes passées jusqu’à T1.\n",
    "    - L'entraînement de ce modème génére la liste des clusters C1_new=M1.fit_predict(X_1).\n",
    "    - On fait ensuite une nouvelle prédiction avec M0 sur M1 ==> C1_init = M0.predict(X_1).\n",
    "    - On calcule l'ARI entre C1 et C1_init avec adjusted_rand_score avec sklearn.\n",
    "- **T2 :**  entrainement du nouveau modème M2 sur le dataset X_2, créé à partir de toutes les commandes passées jusqu’à T2.\n",
    "    - L'entraînement de ce modème génére la liste des clusters C2_new=M2.fit_predict(X_2).\n",
    "    - On fait ensuite une nouvelle prédiction avec M0 sur M2 ==> C2_init = M0.predict(X_2).\n",
    "    - On calcule l'ARI entre C2_new et C2_init avec adjusted_rand_score avec sklearn.         "
   ]
  },
  {
   "cell_type": "markdown",
   "id": "b1302511-8b77-4b7a-a61e-ce0ac1c0253b",
   "metadata": {},
   "source": [
    "## 2 - Création d'une fonction d'extraction du jeu de données par date Ti\n",
    "\n",
    "J'utilise un accès direct à la base de données olist.db.\n",
    "\n",
    "La fonction créée pour extraire les données de la base prends le paramètre date_select (T0, T1, T2,...).\n",
    "\n",
    "Les données extraites sont chargées dans un dataframe."
   ]
  },
  {
   "cell_type": "code",
   "execution_count": 68,
   "id": "bc3b6e56-5b2d-4bc7-adab-87cba622a87f",
   "metadata": {},
   "outputs": [],
   "source": [
    "def get_olist_data_per_order_purchase_timestamp(maxDate):\n",
    "\n",
    "    \"\"\"\n",
    "    Récupère les données agrégées des commandes à une date spécifiée à partir de la base de données Olist.\n",
    "\n",
    "    Cette fonction exécute une requête SQL pour calculer les métriques RFM (Récence, Fréquence, Montant) \n",
    "    ainsi que le score moyen des avis clients pour chaque client unique, en utilisant une date d'achat \n",
    "    maximale comme référence. Elle retourne un DataFrame contenant ces métriques agrégées.\n",
    "\n",
    "    Args:\n",
    "        maxDate (str): La date et l'heure maximale pour les commandes à analyser, au format \n",
    "                       'YYYY-MM-DD HH:MM:SS'.\n",
    "\n",
    "    Returns:\n",
    "        pandas.DataFrame: Un DataFrame avec les colonnes suivantes pour chaque client unique :\n",
    "            - recence (int): Nombre de jours depuis la dernière commande.\n",
    "            - frequence (int): Nombre de commandes distinctes passées par le client.\n",
    "            - montant (float): Montant total dépensé par le client.\n",
    "            - score_moyen (float): Note moyenne des avis donnés par le client.\n",
    "\n",
    "    Raises:\n",
    "        sqlite3.OperationalError: Si une erreur survient lors de l'exécution de la requête SQL.\n",
    "        sqlite3.ProgrammingError: Si les paramètres de la requête ne correspondent pas au nombre attendu.\n",
    "\n",
    "    Example:\n",
    "        >>> df = get_olist_data_per_order_purchase_timestamp(\"2018-10-17 17:30:18\")\n",
    "        >>> print(df.head())\n",
    "\n",
    "    Notes:\n",
    "        - Cette fonction utilise SQLite pour interagir avec la base de données.\n",
    "        - La connexion à la base de données est fermée après l'exécution.\n",
    "        - La colonne \"customer_unique_id\" est exclue du DataFrame retourné.\n",
    "    \"\"\"\n",
    "    \n",
    "    # Connexion à une base SQLite (ou création si elle n'existe pas)\n",
    "    conn = sqlite3.connect('C:/Users/admin/Documents/Projets/Projet_5/olist.db')\n",
    "    \n",
    "    # Créer un curseur\n",
    "    cursor = conn.cursor()\n",
    "\n",
    "    # Requête SQL\n",
    "    query = \"\"\"\n",
    "                    WITH orders_join_rfm AS(\n",
    "                    \tSELECT c.customer_unique_id,\n",
    "                    \t       CAST(julianday(:maxDate) - julianday(MAX(o.order_purchase_timestamp)) AS INTEGER) AS recence,\n",
    "                        \t   COUNT(DISTINCT o.order_id) AS frequence,\n",
    "                        \t   SUM(oi.price) AS montant\n",
    "                    \t    FROM customers c\n",
    "                    \t    LEFT JOIN orders o ON c.customer_id = o.customer_id\n",
    "                    \t    LEFT JOIN order_items oi ON o.order_id = oi.order_id\n",
    "                    \t\tGROUP BY c.customer_unique_id\n",
    "                    ),\n",
    "                    review_joins AS(\n",
    "                    \tSELECT c.customer_unique_id, AVG(or2.review_score) AS score_moyen\n",
    "                    \t\tFROM customers c\n",
    "                    \t\tINNER JOIN orders o ON o.customer_id = c.customer_id\n",
    "                    \t\tINNER JOIN order_reviews or2 ON or2.order_id = o.order_id\n",
    "                    \t\tGROUP BY c.customer_unique_id \n",
    "                    ),\n",
    "                    aggregation AS(\n",
    "                    \tSELECT orfm.customer_unique_id, recence, frequence, montant, score_moyen\n",
    "                    \t\tFROM orders_join_rfm orfm\n",
    "                    \t\tLEFT JOIN review_joins rj ON rj.customer_unique_id = orfm.customer_unique_id\n",
    "                    )\n",
    "                    SELECT * \n",
    "                    \tFROM aggregation\n",
    "            \"\"\"         \n",
    "\n",
    "    # Exécution avec paramètre pour maxDate\n",
    "    cursor.execute(query, {'maxDate': maxDate})\n",
    "    rows = cursor.fetchall()\n",
    "\n",
    "    # Fermer la connexion\n",
    "    conn.close()\n",
    "    \n",
    "    # Obtenir les noms de colonnes\n",
    "    columns = [description[0] for description in cursor.description]\n",
    "\n",
    "    # Convertir en DataFrame\n",
    "    df = pd.DataFrame(rows, columns=[\"customer_unique_id\", \"recence\", \"frequence\", \"montant\", \"score_moyen\"])\n",
    "    df.drop('customer_unique_id', axis=1, inplace=True)    \n",
    "    \n",
    "    return df"
   ]
  },
  {
   "cell_type": "markdown",
   "id": "fd995328-5fb0-46f6-b35d-8ec64885b1d2",
   "metadata": {},
   "source": [
    "Testons la fonction :"
   ]
  },
  {
   "cell_type": "code",
   "execution_count": 70,
   "id": "5d2cc0eb-ce7b-4bab-b8aa-2ce7f6c2d57f",
   "metadata": {},
   "outputs": [
    {
     "data": {
      "text/html": [
       "<div>\n",
       "<style scoped>\n",
       "    .dataframe tbody tr th:only-of-type {\n",
       "        vertical-align: middle;\n",
       "    }\n",
       "\n",
       "    .dataframe tbody tr th {\n",
       "        vertical-align: top;\n",
       "    }\n",
       "\n",
       "    .dataframe thead th {\n",
       "        text-align: right;\n",
       "    }\n",
       "</style>\n",
       "<table border=\"1\" class=\"dataframe\">\n",
       "  <thead>\n",
       "    <tr style=\"text-align: right;\">\n",
       "      <th></th>\n",
       "      <th>recence</th>\n",
       "      <th>frequence</th>\n",
       "      <th>montant</th>\n",
       "      <th>score_moyen</th>\n",
       "    </tr>\n",
       "  </thead>\n",
       "  <tbody>\n",
       "    <tr>\n",
       "      <th>0</th>\n",
       "      <td>160</td>\n",
       "      <td>1</td>\n",
       "      <td>129.90</td>\n",
       "      <td>5.0</td>\n",
       "    </tr>\n",
       "    <tr>\n",
       "      <th>1</th>\n",
       "      <td>163</td>\n",
       "      <td>1</td>\n",
       "      <td>18.90</td>\n",
       "      <td>4.0</td>\n",
       "    </tr>\n",
       "    <tr>\n",
       "      <th>2</th>\n",
       "      <td>585</td>\n",
       "      <td>1</td>\n",
       "      <td>69.00</td>\n",
       "      <td>3.0</td>\n",
       "    </tr>\n",
       "    <tr>\n",
       "      <th>3</th>\n",
       "      <td>369</td>\n",
       "      <td>1</td>\n",
       "      <td>25.99</td>\n",
       "      <td>4.0</td>\n",
       "    </tr>\n",
       "    <tr>\n",
       "      <th>4</th>\n",
       "      <td>336</td>\n",
       "      <td>1</td>\n",
       "      <td>180.00</td>\n",
       "      <td>5.0</td>\n",
       "    </tr>\n",
       "  </tbody>\n",
       "</table>\n",
       "</div>"
      ],
      "text/plain": [
       "   recence  frequence  montant  score_moyen\n",
       "0      160          1   129.90          5.0\n",
       "1      163          1    18.90          4.0\n",
       "2      585          1    69.00          3.0\n",
       "3      369          1    25.99          4.0\n",
       "4      336          1   180.00          5.0"
      ]
     },
     "execution_count": 70,
     "metadata": {},
     "output_type": "execute_result"
    }
   ],
   "source": [
    "df = get_olist_data_per_order_purchase_timestamp(\"2018-10-17 17:30:18\")\n",
    "\n",
    "df.head()"
   ]
  },
  {
   "cell_type": "code",
   "execution_count": 61,
   "id": "d25deff2-5414-4d68-8689-dcbee04f9728",
   "metadata": {},
   "outputs": [
    {
     "data": {
      "text/plain": [
       "(96096, 4)"
      ]
     },
     "execution_count": 61,
     "metadata": {},
     "output_type": "execute_result"
    }
   ],
   "source": [
    "df.shape"
   ]
  },
  {
   "cell_type": "markdown",
   "id": "b6a26fd1-ba6f-466f-af1f-5258dba42f34",
   "metadata": {},
   "source": [
    "## 3 - Création des fonctions de transformation et d'affichage\n",
    "\n",
    "### 3.1 - Création d'une fonction de transformation des données\n",
    "\n"
   ]
  },
  {
   "cell_type": "code",
   "execution_count": null,
   "id": "82e24584-05fd-4309-825f-f3a93611dfce",
   "metadata": {},
   "outputs": [],
   "source": []
  },
  {
   "cell_type": "markdown",
   "id": "7a5fbeb6-9d98-4c9a-8cf2-b71fa1b190b6",
   "metadata": {},
   "source": [
    "### 3.2 - Création d'une fonction d'affichage des distributions"
   ]
  },
  {
   "cell_type": "code",
   "execution_count": 64,
   "id": "4155ba28-83ce-4220-9033-4d36c34d0d77",
   "metadata": {},
   "outputs": [],
   "source": [
    "def print_features_distribution(df):\n",
    "    # Créer des histogrammes pour chaque colonne\n",
    "    fig = plt.figure(figsize=(14, 10))\n",
    "    for feat_idx in range(df.shape[1]):  # Pour chaque colonne\n",
    "        ax = fig.add_subplot(3, 4, feat_idx + 1)  # Ajouter à la grille\n",
    "        h = ax.hist(df.iloc[:, feat_idx], bins=50, color=\"steelblue\", edgecolor=\"none\")\n",
    "        ax.set_title(df.columns[feat_idx], fontsize=14)\n",
    "    \n",
    "    plt.tight_layout()\n",
    "    plt.show()"
   ]
  },
  {
   "cell_type": "markdown",
   "id": "f10a9b62-6b5a-4c8f-b98b-91e7f2101f1c",
   "metadata": {},
   "source": [
    "Testons la fonction :"
   ]
  },
  {
   "cell_type": "code",
   "execution_count": 72,
   "id": "61cb76b0-32d2-400a-944f-4659eea9aa34",
   "metadata": {},
   "outputs": [
    {
     "data": {
      "image/png": "[encoded data removed]",
      "text/plain": [
       "<Figure size 1400x1000 with 4 Axes>"
      ]
     },
     "metadata": {},
     "output_type": "display_data"
    }
   ],
   "source": [
    "print_features_distribution(df)"
   ]
  },
  {
   "cell_type": "code",
   "execution_count": null,
   "id": "0a4fa286-3491-45bb-ad56-41bf2442b816",
   "metadata": {},
   "outputs": [],
   "source": []
  },
  {
   "cell_type": "code",
   "execution_count": null,
   "id": "b60e6314-055a-450b-b122-2b39624ef6c3",
   "metadata": {},
   "outputs": [],
   "source": []
  },
  {
   "cell_type": "code",
   "execution_count": null,
   "id": "3c5b5b84-ae63-4137-8de7-002c27f82ee7",
   "metadata": {},
   "outputs": [],
   "source": []
  },
  {
   "cell_type": "code",
   "execution_count": null,
   "id": "1424e304-b6ab-4d82-a725-2d8030dad1ed",
   "metadata": {},
   "outputs": [],
   "source": []
  },
  {
   "cell_type": "code",
   "execution_count": null,
   "id": "1e735a0c-5d27-42e6-80ef-34577483dd2c",
   "metadata": {},
   "outputs": [],
   "source": []
  },
  {
   "cell_type": "code",
   "execution_count": null,
   "id": "5f7f6db3-ad9a-42f4-87a6-785de10a82c2",
   "metadata": {},
   "outputs": [],
   "source": []
  }
 ],
 "metadata": {
  "kernelspec": {
   "display_name": "Python 3 (ipykernel)",
   "language": "python",
   "name": "python3"
  },
  "language_info": {
   "codemirror_mode": {
    "name": "ipython",
    "version": 3
   },
   "file_extension": ".py",
   "mimetype": "text/x-python",
   "name": "python",
   "nbconvert_exporter": "python",
   "pygments_lexer": "ipython3",
   "version": "3.11.7"
  }
 },
 "nbformat": 4,
 "nbformat_minor": 5
}
