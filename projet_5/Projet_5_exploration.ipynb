{
 "cells": [
  {
   "cell_type": "markdown",
   "id": "b33e5b9d-9e82-4b3d-bcea-532d1dcfbe55",
   "metadata": {},
   "source": [
    "# Segmentez des clients d'un site e-commerce - *Notebook exploration*"
   ]
  },
  {
   "cell_type": "markdown",
   "id": "4d4d4650-a2dd-40a6-8611-da765ecbd3ff",
   "metadata": {},
   "source": [
    "## Mission\n",
    "\n",
    "Olist souhaite que vous fournissiez à ses équipes d'e-commerce une segmentation des clients qu’elles pourront utiliser au quotidien pour leurs campagnes de communication. \n",
    "\n",
    "Votre objectif est de comprendre les différents types d’utilisateurs grâce à leur comportement et à leurs données personnelles.\n",
    "\n",
    "Vous devrez fournir à l’équipe Marketing une description actionable de votre segmentation et de sa logique sous-jacente pour une utilisation optimale, ainsi qu’une proposition de contrat de maintenance basée sur une analyse de la stabilité des segments au cours du temps.\n",
    "\n",
    "Pour cette mission, Olist vous fournit une base de données anonymisée comportant des informations sur l’historique des commandes, les produits achetés, les commentaires de satisfaction, et la localisation des clients depuis janvier 2017.\r\n",
    " \r\n",
    "\r\n",
    "Vous devez aider les équipes d’Olist à comprendre les différents types d'utilisateurs. Vous utiliserez donc des méthodes non supervisées pour regrouper des clients de profils similaires. Ces catégories pourront être utilisées par l’équipe Marketing pour mieux communiqr.\r\n",
    "\r\n",
    " \r\n",
    "\r\n",
    "Vous créez donc un notebook et démarrez votre travail d’analyse exploratoire."
   ]
  },
  {
   "cell_type": "markdown",
   "id": "828f52c0-d81c-4aea-beb1-3d0e9e2b26f7",
   "metadata": {},
   "source": [
    "## Analyse exploratoire\n",
    "\n",
    "### 1 - Découverte du jeu de données\n",
    "\n",
    "Les données sont issues de la base de données d'Olist, obtenues via un script sql (voir script en pièce jointe)."
   ]
  },
  {
   "cell_type": "code",
   "execution_count": 16,
   "id": "81166293-ad80-45e9-8b7a-94cc1929a3ff",
   "metadata": {},
   "outputs": [
    {
     "name": "stdout",
     "output_type": "stream",
     "text": [
      "numpy version 1.26.4\n",
      "pandas version 2.1.4\n",
      "matplotlib version 3.8.0\n",
      "seaborn version 0.13.2\n",
      "scipy version 1.11.4\n",
      "statsmodels version 0.14.0\n",
      "missingno version 0.5.2\n",
      "sklearn version 1.2.2\n",
      "folium version 0.19.2\n"
     ]
    }
   ],
   "source": [
    "import numpy as np\n",
    "\n",
    "import pandas as pd\n",
    "import matplotlib\n",
    "import matplotlib.pyplot as plt\n",
    "import seaborn as sns\n",
    "from matplotlib.ticker import ScalarFormatter\n",
    "from matplotlib.ticker import FuncFormatter\n",
    "import scipy\n",
    "from scipy import stats\n",
    "import scipy.stats as st\n",
    "\n",
    "import statsmodels\n",
    "import statsmodels.api as sm\n",
    "import missingno as msno\n",
    "\n",
    "import sklearn\n",
    "\n",
    "from sklearn.impute import KNNImputer\n",
    "from category_encoders.ordinal import OrdinalEncoder\n",
    "from sklearn.preprocessing import LabelEncoder\n",
    "from sklearn.preprocessing import OneHotEncoder\n",
    "from sklearn.preprocessing import QuantileTransformer\n",
    "from category_encoders import TargetEncoder\n",
    "\n",
    "# pour le centrage et la réduction\n",
    "from sklearn.preprocessing import StandardScaler\n",
    "# pour l'ACP\n",
    "from sklearn.decomposition import PCA\n",
    "\n",
    "from sklearn import model_selection\n",
    "from sklearn.model_selection import GridSearchCV\n",
    "\n",
    "from sklearn import metrics\n",
    "from sklearn.metrics import roc_curve, auc, confusion_matrix\n",
    "\n",
    "from sklearn import neighbors\n",
    "from sklearn.neighbors import KNeighborsClassifier\n",
    "\n",
    "import timeit\n",
    "\n",
    "# pour cartographie\n",
    "import folium\n",
    "import cartopy.crs as ccrs\n",
    "import geopandas as gpd\n",
    "import contextily as ctx\n",
    "\n",
    "print(\"numpy version\", np.__version__)\n",
    "print(\"pandas version\", pd.__version__)\n",
    "print(\"matplotlib version\", matplotlib.__version__)\n",
    "print(\"seaborn version\", sns.__version__)\n",
    "print(\"scipy version\", scipy.__version__)\n",
    "print(\"statsmodels version\", statsmodels.__version__)\n",
    "print(\"missingno version\", msno.__version__)\n",
    "\n",
    "print(\"sklearn version\", sklearn.__version__)\n",
    "\n",
    "print(\"folium version\", folium.__version__)\n",
    "\n",
    "pd.options.display.max_rows = 200\n",
    "pd.options.display.max_columns = 100"
   ]
  },
  {
   "cell_type": "code",
   "execution_count": null,
   "id": "5a554d30-6280-4a07-aea6-86b400c287fb",
   "metadata": {},
   "outputs": [],
   "source": []
  }
 ],
 "metadata": {
  "kernelspec": {
   "display_name": "Python 3 (ipykernel)",
   "language": "python",
   "name": "python3"
  },
  "language_info": {
   "codemirror_mode": {
    "name": "ipython",
    "version": 3
   },
   "file_extension": ".py",
   "mimetype": "text/x-python",
   "name": "python",
   "nbconvert_exporter": "python",
   "pygments_lexer": "ipython3",
   "version": "3.11.7"
  }
 },
 "nbformat": 4,
 "nbformat_minor": 5
}
