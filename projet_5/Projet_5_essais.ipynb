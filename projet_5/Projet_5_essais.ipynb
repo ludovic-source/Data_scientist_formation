{
 "cells": [
  {
   "cell_type": "markdown",
   "id": "6118c197-a078-4a5d-99dd-82ac4cabf7bc",
   "metadata": {},
   "source": [
    "# Segmentez des clients d'un site e-commerce - *Notebook essais*"
   ]
  },
  {
   "cell_type": "code",
   "execution_count": 31,
   "id": "6943386b-8827-4672-b9d4-2913beb65ba5",
   "metadata": {},
   "outputs": [
    {
     "name": "stdout",
     "output_type": "stream",
     "text": [
      "numpy version 1.26.4\n",
      "pandas version 2.1.4\n",
      "matplotlib version 3.8.0\n",
      "seaborn version 0.13.2\n",
      "scipy version 1.11.4\n",
      "statsmodels version 0.14.0\n",
      "missingno version 0.5.2\n",
      "sklearn version 1.2.2\n",
      "folium version 0.19.2\n"
     ]
    }
   ],
   "source": [
    "import numpy as np\n",
    "\n",
    "import pandas as pd\n",
    "import matplotlib\n",
    "import matplotlib.pyplot as plt\n",
    "import seaborn as sns\n",
    "from matplotlib.ticker import ScalarFormatter\n",
    "from matplotlib.ticker import FuncFormatter\n",
    "import scipy\n",
    "from scipy import stats\n",
    "import scipy.stats as st\n",
    "\n",
    "import statsmodels\n",
    "import statsmodels.api as sm\n",
    "import missingno as msno\n",
    "\n",
    "import sklearn\n",
    "\n",
    "from sklearn.impute import KNNImputer\n",
    "from category_encoders.ordinal import OrdinalEncoder\n",
    "from sklearn.preprocessing import LabelEncoder\n",
    "from sklearn.preprocessing import OneHotEncoder\n",
    "from sklearn.preprocessing import QuantileTransformer\n",
    "from category_encoders import TargetEncoder\n",
    "\n",
    "# pour le centrage et la réduction\n",
    "from sklearn.preprocessing import StandardScaler\n",
    "# pour l'ACP\n",
    "from sklearn.decomposition import PCA\n",
    "\n",
    "from sklearn import model_selection\n",
    "from sklearn.model_selection import GridSearchCV\n",
    "\n",
    "from sklearn import metrics\n",
    "from sklearn.metrics import roc_curve, auc, confusion_matrix\n",
    "\n",
    "from sklearn import neighbors\n",
    "from sklearn.neighbors import KNeighborsClassifier\n",
    "\n",
    "import timeit\n",
    "\n",
    "# pour cartographie\n",
    "import folium\n",
    "import cartopy.crs as ccrs\n",
    "import geopandas as gpd\n",
    "import contextily as ctx\n",
    "\n",
    "print(\"numpy version\", np.__version__)\n",
    "print(\"pandas version\", pd.__version__)\n",
    "print(\"matplotlib version\", matplotlib.__version__)\n",
    "print(\"seaborn version\", sns.__version__)\n",
    "print(\"scipy version\", scipy.__version__)\n",
    "print(\"statsmodels version\", statsmodels.__version__)\n",
    "print(\"missingno version\", msno.__version__)\n",
    "\n",
    "print(\"sklearn version\", sklearn.__version__)\n",
    "\n",
    "print(\"folium version\", folium.__version__)\n",
    "\n",
    "pd.options.display.max_rows = 200\n",
    "pd.options.display.max_columns = 100"
   ]
  },
  {
   "cell_type": "markdown",
   "id": "13c941df-84c1-4529-9192-d56f9c52b674",
   "metadata": {},
   "source": [
    "## Elaborer un modèle de clustering\n",
    "\n",
    "Chargeons le dataset généré lors de l'exploration"
   ]
  },
  {
   "cell_type": "code",
   "execution_count": 35,
   "id": "00d83e1f-8116-4eb9-8fab-ec2838dd7d78",
   "metadata": {},
   "outputs": [
    {
     "data": {
      "text/html": [
       "<div>\n",
       "<style scoped>\n",
       "    .dataframe tbody tr th:only-of-type {\n",
       "        vertical-align: middle;\n",
       "    }\n",
       "\n",
       "    .dataframe tbody tr th {\n",
       "        vertical-align: top;\n",
       "    }\n",
       "\n",
       "    .dataframe thead th {\n",
       "        text-align: right;\n",
       "    }\n",
       "</style>\n",
       "<table border=\"1\" class=\"dataframe\">\n",
       "  <thead>\n",
       "    <tr style=\"text-align: right;\">\n",
       "      <th></th>\n",
       "      <th>latitude</th>\n",
       "      <th>longitude</th>\n",
       "      <th>nb_jours_anciennete</th>\n",
       "      <th>recence</th>\n",
       "      <th>frequence</th>\n",
       "      <th>montant</th>\n",
       "      <th>nb_jours_entre_chaque_commande</th>\n",
       "      <th>score_moyen</th>\n",
       "      <th>nb_notes</th>\n",
       "    </tr>\n",
       "  </thead>\n",
       "  <tbody>\n",
       "    <tr>\n",
       "      <th>0</th>\n",
       "      <td>-23.333580</td>\n",
       "      <td>-46.823060</td>\n",
       "      <td>160</td>\n",
       "      <td>-0.718462</td>\n",
       "      <td>-5.199338</td>\n",
       "      <td>0.451469</td>\n",
       "      <td>160.273507</td>\n",
       "      <td>5.0</td>\n",
       "      <td>1.0</td>\n",
       "    </tr>\n",
       "    <tr>\n",
       "      <th>1</th>\n",
       "      <td>-23.545029</td>\n",
       "      <td>-46.781482</td>\n",
       "      <td>163</td>\n",
       "      <td>-0.680013</td>\n",
       "      <td>-5.199338</td>\n",
       "      <td>-1.738731</td>\n",
       "      <td>163.263090</td>\n",
       "      <td>4.0</td>\n",
       "      <td>1.0</td>\n",
       "    </tr>\n",
       "    <tr>\n",
       "      <th>2</th>\n",
       "      <td>-27.532246</td>\n",
       "      <td>-48.618667</td>\n",
       "      <td>585</td>\n",
       "      <td>1.798663</td>\n",
       "      <td>-5.199338</td>\n",
       "      <td>-0.265284</td>\n",
       "      <td>585.850868</td>\n",
       "      <td>3.0</td>\n",
       "      <td>1.0</td>\n",
       "    </tr>\n",
       "    <tr>\n",
       "      <th>3</th>\n",
       "      <td>-1.304189</td>\n",
       "      <td>-48.476339</td>\n",
       "      <td>369</td>\n",
       "      <td>0.567211</td>\n",
       "      <td>-5.199338</td>\n",
       "      <td>-1.295363</td>\n",
       "      <td>369.875428</td>\n",
       "      <td>4.0</td>\n",
       "      <td>1.0</td>\n",
       "    </tr>\n",
       "    <tr>\n",
       "      <th>4</th>\n",
       "      <td>-23.496567</td>\n",
       "      <td>-47.462811</td>\n",
       "      <td>336</td>\n",
       "      <td>0.426601</td>\n",
       "      <td>-5.199338</td>\n",
       "      <td>0.833781</td>\n",
       "      <td>336.905972</td>\n",
       "      <td>5.0</td>\n",
       "      <td>1.0</td>\n",
       "    </tr>\n",
       "  </tbody>\n",
       "</table>\n",
       "</div>"
      ],
      "text/plain": [
       "    latitude  longitude  nb_jours_anciennete   recence  frequence   montant  \\\n",
       "0 -23.333580 -46.823060                  160 -0.718462  -5.199338  0.451469   \n",
       "1 -23.545029 -46.781482                  163 -0.680013  -5.199338 -1.738731   \n",
       "2 -27.532246 -48.618667                  585  1.798663  -5.199338 -0.265284   \n",
       "3  -1.304189 -48.476339                  369  0.567211  -5.199338 -1.295363   \n",
       "4 -23.496567 -47.462811                  336  0.426601  -5.199338  0.833781   \n",
       "\n",
       "   nb_jours_entre_chaque_commande  score_moyen  nb_notes  \n",
       "0                      160.273507          5.0       1.0  \n",
       "1                      163.263090          4.0       1.0  \n",
       "2                      585.850868          3.0       1.0  \n",
       "3                      369.875428          4.0       1.0  \n",
       "4                      336.905972          5.0       1.0  "
      ]
     },
     "execution_count": 35,
     "metadata": {},
     "output_type": "execute_result"
    }
   ],
   "source": [
    "# Charger le fichier de données\n",
    "data = pd.read_csv(\"C:/Users/admin/Documents/Projets/Projet_5/data_projet/cleaned/data_olist_cleaned.csv\", sep=',', low_memory=False)\n",
    "data.head()"
   ]
  },
  {
   "cell_type": "code",
   "execution_count": 37,
   "id": "91ebd92d-f9bd-4f99-a61b-24d30d784873",
   "metadata": {},
   "outputs": [
    {
     "data": {
      "text/plain": [
       "(93358, 9)"
      ]
     },
     "execution_count": 37,
     "metadata": {},
     "output_type": "execute_result"
    }
   ],
   "source": [
    "data.shape"
   ]
  },
  {
   "cell_type": "markdown",
   "id": "7c9de727-e99d-4ba5-a0b0-b592d758a6c8",
   "metadata": {},
   "source": [
    "### 1 - essai n°1 - features RFM avec K-means\n",
    "\n",
    "Il s'agit ici d'utilser les 3 features RFM (recence, frequence et montant) pour un premier clustering avec l'algorithme k-means.\n",
    "\n",
    "#### 1.1 - Filtrage des 3 features"
   ]
  },
  {
   "cell_type": "code",
   "execution_count": 39,
   "id": "283a0b37-6dae-4c9c-b503-4363d5abf174",
   "metadata": {},
   "outputs": [
    {
     "ename": "SyntaxError",
     "evalue": "invalid syntax (1925242020.py, line 1)",
     "output_type": "error",
     "traceback": [
      "\u001b[1;36m  Cell \u001b[1;32mIn[39], line 1\u001b[1;36m\u001b[0m\n\u001b[1;33m    data_1 = data.loc[,['recence', 'frequence', 'montant']].copy()\u001b[0m\n\u001b[1;37m                      ^\u001b[0m\n\u001b[1;31mSyntaxError\u001b[0m\u001b[1;31m:\u001b[0m invalid syntax\n"
     ]
    }
   ],
   "source": [
    "data_1 = data.loc[,['recence', 'frequence', 'montant']].copy()\n",
    "data_1.shape"
   ]
  },
  {
   "cell_type": "code",
   "execution_count": null,
   "id": "170f2f6d-3b1a-44dc-9fc8-1de0c1d76c0d",
   "metadata": {},
   "outputs": [],
   "source": []
  }
 ],
 "metadata": {
  "kernelspec": {
   "display_name": "Python 3 (ipykernel)",
   "language": "python",
   "name": "python3"
  },
  "language_info": {
   "codemirror_mode": {
    "name": "ipython",
    "version": 3
   },
   "file_extension": ".py",
   "mimetype": "text/x-python",
   "name": "python",
   "nbconvert_exporter": "python",
   "pygments_lexer": "ipython3",
   "version": "3.11.7"
  }
 },
 "nbformat": 4,
 "nbformat_minor": 5
}
