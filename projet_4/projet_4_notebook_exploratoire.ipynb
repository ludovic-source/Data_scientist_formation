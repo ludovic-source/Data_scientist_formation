{
 "cells": [
  {
   "cell_type": "markdown",
   "id": "6cb707d3-b8e6-44ca-acb5-bc872d546361",
   "metadata": {},
   "source": [
    "# Anticipez les besoins en consommation de bâtiments - *Notebook exploratoire*"
   ]
  },
  {
   "cell_type": "markdown",
   "id": "16bf950b-caa7-42fd-bb72-46f48e8a5496",
   "metadata": {},
   "source": [
    "## Mission\n",
    "\n",
    "Vous travaillez pour la ville de Seattle. Pour atteindre son objectif de ville neutre en émissions de carbone en 2050, votre équipe s’intéresse de près à la consommation et aux émissions des bâtiments non destinés à l’habitation.\n",
    "\n",
    "Des relevés minutieux ont été effectués par les agents de la ville en 2016. Cependant, ces relevés sont coûteux à obtenir, et à partir de ceux déjà réalisés, vous voulez tenter de prédire les émissions de CO2 et la consommation totale d’énergie de bâtiments non destinés à l’habitation pour lesquels elles n’ont pas encore été mesurées.\n",
    "\n",
    "Votre prédiction se basera sur les données structurelles des bâtiments (taille et usage des bâtiments, date de construction, situation géographique, ...)\n",
    "\n",
    "Vous cherchez également à évaluer l’intérêt de l’ENERGY STAR Score pour la prédiction d’émissions, qui est fastidieux à calculer avec l’approche utilisée actuellement par votre équipe. Vous l'intégrerez dans la modélisation et jugerez de son intérêt.\n",
    "\n",
    "Vous sortez tout juste d’une réunion de brief avec votre équipe. Voici un récapitulatif de votre mission :\n",
    "\n",
    "\n",
    "1) Réaliser une courte analyse exploratoire.\n",
    "2) Tester différents modèles de prédiction afin de répondre au mieux à la problématique.\n",
    "\n",
    "Fais bien attention au traitement des différentes variables, à la fois pour trouver de nouvelles informations (peut-on déduire des choses intéressantes d’une simple adresse ?) et optimiser les performances en appliquant des transformations simples aux variables (normalisation, passage au log, etc.).\n",
    "\n",
    "Mets en place une évaluation rigoureuse des performances, et optimise les hyperparamètres et le choix d’algorithmes de ML à l’aide d’une validation croisée. Tu testeras au minimum 4 algorithmes de famille différente (par exemple : ElasticNet, SVM, GradientBoosting, RandomForest)."
   ]
  },
  {
   "cell_type": "markdown",
   "id": "aec81b14-942d-4ff2-b08a-243bb62ab5e0",
   "metadata": {},
   "source": [
    "## Analyse exploratoire des datasets et 1er feature engineering\n",
    "\n",
    "### 1 - Découverte du jeu de données"
   ]
  },
  {
   "cell_type": "code",
   "execution_count": 5,
   "id": "5eec6a3b-ea82-4204-9bc7-c65533176984",
   "metadata": {},
   "outputs": [
    {
     "name": "stdout",
     "output_type": "stream",
     "text": [
      "numpy version 1.26.4\n",
      "pandas version 2.1.4\n",
      "matplotlib version 3.8.0\n",
      "seaborn version 0.13.2\n",
      "scipy version 1.11.4\n",
      "statsmodels version 0.14.0\n",
      "missingno version 0.5.2\n",
      "sklearn version 1.2.2\n",
      "tensorflow version 2.18.0\n"
     ]
    }
   ],
   "source": [
    "import numpy as np\n",
    "\n",
    "import pandas as pd\n",
    "import matplotlib\n",
    "import matplotlib.pyplot as plt\n",
    "import seaborn as sns\n",
    "from matplotlib.ticker import ScalarFormatter\n",
    "from matplotlib.ticker import FuncFormatter\n",
    "import scipy\n",
    "from scipy import stats\n",
    "import scipy.stats as st\n",
    "\n",
    "import statsmodels\n",
    "import statsmodels.api as sm\n",
    "import missingno as msno\n",
    "\n",
    "import sklearn\n",
    "from sklearn.experimental import enable_iterative_imputer  # Nécessaire pour activer IterativeImputer\n",
    "from sklearn.impute import IterativeImputer\n",
    "\n",
    "from sklearn.impute import KNNImputer\n",
    "# Encodage des variables catégorielles avant d'utiliser KNNImputer\n",
    "from category_encoders.ordinal import OrdinalEncoder\n",
    "from sklearn.preprocessing import LabelEncoder\n",
    "\n",
    "# pour le centrage et la réduction\n",
    "from sklearn.preprocessing import StandardScaler\n",
    "# pour l'ACP\n",
    "from sklearn.decomposition import PCA\n",
    "\n",
    "from sklearn import model_selection\n",
    "from sklearn.model_selection import GridSearchCV\n",
    "\n",
    "from sklearn import metrics\n",
    "from sklearn.metrics import roc_curve, auc, confusion_matrix\n",
    "\n",
    "from sklearn import dummy\n",
    "from sklearn.dummy import DummyClassifier\n",
    "\n",
    "from sklearn import linear_model\n",
    "from sklearn.linear_model import Ridge\n",
    "from sklearn.linear_model import LogisticRegression\n",
    "\n",
    "from sklearn.svm import LinearSVC\n",
    "\n",
    "from sklearn import kernel_ridge\n",
    "\n",
    "from sklearn import neighbors\n",
    "from sklearn.neighbors import KNeighborsClassifier\n",
    "\n",
    "import tensorflow\n",
    "from tensorflow import keras\n",
    "from tensorflow.keras import models\n",
    "from tensorflow.keras import layers\n",
    "\n",
    "from sklearn.ensemble import RandomForestClassifier\n",
    "from sklearn.feature_selection import SelectFromModel\n",
    "\n",
    "import timeit\n",
    "\n",
    "print(\"numpy version\", np.__version__)\n",
    "print(\"pandas version\", pd.__version__)\n",
    "print(\"matplotlib version\", matplotlib.__version__)\n",
    "print(\"seaborn version\", sns.__version__)\n",
    "print(\"scipy version\", scipy.__version__)\n",
    "print(\"statsmodels version\", statsmodels.__version__)\n",
    "print(\"missingno version\", msno.__version__)\n",
    "\n",
    "print(\"sklearn version\", sklearn.__version__)\n",
    "print(\"tensorflow version\", tensorflow.__version__)\n",
    "\n",
    "pd.options.display.max_rows = 200\n",
    "pd.options.display.max_columns = 100"
   ]
  },
  {
   "cell_type": "code",
   "execution_count": 6,
   "id": "389abff3-bf47-4f41-9f4b-42b2fbf22537",
   "metadata": {},
   "outputs": [
    {
     "data": {
      "text/html": [
       "<div>\n",
       "<style scoped>\n",
       "    .dataframe tbody tr th:only-of-type {\n",
       "        vertical-align: middle;\n",
       "    }\n",
       "\n",
       "    .dataframe tbody tr th {\n",
       "        vertical-align: top;\n",
       "    }\n",
       "\n",
       "    .dataframe thead th {\n",
       "        text-align: right;\n",
       "    }\n",
       "</style>\n",
       "<table border=\"1\" class=\"dataframe\">\n",
       "  <thead>\n",
       "    <tr style=\"text-align: right;\">\n",
       "      <th></th>\n",
       "      <th>OSEBuildingID</th>\n",
       "      <th>DataYear</th>\n",
       "      <th>BuildingType</th>\n",
       "      <th>PrimaryPropertyType</th>\n",
       "      <th>PropertyName</th>\n",
       "      <th>Address</th>\n",
       "      <th>City</th>\n",
       "      <th>State</th>\n",
       "      <th>ZipCode</th>\n",
       "      <th>TaxParcelIdentificationNumber</th>\n",
       "      <th>CouncilDistrictCode</th>\n",
       "      <th>Neighborhood</th>\n",
       "      <th>Latitude</th>\n",
       "      <th>Longitude</th>\n",
       "      <th>YearBuilt</th>\n",
       "      <th>NumberofBuildings</th>\n",
       "      <th>NumberofFloors</th>\n",
       "      <th>PropertyGFATotal</th>\n",
       "      <th>PropertyGFAParking</th>\n",
       "      <th>PropertyGFABuilding(s)</th>\n",
       "      <th>ListOfAllPropertyUseTypes</th>\n",
       "      <th>LargestPropertyUseType</th>\n",
       "      <th>LargestPropertyUseTypeGFA</th>\n",
       "      <th>SecondLargestPropertyUseType</th>\n",
       "      <th>SecondLargestPropertyUseTypeGFA</th>\n",
       "      <th>ThirdLargestPropertyUseType</th>\n",
       "      <th>ThirdLargestPropertyUseTypeGFA</th>\n",
       "      <th>YearsENERGYSTARCertified</th>\n",
       "      <th>ENERGYSTARScore</th>\n",
       "      <th>SiteEUI(kBtu/sf)</th>\n",
       "      <th>SiteEUIWN(kBtu/sf)</th>\n",
       "      <th>SourceEUI(kBtu/sf)</th>\n",
       "      <th>SourceEUIWN(kBtu/sf)</th>\n",
       "      <th>SiteEnergyUse(kBtu)</th>\n",
       "      <th>SiteEnergyUseWN(kBtu)</th>\n",
       "      <th>SteamUse(kBtu)</th>\n",
       "      <th>Electricity(kWh)</th>\n",
       "      <th>Electricity(kBtu)</th>\n",
       "      <th>NaturalGas(therms)</th>\n",
       "      <th>NaturalGas(kBtu)</th>\n",
       "      <th>DefaultData</th>\n",
       "      <th>Comments</th>\n",
       "      <th>ComplianceStatus</th>\n",
       "      <th>Outlier</th>\n",
       "      <th>TotalGHGEmissions</th>\n",
       "      <th>GHGEmissionsIntensity</th>\n",
       "    </tr>\n",
       "  </thead>\n",
       "  <tbody>\n",
       "    <tr>\n",
       "      <th>0</th>\n",
       "      <td>1</td>\n",
       "      <td>2016</td>\n",
       "      <td>NonResidential</td>\n",
       "      <td>Hotel</td>\n",
       "      <td>Mayflower park hotel</td>\n",
       "      <td>405 Olive way</td>\n",
       "      <td>Seattle</td>\n",
       "      <td>WA</td>\n",
       "      <td>98101.0</td>\n",
       "      <td>0659000030</td>\n",
       "      <td>7</td>\n",
       "      <td>DOWNTOWN</td>\n",
       "      <td>47.61220</td>\n",
       "      <td>-122.33799</td>\n",
       "      <td>1927</td>\n",
       "      <td>1.0</td>\n",
       "      <td>12</td>\n",
       "      <td>88434</td>\n",
       "      <td>0</td>\n",
       "      <td>88434</td>\n",
       "      <td>Hotel</td>\n",
       "      <td>Hotel</td>\n",
       "      <td>88434.0</td>\n",
       "      <td>NaN</td>\n",
       "      <td>NaN</td>\n",
       "      <td>NaN</td>\n",
       "      <td>NaN</td>\n",
       "      <td>NaN</td>\n",
       "      <td>60.0</td>\n",
       "      <td>81.699997</td>\n",
       "      <td>84.300003</td>\n",
       "      <td>182.500000</td>\n",
       "      <td>189.000000</td>\n",
       "      <td>7226362.5</td>\n",
       "      <td>7456910.0</td>\n",
       "      <td>2003882.00</td>\n",
       "      <td>1.156514e+06</td>\n",
       "      <td>3946027.0</td>\n",
       "      <td>12764.52930</td>\n",
       "      <td>1276453.0</td>\n",
       "      <td>False</td>\n",
       "      <td>NaN</td>\n",
       "      <td>Compliant</td>\n",
       "      <td>NaN</td>\n",
       "      <td>249.98</td>\n",
       "      <td>2.83</td>\n",
       "    </tr>\n",
       "    <tr>\n",
       "      <th>1</th>\n",
       "      <td>2</td>\n",
       "      <td>2016</td>\n",
       "      <td>NonResidential</td>\n",
       "      <td>Hotel</td>\n",
       "      <td>Paramount Hotel</td>\n",
       "      <td>724 Pine street</td>\n",
       "      <td>Seattle</td>\n",
       "      <td>WA</td>\n",
       "      <td>98101.0</td>\n",
       "      <td>0659000220</td>\n",
       "      <td>7</td>\n",
       "      <td>DOWNTOWN</td>\n",
       "      <td>47.61317</td>\n",
       "      <td>-122.33393</td>\n",
       "      <td>1996</td>\n",
       "      <td>1.0</td>\n",
       "      <td>11</td>\n",
       "      <td>103566</td>\n",
       "      <td>15064</td>\n",
       "      <td>88502</td>\n",
       "      <td>Hotel, Parking, Restaurant</td>\n",
       "      <td>Hotel</td>\n",
       "      <td>83880.0</td>\n",
       "      <td>Parking</td>\n",
       "      <td>15064.0</td>\n",
       "      <td>Restaurant</td>\n",
       "      <td>4622.0</td>\n",
       "      <td>NaN</td>\n",
       "      <td>61.0</td>\n",
       "      <td>94.800003</td>\n",
       "      <td>97.900002</td>\n",
       "      <td>176.100006</td>\n",
       "      <td>179.399994</td>\n",
       "      <td>8387933.0</td>\n",
       "      <td>8664479.0</td>\n",
       "      <td>0.00</td>\n",
       "      <td>9.504252e+05</td>\n",
       "      <td>3242851.0</td>\n",
       "      <td>51450.81641</td>\n",
       "      <td>5145082.0</td>\n",
       "      <td>False</td>\n",
       "      <td>NaN</td>\n",
       "      <td>Compliant</td>\n",
       "      <td>NaN</td>\n",
       "      <td>295.86</td>\n",
       "      <td>2.86</td>\n",
       "    </tr>\n",
       "    <tr>\n",
       "      <th>2</th>\n",
       "      <td>3</td>\n",
       "      <td>2016</td>\n",
       "      <td>NonResidential</td>\n",
       "      <td>Hotel</td>\n",
       "      <td>5673-The Westin Seattle</td>\n",
       "      <td>1900 5th Avenue</td>\n",
       "      <td>Seattle</td>\n",
       "      <td>WA</td>\n",
       "      <td>98101.0</td>\n",
       "      <td>0659000475</td>\n",
       "      <td>7</td>\n",
       "      <td>DOWNTOWN</td>\n",
       "      <td>47.61393</td>\n",
       "      <td>-122.33810</td>\n",
       "      <td>1969</td>\n",
       "      <td>1.0</td>\n",
       "      <td>41</td>\n",
       "      <td>956110</td>\n",
       "      <td>196718</td>\n",
       "      <td>759392</td>\n",
       "      <td>Hotel</td>\n",
       "      <td>Hotel</td>\n",
       "      <td>756493.0</td>\n",
       "      <td>NaN</td>\n",
       "      <td>NaN</td>\n",
       "      <td>NaN</td>\n",
       "      <td>NaN</td>\n",
       "      <td>NaN</td>\n",
       "      <td>43.0</td>\n",
       "      <td>96.000000</td>\n",
       "      <td>97.699997</td>\n",
       "      <td>241.899994</td>\n",
       "      <td>244.100006</td>\n",
       "      <td>72587024.0</td>\n",
       "      <td>73937112.0</td>\n",
       "      <td>21566554.00</td>\n",
       "      <td>1.451544e+07</td>\n",
       "      <td>49526664.0</td>\n",
       "      <td>14938.00000</td>\n",
       "      <td>1493800.0</td>\n",
       "      <td>False</td>\n",
       "      <td>NaN</td>\n",
       "      <td>Compliant</td>\n",
       "      <td>NaN</td>\n",
       "      <td>2089.28</td>\n",
       "      <td>2.19</td>\n",
       "    </tr>\n",
       "    <tr>\n",
       "      <th>3</th>\n",
       "      <td>5</td>\n",
       "      <td>2016</td>\n",
       "      <td>NonResidential</td>\n",
       "      <td>Hotel</td>\n",
       "      <td>HOTEL MAX</td>\n",
       "      <td>620 STEWART ST</td>\n",
       "      <td>Seattle</td>\n",
       "      <td>WA</td>\n",
       "      <td>98101.0</td>\n",
       "      <td>0659000640</td>\n",
       "      <td>7</td>\n",
       "      <td>DOWNTOWN</td>\n",
       "      <td>47.61412</td>\n",
       "      <td>-122.33664</td>\n",
       "      <td>1926</td>\n",
       "      <td>1.0</td>\n",
       "      <td>10</td>\n",
       "      <td>61320</td>\n",
       "      <td>0</td>\n",
       "      <td>61320</td>\n",
       "      <td>Hotel</td>\n",
       "      <td>Hotel</td>\n",
       "      <td>61320.0</td>\n",
       "      <td>NaN</td>\n",
       "      <td>NaN</td>\n",
       "      <td>NaN</td>\n",
       "      <td>NaN</td>\n",
       "      <td>NaN</td>\n",
       "      <td>56.0</td>\n",
       "      <td>110.800003</td>\n",
       "      <td>113.300003</td>\n",
       "      <td>216.199997</td>\n",
       "      <td>224.000000</td>\n",
       "      <td>6794584.0</td>\n",
       "      <td>6946800.5</td>\n",
       "      <td>2214446.25</td>\n",
       "      <td>8.115253e+05</td>\n",
       "      <td>2768924.0</td>\n",
       "      <td>18112.13086</td>\n",
       "      <td>1811213.0</td>\n",
       "      <td>False</td>\n",
       "      <td>NaN</td>\n",
       "      <td>Compliant</td>\n",
       "      <td>NaN</td>\n",
       "      <td>286.43</td>\n",
       "      <td>4.67</td>\n",
       "    </tr>\n",
       "    <tr>\n",
       "      <th>4</th>\n",
       "      <td>8</td>\n",
       "      <td>2016</td>\n",
       "      <td>NonResidential</td>\n",
       "      <td>Hotel</td>\n",
       "      <td>WARWICK SEATTLE HOTEL (ID8)</td>\n",
       "      <td>401 LENORA ST</td>\n",
       "      <td>Seattle</td>\n",
       "      <td>WA</td>\n",
       "      <td>98121.0</td>\n",
       "      <td>0659000970</td>\n",
       "      <td>7</td>\n",
       "      <td>DOWNTOWN</td>\n",
       "      <td>47.61375</td>\n",
       "      <td>-122.34047</td>\n",
       "      <td>1980</td>\n",
       "      <td>1.0</td>\n",
       "      <td>18</td>\n",
       "      <td>175580</td>\n",
       "      <td>62000</td>\n",
       "      <td>113580</td>\n",
       "      <td>Hotel, Parking, Swimming Pool</td>\n",
       "      <td>Hotel</td>\n",
       "      <td>123445.0</td>\n",
       "      <td>Parking</td>\n",
       "      <td>68009.0</td>\n",
       "      <td>Swimming Pool</td>\n",
       "      <td>0.0</td>\n",
       "      <td>NaN</td>\n",
       "      <td>75.0</td>\n",
       "      <td>114.800003</td>\n",
       "      <td>118.699997</td>\n",
       "      <td>211.399994</td>\n",
       "      <td>215.600006</td>\n",
       "      <td>14172606.0</td>\n",
       "      <td>14656503.0</td>\n",
       "      <td>0.00</td>\n",
       "      <td>1.573449e+06</td>\n",
       "      <td>5368607.0</td>\n",
       "      <td>88039.98438</td>\n",
       "      <td>8803998.0</td>\n",
       "      <td>False</td>\n",
       "      <td>NaN</td>\n",
       "      <td>Compliant</td>\n",
       "      <td>NaN</td>\n",
       "      <td>505.01</td>\n",
       "      <td>2.88</td>\n",
       "    </tr>\n",
       "  </tbody>\n",
       "</table>\n",
       "</div>"
      ],
      "text/plain": [
       "   OSEBuildingID  DataYear    BuildingType PrimaryPropertyType  \\\n",
       "0              1      2016  NonResidential               Hotel   \n",
       "1              2      2016  NonResidential               Hotel   \n",
       "2              3      2016  NonResidential               Hotel   \n",
       "3              5      2016  NonResidential               Hotel   \n",
       "4              8      2016  NonResidential               Hotel   \n",
       "\n",
       "                  PropertyName          Address     City State  ZipCode  \\\n",
       "0         Mayflower park hotel    405 Olive way  Seattle    WA  98101.0   \n",
       "1              Paramount Hotel  724 Pine street  Seattle    WA  98101.0   \n",
       "2      5673-The Westin Seattle  1900 5th Avenue  Seattle    WA  98101.0   \n",
       "3                    HOTEL MAX   620 STEWART ST  Seattle    WA  98101.0   \n",
       "4  WARWICK SEATTLE HOTEL (ID8)    401 LENORA ST  Seattle    WA  98121.0   \n",
       "\n",
       "  TaxParcelIdentificationNumber  CouncilDistrictCode Neighborhood  Latitude  \\\n",
       "0                    0659000030                    7     DOWNTOWN  47.61220   \n",
       "1                    0659000220                    7     DOWNTOWN  47.61317   \n",
       "2                    0659000475                    7     DOWNTOWN  47.61393   \n",
       "3                    0659000640                    7     DOWNTOWN  47.61412   \n",
       "4                    0659000970                    7     DOWNTOWN  47.61375   \n",
       "\n",
       "   Longitude  YearBuilt  NumberofBuildings  NumberofFloors  PropertyGFATotal  \\\n",
       "0 -122.33799       1927                1.0              12             88434   \n",
       "1 -122.33393       1996                1.0              11            103566   \n",
       "2 -122.33810       1969                1.0              41            956110   \n",
       "3 -122.33664       1926                1.0              10             61320   \n",
       "4 -122.34047       1980                1.0              18            175580   \n",
       "\n",
       "   PropertyGFAParking  PropertyGFABuilding(s)      ListOfAllPropertyUseTypes  \\\n",
       "0                   0                   88434                          Hotel   \n",
       "1               15064                   88502     Hotel, Parking, Restaurant   \n",
       "2              196718                  759392                          Hotel   \n",
       "3                   0                   61320                          Hotel   \n",
       "4               62000                  113580  Hotel, Parking, Swimming Pool   \n",
       "\n",
       "  LargestPropertyUseType  LargestPropertyUseTypeGFA  \\\n",
       "0                  Hotel                    88434.0   \n",
       "1                  Hotel                    83880.0   \n",
       "2                  Hotel                   756493.0   \n",
       "3                  Hotel                    61320.0   \n",
       "4                  Hotel                   123445.0   \n",
       "\n",
       "  SecondLargestPropertyUseType  SecondLargestPropertyUseTypeGFA  \\\n",
       "0                          NaN                              NaN   \n",
       "1                      Parking                          15064.0   \n",
       "2                          NaN                              NaN   \n",
       "3                          NaN                              NaN   \n",
       "4                      Parking                          68009.0   \n",
       "\n",
       "  ThirdLargestPropertyUseType  ThirdLargestPropertyUseTypeGFA  \\\n",
       "0                         NaN                             NaN   \n",
       "1                  Restaurant                          4622.0   \n",
       "2                         NaN                             NaN   \n",
       "3                         NaN                             NaN   \n",
       "4               Swimming Pool                             0.0   \n",
       "\n",
       "  YearsENERGYSTARCertified  ENERGYSTARScore  SiteEUI(kBtu/sf)  \\\n",
       "0                      NaN             60.0         81.699997   \n",
       "1                      NaN             61.0         94.800003   \n",
       "2                      NaN             43.0         96.000000   \n",
       "3                      NaN             56.0        110.800003   \n",
       "4                      NaN             75.0        114.800003   \n",
       "\n",
       "   SiteEUIWN(kBtu/sf)  SourceEUI(kBtu/sf)  SourceEUIWN(kBtu/sf)  \\\n",
       "0           84.300003          182.500000            189.000000   \n",
       "1           97.900002          176.100006            179.399994   \n",
       "2           97.699997          241.899994            244.100006   \n",
       "3          113.300003          216.199997            224.000000   \n",
       "4          118.699997          211.399994            215.600006   \n",
       "\n",
       "   SiteEnergyUse(kBtu)  SiteEnergyUseWN(kBtu)  SteamUse(kBtu)  \\\n",
       "0            7226362.5              7456910.0      2003882.00   \n",
       "1            8387933.0              8664479.0            0.00   \n",
       "2           72587024.0             73937112.0     21566554.00   \n",
       "3            6794584.0              6946800.5      2214446.25   \n",
       "4           14172606.0             14656503.0            0.00   \n",
       "\n",
       "   Electricity(kWh)  Electricity(kBtu)  NaturalGas(therms)  NaturalGas(kBtu)  \\\n",
       "0      1.156514e+06          3946027.0         12764.52930         1276453.0   \n",
       "1      9.504252e+05          3242851.0         51450.81641         5145082.0   \n",
       "2      1.451544e+07         49526664.0         14938.00000         1493800.0   \n",
       "3      8.115253e+05          2768924.0         18112.13086         1811213.0   \n",
       "4      1.573449e+06          5368607.0         88039.98438         8803998.0   \n",
       "\n",
       "   DefaultData  Comments ComplianceStatus Outlier  TotalGHGEmissions  \\\n",
       "0        False       NaN        Compliant     NaN             249.98   \n",
       "1        False       NaN        Compliant     NaN             295.86   \n",
       "2        False       NaN        Compliant     NaN            2089.28   \n",
       "3        False       NaN        Compliant     NaN             286.43   \n",
       "4        False       NaN        Compliant     NaN             505.01   \n",
       "\n",
       "   GHGEmissionsIntensity  \n",
       "0                   2.83  \n",
       "1                   2.86  \n",
       "2                   2.19  \n",
       "3                   4.67  \n",
       "4                   2.88  "
      ]
     },
     "execution_count": 6,
     "metadata": {},
     "output_type": "execute_result"
    }
   ],
   "source": [
    "# Charger le fichier de données\n",
    "data = pd.read_csv(\"C:/Users/admin/Documents/Projets/Projet_4/data_projet/source/2016_Building_Energy_Benchmarking.csv\", sep=',', low_memory=False)\n",
    "data.head()"
   ]
  },
  {
   "cell_type": "code",
   "execution_count": 7,
   "id": "bb438178-9243-4cef-a618-1d9665303e33",
   "metadata": {},
   "outputs": [
    {
     "data": {
      "text/plain": [
       "(3376, 46)"
      ]
     },
     "execution_count": 7,
     "metadata": {},
     "output_type": "execute_result"
    }
   ],
   "source": [
    "data.shape"
   ]
  },
  {
   "cell_type": "code",
   "execution_count": 8,
   "id": "753c3483-4a4a-42c0-bd32-25e23621e021",
   "metadata": {},
   "outputs": [
    {
     "data": {
      "text/html": [
       "<div>\n",
       "<style scoped>\n",
       "    .dataframe tbody tr th:only-of-type {\n",
       "        vertical-align: middle;\n",
       "    }\n",
       "\n",
       "    .dataframe tbody tr th {\n",
       "        vertical-align: top;\n",
       "    }\n",
       "\n",
       "    .dataframe thead th {\n",
       "        text-align: right;\n",
       "    }\n",
       "</style>\n",
       "<table border=\"1\" class=\"dataframe\">\n",
       "  <thead>\n",
       "    <tr style=\"text-align: right;\">\n",
       "      <th></th>\n",
       "      <th>OSEBuildingID</th>\n",
       "      <th>DataYear</th>\n",
       "      <th>ZipCode</th>\n",
       "      <th>CouncilDistrictCode</th>\n",
       "      <th>Latitude</th>\n",
       "      <th>Longitude</th>\n",
       "      <th>YearBuilt</th>\n",
       "      <th>NumberofBuildings</th>\n",
       "      <th>NumberofFloors</th>\n",
       "      <th>PropertyGFATotal</th>\n",
       "      <th>PropertyGFAParking</th>\n",
       "      <th>PropertyGFABuilding(s)</th>\n",
       "      <th>LargestPropertyUseTypeGFA</th>\n",
       "      <th>SecondLargestPropertyUseTypeGFA</th>\n",
       "      <th>ThirdLargestPropertyUseTypeGFA</th>\n",
       "      <th>ENERGYSTARScore</th>\n",
       "      <th>SiteEUI(kBtu/sf)</th>\n",
       "      <th>SiteEUIWN(kBtu/sf)</th>\n",
       "      <th>SourceEUI(kBtu/sf)</th>\n",
       "      <th>SourceEUIWN(kBtu/sf)</th>\n",
       "      <th>SiteEnergyUse(kBtu)</th>\n",
       "      <th>SiteEnergyUseWN(kBtu)</th>\n",
       "      <th>SteamUse(kBtu)</th>\n",
       "      <th>Electricity(kWh)</th>\n",
       "      <th>Electricity(kBtu)</th>\n",
       "      <th>NaturalGas(therms)</th>\n",
       "      <th>NaturalGas(kBtu)</th>\n",
       "      <th>Comments</th>\n",
       "      <th>TotalGHGEmissions</th>\n",
       "      <th>GHGEmissionsIntensity</th>\n",
       "    </tr>\n",
       "  </thead>\n",
       "  <tbody>\n",
       "    <tr>\n",
       "      <th>count</th>\n",
       "      <td>3376.000000</td>\n",
       "      <td>3376.0</td>\n",
       "      <td>3360.000000</td>\n",
       "      <td>3376.000000</td>\n",
       "      <td>3376.000000</td>\n",
       "      <td>3376.000000</td>\n",
       "      <td>3376.000000</td>\n",
       "      <td>3368.000000</td>\n",
       "      <td>3376.000000</td>\n",
       "      <td>3.376000e+03</td>\n",
       "      <td>3376.000000</td>\n",
       "      <td>3.376000e+03</td>\n",
       "      <td>3.356000e+03</td>\n",
       "      <td>1679.000000</td>\n",
       "      <td>596.000000</td>\n",
       "      <td>2533.000000</td>\n",
       "      <td>3369.000000</td>\n",
       "      <td>3370.000000</td>\n",
       "      <td>3367.000000</td>\n",
       "      <td>3367.000000</td>\n",
       "      <td>3.371000e+03</td>\n",
       "      <td>3.370000e+03</td>\n",
       "      <td>3.367000e+03</td>\n",
       "      <td>3.367000e+03</td>\n",
       "      <td>3.367000e+03</td>\n",
       "      <td>3.367000e+03</td>\n",
       "      <td>3.367000e+03</td>\n",
       "      <td>0.0</td>\n",
       "      <td>3367.000000</td>\n",
       "      <td>3367.000000</td>\n",
       "    </tr>\n",
       "    <tr>\n",
       "      <th>mean</th>\n",
       "      <td>21208.991114</td>\n",
       "      <td>2016.0</td>\n",
       "      <td>98116.949107</td>\n",
       "      <td>4.439277</td>\n",
       "      <td>47.624033</td>\n",
       "      <td>-122.334795</td>\n",
       "      <td>1968.573164</td>\n",
       "      <td>1.106888</td>\n",
       "      <td>4.709123</td>\n",
       "      <td>9.483354e+04</td>\n",
       "      <td>8001.526066</td>\n",
       "      <td>8.683201e+04</td>\n",
       "      <td>7.917764e+04</td>\n",
       "      <td>28444.075817</td>\n",
       "      <td>11738.675166</td>\n",
       "      <td>67.918674</td>\n",
       "      <td>54.732116</td>\n",
       "      <td>57.033798</td>\n",
       "      <td>134.232848</td>\n",
       "      <td>137.783932</td>\n",
       "      <td>5.403667e+06</td>\n",
       "      <td>5.276726e+06</td>\n",
       "      <td>2.745959e+05</td>\n",
       "      <td>1.086639e+06</td>\n",
       "      <td>3.707612e+06</td>\n",
       "      <td>1.368505e+04</td>\n",
       "      <td>1.368505e+06</td>\n",
       "      <td>NaN</td>\n",
       "      <td>119.723971</td>\n",
       "      <td>1.175916</td>\n",
       "    </tr>\n",
       "    <tr>\n",
       "      <th>std</th>\n",
       "      <td>12223.757015</td>\n",
       "      <td>0.0</td>\n",
       "      <td>18.615205</td>\n",
       "      <td>2.120625</td>\n",
       "      <td>0.047758</td>\n",
       "      <td>0.027203</td>\n",
       "      <td>33.088156</td>\n",
       "      <td>2.108402</td>\n",
       "      <td>5.494465</td>\n",
       "      <td>2.188376e+05</td>\n",
       "      <td>32326.723928</td>\n",
       "      <td>2.079398e+05</td>\n",
       "      <td>2.017034e+05</td>\n",
       "      <td>54392.917928</td>\n",
       "      <td>29331.199286</td>\n",
       "      <td>26.873271</td>\n",
       "      <td>56.273124</td>\n",
       "      <td>57.163330</td>\n",
       "      <td>139.287554</td>\n",
       "      <td>139.109807</td>\n",
       "      <td>2.161063e+07</td>\n",
       "      <td>1.593879e+07</td>\n",
       "      <td>3.912173e+06</td>\n",
       "      <td>4.352478e+06</td>\n",
       "      <td>1.485066e+07</td>\n",
       "      <td>6.709781e+04</td>\n",
       "      <td>6.709781e+06</td>\n",
       "      <td>NaN</td>\n",
       "      <td>538.832227</td>\n",
       "      <td>1.821452</td>\n",
       "    </tr>\n",
       "    <tr>\n",
       "      <th>min</th>\n",
       "      <td>1.000000</td>\n",
       "      <td>2016.0</td>\n",
       "      <td>98006.000000</td>\n",
       "      <td>1.000000</td>\n",
       "      <td>47.499170</td>\n",
       "      <td>-122.414250</td>\n",
       "      <td>1900.000000</td>\n",
       "      <td>0.000000</td>\n",
       "      <td>0.000000</td>\n",
       "      <td>1.128500e+04</td>\n",
       "      <td>0.000000</td>\n",
       "      <td>3.636000e+03</td>\n",
       "      <td>5.656000e+03</td>\n",
       "      <td>0.000000</td>\n",
       "      <td>0.000000</td>\n",
       "      <td>1.000000</td>\n",
       "      <td>0.000000</td>\n",
       "      <td>0.000000</td>\n",
       "      <td>0.000000</td>\n",
       "      <td>-2.100000</td>\n",
       "      <td>0.000000e+00</td>\n",
       "      <td>0.000000e+00</td>\n",
       "      <td>0.000000e+00</td>\n",
       "      <td>-3.382680e+04</td>\n",
       "      <td>-1.154170e+05</td>\n",
       "      <td>0.000000e+00</td>\n",
       "      <td>0.000000e+00</td>\n",
       "      <td>NaN</td>\n",
       "      <td>-0.800000</td>\n",
       "      <td>-0.020000</td>\n",
       "    </tr>\n",
       "    <tr>\n",
       "      <th>25%</th>\n",
       "      <td>19990.750000</td>\n",
       "      <td>2016.0</td>\n",
       "      <td>98105.000000</td>\n",
       "      <td>3.000000</td>\n",
       "      <td>47.599860</td>\n",
       "      <td>-122.350662</td>\n",
       "      <td>1948.000000</td>\n",
       "      <td>1.000000</td>\n",
       "      <td>2.000000</td>\n",
       "      <td>2.848700e+04</td>\n",
       "      <td>0.000000</td>\n",
       "      <td>2.775600e+04</td>\n",
       "      <td>2.509475e+04</td>\n",
       "      <td>5000.000000</td>\n",
       "      <td>2239.000000</td>\n",
       "      <td>53.000000</td>\n",
       "      <td>27.900000</td>\n",
       "      <td>29.400000</td>\n",
       "      <td>74.699997</td>\n",
       "      <td>78.400002</td>\n",
       "      <td>9.251286e+05</td>\n",
       "      <td>9.701822e+05</td>\n",
       "      <td>0.000000e+00</td>\n",
       "      <td>1.874229e+05</td>\n",
       "      <td>6.394870e+05</td>\n",
       "      <td>0.000000e+00</td>\n",
       "      <td>0.000000e+00</td>\n",
       "      <td>NaN</td>\n",
       "      <td>9.495000</td>\n",
       "      <td>0.210000</td>\n",
       "    </tr>\n",
       "    <tr>\n",
       "      <th>50%</th>\n",
       "      <td>23112.000000</td>\n",
       "      <td>2016.0</td>\n",
       "      <td>98115.000000</td>\n",
       "      <td>4.000000</td>\n",
       "      <td>47.618675</td>\n",
       "      <td>-122.332495</td>\n",
       "      <td>1975.000000</td>\n",
       "      <td>1.000000</td>\n",
       "      <td>4.000000</td>\n",
       "      <td>4.417500e+04</td>\n",
       "      <td>0.000000</td>\n",
       "      <td>4.321600e+04</td>\n",
       "      <td>3.989400e+04</td>\n",
       "      <td>10664.000000</td>\n",
       "      <td>5043.000000</td>\n",
       "      <td>75.000000</td>\n",
       "      <td>38.599998</td>\n",
       "      <td>40.900002</td>\n",
       "      <td>96.199997</td>\n",
       "      <td>101.099998</td>\n",
       "      <td>1.803753e+06</td>\n",
       "      <td>1.904452e+06</td>\n",
       "      <td>0.000000e+00</td>\n",
       "      <td>3.451299e+05</td>\n",
       "      <td>1.177583e+06</td>\n",
       "      <td>3.237538e+03</td>\n",
       "      <td>3.237540e+05</td>\n",
       "      <td>NaN</td>\n",
       "      <td>33.920000</td>\n",
       "      <td>0.610000</td>\n",
       "    </tr>\n",
       "    <tr>\n",
       "      <th>75%</th>\n",
       "      <td>25994.250000</td>\n",
       "      <td>2016.0</td>\n",
       "      <td>98122.000000</td>\n",
       "      <td>7.000000</td>\n",
       "      <td>47.657115</td>\n",
       "      <td>-122.319407</td>\n",
       "      <td>1997.000000</td>\n",
       "      <td>1.000000</td>\n",
       "      <td>5.000000</td>\n",
       "      <td>9.099200e+04</td>\n",
       "      <td>0.000000</td>\n",
       "      <td>8.427625e+04</td>\n",
       "      <td>7.620025e+04</td>\n",
       "      <td>26640.000000</td>\n",
       "      <td>10138.750000</td>\n",
       "      <td>90.000000</td>\n",
       "      <td>60.400002</td>\n",
       "      <td>64.275002</td>\n",
       "      <td>143.899994</td>\n",
       "      <td>148.349998</td>\n",
       "      <td>4.222455e+06</td>\n",
       "      <td>4.381429e+06</td>\n",
       "      <td>0.000000e+00</td>\n",
       "      <td>8.293178e+05</td>\n",
       "      <td>2.829632e+06</td>\n",
       "      <td>1.189033e+04</td>\n",
       "      <td>1.189034e+06</td>\n",
       "      <td>NaN</td>\n",
       "      <td>93.940000</td>\n",
       "      <td>1.370000</td>\n",
       "    </tr>\n",
       "    <tr>\n",
       "      <th>max</th>\n",
       "      <td>50226.000000</td>\n",
       "      <td>2016.0</td>\n",
       "      <td>98272.000000</td>\n",
       "      <td>7.000000</td>\n",
       "      <td>47.733870</td>\n",
       "      <td>-122.220966</td>\n",
       "      <td>2015.000000</td>\n",
       "      <td>111.000000</td>\n",
       "      <td>99.000000</td>\n",
       "      <td>9.320156e+06</td>\n",
       "      <td>512608.000000</td>\n",
       "      <td>9.320156e+06</td>\n",
       "      <td>9.320156e+06</td>\n",
       "      <td>686750.000000</td>\n",
       "      <td>459748.000000</td>\n",
       "      <td>100.000000</td>\n",
       "      <td>834.400024</td>\n",
       "      <td>834.400024</td>\n",
       "      <td>2620.000000</td>\n",
       "      <td>2620.000000</td>\n",
       "      <td>8.739237e+08</td>\n",
       "      <td>4.716139e+08</td>\n",
       "      <td>1.349435e+08</td>\n",
       "      <td>1.925775e+08</td>\n",
       "      <td>6.570744e+08</td>\n",
       "      <td>2.979090e+06</td>\n",
       "      <td>2.979090e+08</td>\n",
       "      <td>NaN</td>\n",
       "      <td>16870.980000</td>\n",
       "      <td>34.090000</td>\n",
       "    </tr>\n",
       "  </tbody>\n",
       "</table>\n",
       "</div>"
      ],
      "text/plain": [
       "       OSEBuildingID  DataYear       ZipCode  CouncilDistrictCode  \\\n",
       "count    3376.000000    3376.0   3360.000000          3376.000000   \n",
       "mean    21208.991114    2016.0  98116.949107             4.439277   \n",
       "std     12223.757015       0.0     18.615205             2.120625   \n",
       "min         1.000000    2016.0  98006.000000             1.000000   \n",
       "25%     19990.750000    2016.0  98105.000000             3.000000   \n",
       "50%     23112.000000    2016.0  98115.000000             4.000000   \n",
       "75%     25994.250000    2016.0  98122.000000             7.000000   \n",
       "max     50226.000000    2016.0  98272.000000             7.000000   \n",
       "\n",
       "          Latitude    Longitude    YearBuilt  NumberofBuildings  \\\n",
       "count  3376.000000  3376.000000  3376.000000        3368.000000   \n",
       "mean     47.624033  -122.334795  1968.573164           1.106888   \n",
       "std       0.047758     0.027203    33.088156           2.108402   \n",
       "min      47.499170  -122.414250  1900.000000           0.000000   \n",
       "25%      47.599860  -122.350662  1948.000000           1.000000   \n",
       "50%      47.618675  -122.332495  1975.000000           1.000000   \n",
       "75%      47.657115  -122.319407  1997.000000           1.000000   \n",
       "max      47.733870  -122.220966  2015.000000         111.000000   \n",
       "\n",
       "       NumberofFloors  PropertyGFATotal  PropertyGFAParking  \\\n",
       "count     3376.000000      3.376000e+03         3376.000000   \n",
       "mean         4.709123      9.483354e+04         8001.526066   \n",
       "std          5.494465      2.188376e+05        32326.723928   \n",
       "min          0.000000      1.128500e+04            0.000000   \n",
       "25%          2.000000      2.848700e+04            0.000000   \n",
       "50%          4.000000      4.417500e+04            0.000000   \n",
       "75%          5.000000      9.099200e+04            0.000000   \n",
       "max         99.000000      9.320156e+06       512608.000000   \n",
       "\n",
       "       PropertyGFABuilding(s)  LargestPropertyUseTypeGFA  \\\n",
       "count            3.376000e+03               3.356000e+03   \n",
       "mean             8.683201e+04               7.917764e+04   \n",
       "std              2.079398e+05               2.017034e+05   \n",
       "min              3.636000e+03               5.656000e+03   \n",
       "25%              2.775600e+04               2.509475e+04   \n",
       "50%              4.321600e+04               3.989400e+04   \n",
       "75%              8.427625e+04               7.620025e+04   \n",
       "max              9.320156e+06               9.320156e+06   \n",
       "\n",
       "       SecondLargestPropertyUseTypeGFA  ThirdLargestPropertyUseTypeGFA  \\\n",
       "count                      1679.000000                      596.000000   \n",
       "mean                      28444.075817                    11738.675166   \n",
       "std                       54392.917928                    29331.199286   \n",
       "min                           0.000000                        0.000000   \n",
       "25%                        5000.000000                     2239.000000   \n",
       "50%                       10664.000000                     5043.000000   \n",
       "75%                       26640.000000                    10138.750000   \n",
       "max                      686750.000000                   459748.000000   \n",
       "\n",
       "       ENERGYSTARScore  SiteEUI(kBtu/sf)  SiteEUIWN(kBtu/sf)  \\\n",
       "count      2533.000000       3369.000000         3370.000000   \n",
       "mean         67.918674         54.732116           57.033798   \n",
       "std          26.873271         56.273124           57.163330   \n",
       "min           1.000000          0.000000            0.000000   \n",
       "25%          53.000000         27.900000           29.400000   \n",
       "50%          75.000000         38.599998           40.900002   \n",
       "75%          90.000000         60.400002           64.275002   \n",
       "max         100.000000        834.400024          834.400024   \n",
       "\n",
       "       SourceEUI(kBtu/sf)  SourceEUIWN(kBtu/sf)  SiteEnergyUse(kBtu)  \\\n",
       "count         3367.000000           3367.000000         3.371000e+03   \n",
       "mean           134.232848            137.783932         5.403667e+06   \n",
       "std            139.287554            139.109807         2.161063e+07   \n",
       "min              0.000000             -2.100000         0.000000e+00   \n",
       "25%             74.699997             78.400002         9.251286e+05   \n",
       "50%             96.199997            101.099998         1.803753e+06   \n",
       "75%            143.899994            148.349998         4.222455e+06   \n",
       "max           2620.000000           2620.000000         8.739237e+08   \n",
       "\n",
       "       SiteEnergyUseWN(kBtu)  SteamUse(kBtu)  Electricity(kWh)  \\\n",
       "count           3.370000e+03    3.367000e+03      3.367000e+03   \n",
       "mean            5.276726e+06    2.745959e+05      1.086639e+06   \n",
       "std             1.593879e+07    3.912173e+06      4.352478e+06   \n",
       "min             0.000000e+00    0.000000e+00     -3.382680e+04   \n",
       "25%             9.701822e+05    0.000000e+00      1.874229e+05   \n",
       "50%             1.904452e+06    0.000000e+00      3.451299e+05   \n",
       "75%             4.381429e+06    0.000000e+00      8.293178e+05   \n",
       "max             4.716139e+08    1.349435e+08      1.925775e+08   \n",
       "\n",
       "       Electricity(kBtu)  NaturalGas(therms)  NaturalGas(kBtu)  Comments  \\\n",
       "count       3.367000e+03        3.367000e+03      3.367000e+03       0.0   \n",
       "mean        3.707612e+06        1.368505e+04      1.368505e+06       NaN   \n",
       "std         1.485066e+07        6.709781e+04      6.709781e+06       NaN   \n",
       "min        -1.154170e+05        0.000000e+00      0.000000e+00       NaN   \n",
       "25%         6.394870e+05        0.000000e+00      0.000000e+00       NaN   \n",
       "50%         1.177583e+06        3.237538e+03      3.237540e+05       NaN   \n",
       "75%         2.829632e+06        1.189033e+04      1.189034e+06       NaN   \n",
       "max         6.570744e+08        2.979090e+06      2.979090e+08       NaN   \n",
       "\n",
       "       TotalGHGEmissions  GHGEmissionsIntensity  \n",
       "count        3367.000000            3367.000000  \n",
       "mean          119.723971               1.175916  \n",
       "std           538.832227               1.821452  \n",
       "min            -0.800000              -0.020000  \n",
       "25%             9.495000               0.210000  \n",
       "50%            33.920000               0.610000  \n",
       "75%            93.940000               1.370000  \n",
       "max         16870.980000              34.090000  "
      ]
     },
     "execution_count": 8,
     "metadata": {},
     "output_type": "execute_result"
    }
   ],
   "source": [
    "data.describe()"
   ]
  },
  {
   "cell_type": "markdown",
   "id": "5ee827f7-d8e0-43b2-8bb6-e8d65ed9b23c",
   "metadata": {},
   "source": [
    "On voit déjà des valeurs aberrantes. Par exemple les valeurs de SourceEUIWN(kBtu/sf) et Electricity(kWh) sont négatives."
   ]
  },
  {
   "cell_type": "code",
   "execution_count": 10,
   "id": "84cff70b-623e-4f72-8129-3f46fb23b77a",
   "metadata": {},
   "outputs": [
    {
     "name": "stdout",
     "output_type": "stream",
     "text": [
      "Pourcentage de valeurs manquantes par colonne\n"
     ]
    },
    {
     "data": {
      "text/plain": [
       "OSEBuildingID                        0.00\n",
       "PropertyGFABuilding(s)               0.00\n",
       "PropertyGFAParking                   0.00\n",
       "PropertyGFATotal                     0.00\n",
       "NumberofFloors                       0.00\n",
       "YearBuilt                            0.00\n",
       "Longitude                            0.00\n",
       "Latitude                             0.00\n",
       "Neighborhood                         0.00\n",
       "DefaultData                          0.00\n",
       "CouncilDistrictCode                  0.00\n",
       "ComplianceStatus                     0.00\n",
       "State                                0.00\n",
       "City                                 0.00\n",
       "Address                              0.00\n",
       "PropertyName                         0.00\n",
       "PrimaryPropertyType                  0.00\n",
       "BuildingType                         0.00\n",
       "DataYear                             0.00\n",
       "TaxParcelIdentificationNumber        0.00\n",
       "SiteEnergyUse(kBtu)                  0.15\n",
       "SiteEnergyUseWN(kBtu)                0.18\n",
       "SiteEUIWN(kBtu/sf)                   0.18\n",
       "SiteEUI(kBtu/sf)                     0.21\n",
       "NumberofBuildings                    0.24\n",
       "Electricity(kBtu)                    0.27\n",
       "Electricity(kWh)                     0.27\n",
       "SteamUse(kBtu)                       0.27\n",
       "NaturalGas(kBtu)                     0.27\n",
       "SourceEUIWN(kBtu/sf)                 0.27\n",
       "NaturalGas(therms)                   0.27\n",
       "GHGEmissionsIntensity                0.27\n",
       "TotalGHGEmissions                    0.27\n",
       "ListOfAllPropertyUseTypes            0.27\n",
       "SourceEUI(kBtu/sf)                   0.27\n",
       "ZipCode                              0.47\n",
       "LargestPropertyUseType               0.59\n",
       "LargestPropertyUseTypeGFA            0.59\n",
       "ENERGYSTARScore                     24.97\n",
       "SecondLargestPropertyUseTypeGFA     50.27\n",
       "SecondLargestPropertyUseType        50.27\n",
       "ThirdLargestPropertyUseTypeGFA      82.35\n",
       "ThirdLargestPropertyUseType         82.35\n",
       "YearsENERGYSTARCertified            96.48\n",
       "Outlier                             99.05\n",
       "Comments                           100.00\n",
       "dtype: float64"
      ]
     },
     "execution_count": 10,
     "metadata": {},
     "output_type": "execute_result"
    }
   ],
   "source": [
    "list_sort = round(data.isna().mean().sort_values() * 100, 2)\n",
    "print('Pourcentage de valeurs manquantes par colonne')\n",
    "list_sort"
   ]
  },
  {
   "cell_type": "code",
   "execution_count": 11,
   "id": "4a972b00-f5c9-44c9-b8c6-fbaa49f858e7",
   "metadata": {},
   "outputs": [
    {
     "name": "stdout",
     "output_type": "stream",
     "text": [
      "<class 'pandas.core.frame.DataFrame'>\n",
      "RangeIndex: 3376 entries, 0 to 3375\n",
      "Data columns (total 46 columns):\n",
      " #   Column                           Non-Null Count  Dtype  \n",
      "---  ------                           --------------  -----  \n",
      " 0   OSEBuildingID                    3376 non-null   int64  \n",
      " 1   DataYear                         3376 non-null   int64  \n",
      " 2   BuildingType                     3376 non-null   object \n",
      " 3   PrimaryPropertyType              3376 non-null   object \n",
      " 4   PropertyName                     3376 non-null   object \n",
      " 5   Address                          3376 non-null   object \n",
      " 6   City                             3376 non-null   object \n",
      " 7   State                            3376 non-null   object \n",
      " 8   ZipCode                          3360 non-null   float64\n",
      " 9   TaxParcelIdentificationNumber    3376 non-null   object \n",
      " 10  CouncilDistrictCode              3376 non-null   int64  \n",
      " 11  Neighborhood                     3376 non-null   object \n",
      " 12  Latitude                         3376 non-null   float64\n",
      " 13  Longitude                        3376 non-null   float64\n",
      " 14  YearBuilt                        3376 non-null   int64  \n",
      " 15  NumberofBuildings                3368 non-null   float64\n",
      " 16  NumberofFloors                   3376 non-null   int64  \n",
      " 17  PropertyGFATotal                 3376 non-null   int64  \n",
      " 18  PropertyGFAParking               3376 non-null   int64  \n",
      " 19  PropertyGFABuilding(s)           3376 non-null   int64  \n",
      " 20  ListOfAllPropertyUseTypes        3367 non-null   object \n",
      " 21  LargestPropertyUseType           3356 non-null   object \n",
      " 22  LargestPropertyUseTypeGFA        3356 non-null   float64\n",
      " 23  SecondLargestPropertyUseType     1679 non-null   object \n",
      " 24  SecondLargestPropertyUseTypeGFA  1679 non-null   float64\n",
      " 25  ThirdLargestPropertyUseType      596 non-null    object \n",
      " 26  ThirdLargestPropertyUseTypeGFA   596 non-null    float64\n",
      " 27  YearsENERGYSTARCertified         119 non-null    object \n",
      " 28  ENERGYSTARScore                  2533 non-null   float64\n",
      " 29  SiteEUI(kBtu/sf)                 3369 non-null   float64\n",
      " 30  SiteEUIWN(kBtu/sf)               3370 non-null   float64\n",
      " 31  SourceEUI(kBtu/sf)               3367 non-null   float64\n",
      " 32  SourceEUIWN(kBtu/sf)             3367 non-null   float64\n",
      " 33  SiteEnergyUse(kBtu)              3371 non-null   float64\n",
      " 34  SiteEnergyUseWN(kBtu)            3370 non-null   float64\n",
      " 35  SteamUse(kBtu)                   3367 non-null   float64\n",
      " 36  Electricity(kWh)                 3367 non-null   float64\n",
      " 37  Electricity(kBtu)                3367 non-null   float64\n",
      " 38  NaturalGas(therms)               3367 non-null   float64\n",
      " 39  NaturalGas(kBtu)                 3367 non-null   float64\n",
      " 40  DefaultData                      3376 non-null   bool   \n",
      " 41  Comments                         0 non-null      float64\n",
      " 42  ComplianceStatus                 3376 non-null   object \n",
      " 43  Outlier                          32 non-null     object \n",
      " 44  TotalGHGEmissions                3367 non-null   float64\n",
      " 45  GHGEmissionsIntensity            3367 non-null   float64\n",
      "dtypes: bool(1), float64(22), int64(8), object(15)\n",
      "memory usage: 1.2+ MB\n"
     ]
    }
   ],
   "source": [
    "data.info()"
   ]
  },
  {
   "cell_type": "markdown",
   "id": "1b0e5f37-5889-4f1d-ab97-9fe11959a2e1",
   "metadata": {},
   "source": [
    "Pour rappel, il y a 3 376 lignes."
   ]
  },
  {
   "cell_type": "code",
   "execution_count": 13,
   "id": "d66d5bd7-f2a8-4bf8-bd8e-86e089d5a0bd",
   "metadata": {},
   "outputs": [
    {
     "name": "stdout",
     "output_type": "stream",
     "text": [
      "Pourcentage de valeurs = 0 par colonne\n"
     ]
    },
    {
     "data": {
      "text/plain": [
       "OSEBuildingID                       0.00\n",
       "Outlier                             0.00\n",
       "ComplianceStatus                    0.00\n",
       "Comments                            0.00\n",
       "ENERGYSTARScore                     0.00\n",
       "YearsENERGYSTARCertified            0.00\n",
       "ThirdLargestPropertyUseType         0.00\n",
       "SecondLargestPropertyUseType        0.00\n",
       "LargestPropertyUseType              0.00\n",
       "ListOfAllPropertyUseTypes           0.00\n",
       "PropertyGFABuilding(s)              0.00\n",
       "PropertyGFATotal                    0.00\n",
       "YearBuilt                           0.00\n",
       "LargestPropertyUseTypeGFA           0.00\n",
       "Latitude                            0.00\n",
       "DataYear                            0.00\n",
       "BuildingType                        0.00\n",
       "Neighborhood                        0.00\n",
       "PrimaryPropertyType                 0.00\n",
       "CouncilDistrictCode                 0.00\n",
       "TaxParcelIdentificationNumber       0.00\n",
       "ZipCode                             0.00\n",
       "State                               0.00\n",
       "Longitude                           0.00\n",
       "City                                0.00\n",
       "PropertyName                        0.00\n",
       "Address                             0.00\n",
       "TotalGHGEmissions                   0.27\n",
       "GHGEmissionsIntensity               0.36\n",
       "Electricity(kBtu)                   0.41\n",
       "Electricity(kWh)                    0.41\n",
       "NumberofFloors                      0.47\n",
       "SiteEUI(kBtu/sf)                    0.47\n",
       "SiteEnergyUse(kBtu)                 0.53\n",
       "SourceEUI(kBtu/sf)                  0.71\n",
       "SiteEnergyUseWN(kBtu)               0.86\n",
       "SiteEUIWN(kBtu/sf)                  0.86\n",
       "SourceEUIWN(kBtu/sf)                1.07\n",
       "ThirdLargestPropertyUseTypeGFA      1.42\n",
       "NumberofBuildings                   2.73\n",
       "SecondLargestPropertyUseTypeGFA     3.73\n",
       "NaturalGas(therms)                 37.26\n",
       "NaturalGas(kBtu)                   37.26\n",
       "PropertyGFAParking                 85.07\n",
       "SteamUse(kBtu)                     95.88\n",
       "DefaultData                        96.65\n",
       "dtype: float64"
      ]
     },
     "execution_count": 13,
     "metadata": {},
     "output_type": "execute_result"
    }
   ],
   "source": [
    "list_sort = round((data == 0).mean().sort_values() * 100, 2)\n",
    "print('Pourcentage de valeurs = 0 par colonne')\n",
    "list_sort"
   ]
  },
  {
   "cell_type": "code",
   "execution_count": 14,
   "id": "056b5b29-0c4b-4dd7-a510-e03ff93ccfbf",
   "metadata": {},
   "outputs": [
    {
     "name": "stdout",
     "output_type": "stream",
     "text": [
      "Nombres de valeurs = 0 par colonne\n"
     ]
    },
    {
     "data": {
      "text/plain": [
       "OSEBuildingID                         0\n",
       "Outlier                               0\n",
       "ComplianceStatus                      0\n",
       "Comments                              0\n",
       "ENERGYSTARScore                       0\n",
       "YearsENERGYSTARCertified              0\n",
       "ThirdLargestPropertyUseType           0\n",
       "SecondLargestPropertyUseType          0\n",
       "LargestPropertyUseType                0\n",
       "ListOfAllPropertyUseTypes             0\n",
       "PropertyGFABuilding(s)                0\n",
       "PropertyGFATotal                      0\n",
       "YearBuilt                             0\n",
       "LargestPropertyUseTypeGFA             0\n",
       "Latitude                              0\n",
       "DataYear                              0\n",
       "BuildingType                          0\n",
       "Neighborhood                          0\n",
       "PrimaryPropertyType                   0\n",
       "CouncilDistrictCode                   0\n",
       "TaxParcelIdentificationNumber         0\n",
       "ZipCode                               0\n",
       "State                                 0\n",
       "Longitude                             0\n",
       "City                                  0\n",
       "PropertyName                          0\n",
       "Address                               0\n",
       "TotalGHGEmissions                     9\n",
       "GHGEmissionsIntensity                12\n",
       "Electricity(kBtu)                    14\n",
       "Electricity(kWh)                     14\n",
       "NumberofFloors                       16\n",
       "SiteEUI(kBtu/sf)                     16\n",
       "SiteEnergyUse(kBtu)                  18\n",
       "SourceEUI(kBtu/sf)                   24\n",
       "SiteEnergyUseWN(kBtu)                29\n",
       "SiteEUIWN(kBtu/sf)                   29\n",
       "SourceEUIWN(kBtu/sf)                 36\n",
       "ThirdLargestPropertyUseTypeGFA       48\n",
       "NumberofBuildings                    92\n",
       "SecondLargestPropertyUseTypeGFA     126\n",
       "NaturalGas(therms)                 1258\n",
       "NaturalGas(kBtu)                   1258\n",
       "PropertyGFAParking                 2872\n",
       "SteamUse(kBtu)                     3237\n",
       "DefaultData                        3263\n",
       "dtype: int64"
      ]
     },
     "execution_count": 14,
     "metadata": {},
     "output_type": "execute_result"
    }
   ],
   "source": [
    "list_sort = (data == 0).sum().sort_values()\n",
    "print('Nombres de valeurs = 0 par colonne')\n",
    "list_sort"
   ]
  },
  {
   "cell_type": "code",
   "execution_count": 15,
   "id": "461716dc-46f4-45ef-a3b4-83cec95b6d97",
   "metadata": {},
   "outputs": [
    {
     "data": {
      "text/plain": [
       "OSEBuildingID                      3376\n",
       "DataYear                              1\n",
       "BuildingType                          8\n",
       "PrimaryPropertyType                  24\n",
       "PropertyName                       3362\n",
       "Address                            3354\n",
       "City                                  1\n",
       "State                                 1\n",
       "ZipCode                              55\n",
       "TaxParcelIdentificationNumber      3268\n",
       "CouncilDistrictCode                   7\n",
       "Neighborhood                         19\n",
       "Latitude                           2876\n",
       "Longitude                          2656\n",
       "YearBuilt                           113\n",
       "NumberofBuildings                    17\n",
       "NumberofFloors                       50\n",
       "PropertyGFATotal                   3195\n",
       "PropertyGFAParking                  496\n",
       "PropertyGFABuilding(s)             3193\n",
       "ListOfAllPropertyUseTypes           466\n",
       "LargestPropertyUseType               56\n",
       "LargestPropertyUseTypeGFA          3122\n",
       "SecondLargestPropertyUseType         50\n",
       "SecondLargestPropertyUseTypeGFA    1352\n",
       "ThirdLargestPropertyUseType          44\n",
       "ThirdLargestPropertyUseTypeGFA      501\n",
       "YearsENERGYSTARCertified             65\n",
       "ENERGYSTARScore                     100\n",
       "SiteEUI(kBtu/sf)                   1085\n",
       "SiteEUIWN(kBtu/sf)                 1105\n",
       "SourceEUI(kBtu/sf)                 1648\n",
       "SourceEUIWN(kBtu/sf)               1694\n",
       "SiteEnergyUse(kBtu)                3354\n",
       "SiteEnergyUseWN(kBtu)              3341\n",
       "SteamUse(kBtu)                      131\n",
       "Electricity(kWh)                   3352\n",
       "Electricity(kBtu)                  3351\n",
       "NaturalGas(therms)                 2109\n",
       "NaturalGas(kBtu)                   2109\n",
       "DefaultData                           2\n",
       "Comments                              0\n",
       "ComplianceStatus                      4\n",
       "Outlier                               2\n",
       "TotalGHGEmissions                  2818\n",
       "GHGEmissionsIntensity               511\n",
       "dtype: int64"
      ]
     },
     "execution_count": 15,
     "metadata": {},
     "output_type": "execute_result"
    }
   ],
   "source": [
    "data.nunique()"
   ]
  },
  {
   "cell_type": "code",
   "execution_count": 16,
   "id": "23939f49-6333-40d5-8dbf-bfef3bc5e83f",
   "metadata": {},
   "outputs": [
    {
     "data": {
      "text/plain": [
       "array(['NonResidential', 'Nonresidential COS', 'Multifamily MR (5-9)',\n",
       "       'SPS-District K-12', 'Campus', 'Multifamily LR (1-4)',\n",
       "       'Multifamily HR (10+)', 'Nonresidential WA'], dtype=object)"
      ]
     },
     "execution_count": 16,
     "metadata": {},
     "output_type": "execute_result"
    }
   ],
   "source": [
    "data['BuildingType'].unique()"
   ]
  },
  {
   "cell_type": "code",
   "execution_count": 17,
   "id": "bf4a4625-f248-4dc7-a3a1-a8072f791299",
   "metadata": {},
   "outputs": [
    {
     "data": {
      "text/plain": [
       "array(['Hotel', 'Other', 'Mid-Rise Multifamily', 'Mixed Use Property',\n",
       "       'K-12 School', 'University', 'Small- and Mid-Sized Office',\n",
       "       'Self-Storage Facility', 'Warehouse', 'Large Office',\n",
       "       'Senior Care Community', 'Medical Office', 'Retail Store',\n",
       "       'Hospital', 'Residence Hall', 'Distribution Center',\n",
       "       'Worship Facility', 'Low-Rise Multifamily',\n",
       "       'Supermarket / Grocery Store', 'Laboratory',\n",
       "       'Refrigerated Warehouse', 'Restaurant', 'High-Rise Multifamily',\n",
       "       'Office'], dtype=object)"
      ]
     },
     "execution_count": 17,
     "metadata": {},
     "output_type": "execute_result"
    }
   ],
   "source": [
    "data['PrimaryPropertyType'].unique()"
   ]
  },
  {
   "cell_type": "code",
   "execution_count": 18,
   "id": "407a86ff-b175-471b-8710-7c06b53280de",
   "metadata": {},
   "outputs": [
    {
     "data": {
      "text/plain": [
       "array([7, 3, 2, 4, 5, 6, 1], dtype=int64)"
      ]
     },
     "execution_count": 18,
     "metadata": {},
     "output_type": "execute_result"
    }
   ],
   "source": [
    "data['CouncilDistrictCode'].unique()"
   ]
  },
  {
   "cell_type": "code",
   "execution_count": 19,
   "id": "2aa57b78-7a74-417a-83b4-91b72223c8bd",
   "metadata": {},
   "outputs": [
    {
     "data": {
      "text/plain": [
       "array(['DOWNTOWN', 'SOUTHEAST', 'NORTHEAST', 'EAST', 'Central', 'NORTH',\n",
       "       'MAGNOLIA / QUEEN ANNE', 'LAKE UNION', 'GREATER DUWAMISH',\n",
       "       'BALLARD', 'NORTHWEST', 'CENTRAL', 'SOUTHWEST', 'DELRIDGE',\n",
       "       'Ballard', 'North', 'Delridge', 'Northwest',\n",
       "       'DELRIDGE NEIGHBORHOODS'], dtype=object)"
      ]
     },
     "execution_count": 19,
     "metadata": {},
     "output_type": "execute_result"
    }
   ],
   "source": [
    "data['Neighborhood'].unique()"
   ]
  },
  {
   "cell_type": "code",
   "execution_count": 20,
   "id": "b89bcfad-2554-4bea-bb9c-6982ee831913",
   "metadata": {},
   "outputs": [
    {
     "data": {
      "text/plain": [
       "array(['Hotel', 'Police Station', 'Other - Entertainment/Public Assembly',\n",
       "       'Multifamily Housing', 'Library', 'Fitness Center/Health Club/Gym',\n",
       "       'Social/Meeting Hall', 'Courthouse', 'Other', 'K-12 School',\n",
       "       'College/University', 'Automobile Dealership', 'Office',\n",
       "       'Self-Storage Facility', 'Non-Refrigerated Warehouse',\n",
       "       'Other - Mall', 'Senior Care Community', 'Medical Office',\n",
       "       'Retail Store', 'Hospital (General Medical & Surgical)', 'Museum',\n",
       "       'Repair Services (Vehicle, Shoe, Locksmith, etc)',\n",
       "       'Other - Lodging/Residential', 'Residence Hall/Dormitory',\n",
       "       'Other/Specialty Hospital', 'Financial Office',\n",
       "       'Distribution Center', 'Parking', 'Worship Facility', 'Restaurant',\n",
       "       'Data Center', 'Laboratory', 'Supermarket/Grocery Store',\n",
       "       'Convention Center', 'Urgent Care/Clinic/Other Outpatient', nan,\n",
       "       'Other - Services', 'Strip Mall', 'Wholesale Club/Supercenter',\n",
       "       'Refrigerated Warehouse', 'Manufacturing/Industrial Plant',\n",
       "       'Other - Recreation', 'Lifestyle Center',\n",
       "       'Other - Public Services', 'Other - Education', 'Fire Station',\n",
       "       'Performing Arts', 'Residential Care Facility', 'Bank Branch',\n",
       "       'Other - Restaurant/Bar', 'Food Service', 'Adult Education',\n",
       "       'Other - Utility', 'Movie Theater',\n",
       "       'Personal Services (Health/Beauty, Dry Cleaning, etc)',\n",
       "       'Pre-school/Daycare', 'Prison/Incarceration'], dtype=object)"
      ]
     },
     "execution_count": 20,
     "metadata": {},
     "output_type": "execute_result"
    }
   ],
   "source": [
    "data['LargestPropertyUseType'].unique()"
   ]
  },
  {
   "cell_type": "code",
   "execution_count": 21,
   "id": "b8a6665f-1253-4a3e-b3cf-8bf0adf5e525",
   "metadata": {},
   "outputs": [
    {
     "data": {
      "text/plain": [
       "array([nan, 'High outlier', 'Low outlier'], dtype=object)"
      ]
     },
     "execution_count": 21,
     "metadata": {},
     "output_type": "execute_result"
    }
   ],
   "source": [
    "data['Outlier'].unique()"
   ]
  },
  {
   "cell_type": "code",
   "execution_count": 22,
   "id": "c06fff6f-212e-49e2-937b-e0698f47097d",
   "metadata": {},
   "outputs": [
    {
     "name": "stdout",
     "output_type": "stream",
     "text": [
      "Nombre de propriétés aberrantes :  32\n"
     ]
    }
   ],
   "source": [
    "mask = (data['Outlier'] == 'High outlier') | (data['Outlier'] == 'Low outlier')\n",
    "print(\"Nombre de propriétés aberrantes : \", data.loc[mask].shape[0])"
   ]
  },
  {
   "cell_type": "code",
   "execution_count": 23,
   "id": "0d101c4d-ef3f-47ae-9800-59c6aa7fa392",
   "metadata": {},
   "outputs": [
    {
     "data": {
      "text/plain": [
       "array(['Compliant', 'Error - Correct Default Data', 'Missing Data',\n",
       "       'Non-Compliant'], dtype=object)"
      ]
     },
     "execution_count": 23,
     "metadata": {},
     "output_type": "execute_result"
    }
   ],
   "source": [
    "data['ComplianceStatus'].unique()"
   ]
  },
  {
   "cell_type": "code",
   "execution_count": 24,
   "id": "526ff155-7d8d-4052-aa22-8f59cb31b624",
   "metadata": {},
   "outputs": [
    {
     "name": "stdout",
     "output_type": "stream",
     "text": [
      "Nombre de propriétés not compliant : 37\n",
      "Nombre de propriétés missing-data : 15\n",
      "Nombre de propriétés error : 113\n"
     ]
    }
   ],
   "source": [
    "mask = data['ComplianceStatus'].isin(['Non-Compliant'])\n",
    "print(\"Nombre de propriétés not compliant :\", data.loc[mask].shape[0])\n",
    "\n",
    "mask = data['ComplianceStatus'].isin(['Missing Data'])\n",
    "print(\"Nombre de propriétés missing-data :\", data.loc[mask].shape[0])\n",
    "\n",
    "mask = data['ComplianceStatus'].isin(['Error - Correct Default Data'])\n",
    "print(\"Nombre de propriétés error :\", data.loc[mask].shape[0])"
   ]
  },
  {
   "cell_type": "markdown",
   "id": "66db6637-25c6-474a-85c8-13b521b01f8b",
   "metadata": {},
   "source": [
    "On constate:\n",
    "- Il n'y a qu'une seule année dans le dataset\n",
    "- Il y a 8 types d'immmeuble (BuildingType)\n",
    "- Il y a une seule ville : Seattle, dans un seul état\n",
    "- Il y a 7 districts différents (CouncilDistrictCode)\n",
    "- Il y a 19 quartiers (Neighborhood), mais certains sont en double, donc 13 réels (nettoyage à prévoir)\n",
    "- Il y a 55 codes postaux différents (ZipCode)\n",
    "- Il y a 113 années de construction différentes (yearBuilt)\n",
    "- Il y a 100 valeurs différentes pour l'ENERGYSTARScore\n",
    "- Plusieurs batiments ont la même consommation d'energie, et le même taux d'émission de COS\n",
    "- Quelques bâtiments ont la même adresse\n",
    "- La feature 'Outlier' ne contient que 2 valeurs : High outlier et Low outlier. Et 99% des valeurs sont manquantes. Elle n'est donc pas utlisable\n",
    "- La feature 'ComplianceStatus' contient 4 valeurs : Compliant', 'Error - Correct Default Data', 'Missing Data', et 'Non-Compliant'. Toutes les valeurs sont présentes."
   ]
  },
  {
   "cell_type": "code",
   "execution_count": 26,
   "id": "529d9c9d-50a7-40ea-9be1-70ff029b2600",
   "metadata": {},
   "outputs": [
    {
     "data": {
      "text/plain": [
       "0"
      ]
     },
     "execution_count": 26,
     "metadata": {},
     "output_type": "execute_result"
    }
   ],
   "source": [
    "data.duplicated().sum()"
   ]
  },
  {
   "cell_type": "markdown",
   "id": "f023e497-125b-4891-a45a-919bca35b2f3",
   "metadata": {},
   "source": [
    "Il n'y a pas de données dupliquées."
   ]
  },
  {
   "cell_type": "markdown",
   "id": "107835e2-1953-474c-acfe-f19f9144ed75",
   "metadata": {},
   "source": [
    "### 2 - Choix des variables"
   ]
  },
  {
   "cell_type": "markdown",
   "id": "0c7f54f6-1f58-4d77-9d41-199afa78f609",
   "metadata": {},
   "source": [
    "#### 2.1 - Sources d'energie\n",
    "\n",
    "Il y a 3 sources d'energie dans le fichier : electricité, vapeur, gaz naturel.\n",
    "\n",
    "Il faut choisir les sources exprimées en kBtu pour pouvoir les comparer entre elles, et déterminer la proportion utilisée par bâtiment.\n",
    "\n",
    "Il s'agit des variables : Electricity(kBtu) , NaturalGas(kBtu), SteamUse(kBtu) \n",
    "\n",
    "Ces 3 variables sont assez bien utilisées.\n",
    "\n",
    "#### 2.2 - Données structurelles"
   ]
  },
  {
   "cell_type": "markdown",
   "id": "78c4e17f-adcc-401b-ad3e-a3e2303c347f",
   "metadata": {},
   "source": [
    "Liste des données structurelles\n",
    "- PrimaryPropertyType (usage principal) - dans un second temps pour l'amélioration des modèles\n",
    "- Neighborhood (quartier)\n",
    "- YearBuilt (année de construction) - créer des périodes (nouvelle variable catégorielle)\n",
    "- NumberofBuildings (nombre de bâtiments)\n",
    "- NumberofFloors (nombre d'étages)\n",
    "- PropertyGFATotal (surface plancher brute bâtiment et stationnement)\n",
    "- PropertyGFAParking (surface totale des stationnements en pieds carrés)  - dans un second temps pour l'amélioration des modèles\n",
    "- PropertyGFABuilding(s) (surface des bâtiments hors stationnement en pieds carrés)  - dans un second temps pour l'amélioration des modèles\n",
    "- LargestPropertyUseType (doublon avec PrimaryPropertyType ???)  - dans un second temps pour l'amélioration des modèles\n",
    "- LargestPropertyUseTypeGFA (surface d'utlisation du type d'usage principal)  - dans un second temps pour l'amélioration des modèles\n",
    "\n",
    "SecondLargestPropertyUseType et ThirdLargestPropertyUseType ne sont pas suffisamment valorisées, respectivement 50% et 82% de valeurs manquantes."
   ]
  },
  {
   "cell_type": "markdown",
   "id": "158a8acd-9a6b-49bc-9488-7fe60985b001",
   "metadata": {},
   "source": [
    "#### 2.3 - Choix des 2 variables cibles\n",
    "\n",
    "\n",
    "Le dataset ne contient pas la superficie des bâtiments : faut-il donner les cibles en valeur absolue ? Ou divisée par la superficie ?\n",
    "\n",
    "\n",
    "**Consommation totale d’énergie**\n",
    "\n",
    "Il y a plusieurs features qui pourraient représenter la consommation totale d'energy. Mais la plus pertinente est 'SiteEnergyUseWN(kBtu)', car :\n",
    "- Elle est très bien valorisée (0,18 % de valeurs manquantes)\n",
    "- Elle intègre toutes les sources d'energy\n",
    "- Elle est harmonisée\n",
    "- Sa valeur n'est pas déterminée en fonction de la superficie du bâtiment\n",
    "\n",
    "**émissions de CO2**\n",
    "\n",
    "Il y a plusieurs features qui pourraient représenter les émissions de CO2. Mais la plus pertinente est 'TotalGHGEmissions', car :\n",
    "- Elle est très bien valorisée (0,27 % de valeurs manquantes)\n",
    "- Sa valeur n'est pas déterminée en fonction de la superficie du bâtiment"
   ]
  },
  {
   "cell_type": "markdown",
   "id": "191a891e-c9bf-4da3-b161-d38cd1073e16",
   "metadata": {},
   "source": [
    "#### 2.4 - ENERGYSTARScore\n",
    "\n",
    "Il est assez mal valorisé. Il s'agit d'une note de 1 à 100 calculée, qui évalue la performance énergétique globale d'une propriété, sur la base de données nationales pour contrôler les différences entre le climat, les utilisations et les opérations du bâtiment. Un score de 50 représente la médiane nationale."
   ]
  },
  {
   "cell_type": "markdown",
   "id": "5619d5c3-9e28-49fa-bb24-d1ad14500522",
   "metadata": {},
   "source": [
    "### 3 - Filter le dataset sur les bâtiments non destinés à l'habitation"
   ]
  },
  {
   "cell_type": "markdown",
   "id": "f126b532-c199-4555-8baf-ca9b09c1a41d",
   "metadata": {},
   "source": [
    "La variable qui permet d'identifier le caractère résidentiel ou non est \"BuildingType\". Elle prend les valeurs suivantes :"
   ]
  },
  {
   "cell_type": "code",
   "execution_count": 35,
   "id": "c329bda4-0229-417e-a013-27ecf2d31d0b",
   "metadata": {},
   "outputs": [
    {
     "data": {
      "text/plain": [
       "array(['NonResidential', 'Nonresidential COS', 'Multifamily MR (5-9)',\n",
       "       'SPS-District K-12', 'Campus', 'Multifamily LR (1-4)',\n",
       "       'Multifamily HR (10+)', 'Nonresidential WA'], dtype=object)"
      ]
     },
     "execution_count": 35,
     "metadata": {},
     "output_type": "execute_result"
    }
   ],
   "source": [
    "data['BuildingType'].unique()"
   ]
  },
  {
   "cell_type": "markdown",
   "id": "373f4fd1-e288-4034-92af-613dab8d50df",
   "metadata": {},
   "source": [
    "Si on demande à ChatGPT de décrire ces types, voici ce qu'on obtient :"
   ]
  },
  {
   "attachments": {
    "deb96ca8-9855-496a-8a6d-eac415b2731d.png": {
     "image/png": "[encoded data removed]"
    }
   },
   "cell_type": "markdown",
   "id": "18407e79-be67-4dca-92fe-4a171aa97d4c",
   "metadata": {},
   "source": [
    "![image.png](attachment:deb96ca8-9855-496a-8a6d-eac415b2731d.png)"
   ]
  },
  {
   "cell_type": "markdown",
   "id": "c0d84197-5e12-4b85-96de-86c3e1ed6212",
   "metadata": {},
   "source": [
    "Pour le projet, nous allons donc retenir les catégories suivantes :\n",
    "- NonResidential\n",
    "- Nonresidential COS\n",
    "- SPS-District K-12\n",
    "- Campus\n",
    "- Nonresidential WA"
   ]
  },
  {
   "cell_type": "code",
   "execution_count": 39,
   "id": "4d76d0a1-620b-43d2-87db-9fbeca1242e0",
   "metadata": {},
   "outputs": [],
   "source": [
    "building_types = ['NonResidential', 'Nonresidential COS', 'SPS-District K-12', 'Campus', 'Nonresidential WA']"
   ]
  },
  {
   "cell_type": "code",
   "execution_count": 40,
   "id": "c91451ff-a038-4fd5-b70e-c8af1457f97a",
   "metadata": {},
   "outputs": [
    {
     "data": {
      "text/plain": [
       "(1668, 46)"
      ]
     },
     "execution_count": 40,
     "metadata": {},
     "output_type": "execute_result"
    }
   ],
   "source": [
    "mask = data['BuildingType'].isin(building_types)\n",
    "data = data.loc[mask]\n",
    "data.shape"
   ]
  },
  {
   "cell_type": "markdown",
   "id": "92886c3e-9b27-4fb1-b329-e0b1647b1c83",
   "metadata": {},
   "source": [
    "Il reste la moitié des bâtiments dans le dataset."
   ]
  },
  {
   "cell_type": "code",
   "execution_count": 42,
   "id": "2ef6c5f5-68c1-45c5-b25e-7da7f91fd272",
   "metadata": {},
   "outputs": [
    {
     "name": "stdout",
     "output_type": "stream",
     "text": [
      "<class 'pandas.core.frame.DataFrame'>\n",
      "Index: 1668 entries, 0 to 3375\n",
      "Data columns (total 46 columns):\n",
      " #   Column                           Non-Null Count  Dtype  \n",
      "---  ------                           --------------  -----  \n",
      " 0   OSEBuildingID                    1668 non-null   int64  \n",
      " 1   DataYear                         1668 non-null   int64  \n",
      " 2   BuildingType                     1668 non-null   object \n",
      " 3   PrimaryPropertyType              1668 non-null   object \n",
      " 4   PropertyName                     1668 non-null   object \n",
      " 5   Address                          1668 non-null   object \n",
      " 6   City                             1668 non-null   object \n",
      " 7   State                            1668 non-null   object \n",
      " 8   ZipCode                          1652 non-null   float64\n",
      " 9   TaxParcelIdentificationNumber    1668 non-null   object \n",
      " 10  CouncilDistrictCode              1668 non-null   int64  \n",
      " 11  Neighborhood                     1668 non-null   object \n",
      " 12  Latitude                         1668 non-null   float64\n",
      " 13  Longitude                        1668 non-null   float64\n",
      " 14  YearBuilt                        1668 non-null   int64  \n",
      " 15  NumberofBuildings                1666 non-null   float64\n",
      " 16  NumberofFloors                   1668 non-null   int64  \n",
      " 17  PropertyGFATotal                 1668 non-null   int64  \n",
      " 18  PropertyGFAParking               1668 non-null   int64  \n",
      " 19  PropertyGFABuilding(s)           1668 non-null   int64  \n",
      " 20  ListOfAllPropertyUseTypes        1666 non-null   object \n",
      " 21  LargestPropertyUseType           1662 non-null   object \n",
      " 22  LargestPropertyUseTypeGFA        1662 non-null   float64\n",
      " 23  SecondLargestPropertyUseType     855 non-null    object \n",
      " 24  SecondLargestPropertyUseTypeGFA  855 non-null    float64\n",
      " 25  ThirdLargestPropertyUseType      353 non-null    object \n",
      " 26  ThirdLargestPropertyUseTypeGFA   353 non-null    float64\n",
      " 27  YearsENERGYSTARCertified         98 non-null     object \n",
      " 28  ENERGYSTARScore                  1094 non-null   float64\n",
      " 29  SiteEUI(kBtu/sf)                 1665 non-null   float64\n",
      " 30  SiteEUIWN(kBtu/sf)               1665 non-null   float64\n",
      " 31  SourceEUI(kBtu/sf)               1666 non-null   float64\n",
      " 32  SourceEUIWN(kBtu/sf)             1666 non-null   float64\n",
      " 33  SiteEnergyUse(kBtu)              1666 non-null   float64\n",
      " 34  SiteEnergyUseWN(kBtu)            1665 non-null   float64\n",
      " 35  SteamUse(kBtu)                   1666 non-null   float64\n",
      " 36  Electricity(kWh)                 1666 non-null   float64\n",
      " 37  Electricity(kBtu)                1666 non-null   float64\n",
      " 38  NaturalGas(therms)               1666 non-null   float64\n",
      " 39  NaturalGas(kBtu)                 1666 non-null   float64\n",
      " 40  DefaultData                      1668 non-null   bool   \n",
      " 41  Comments                         0 non-null      float64\n",
      " 42  ComplianceStatus                 1668 non-null   object \n",
      " 43  Outlier                          17 non-null     object \n",
      " 44  TotalGHGEmissions                1666 non-null   float64\n",
      " 45  GHGEmissionsIntensity            1666 non-null   float64\n",
      "dtypes: bool(1), float64(22), int64(8), object(15)\n",
      "memory usage: 601.1+ KB\n"
     ]
    }
   ],
   "source": [
    "data.info()"
   ]
  },
  {
   "cell_type": "markdown",
   "id": "254746dc-b7cc-4059-8e3e-a1283bc4ad17",
   "metadata": {},
   "source": [
    "### 4 - Supprimer les produits qui n'ont pas de valeurs cibles"
   ]
  },
  {
   "cell_type": "code",
   "execution_count": 44,
   "id": "650ec6db-f352-4bf4-9127-6cd21a3476f8",
   "metadata": {},
   "outputs": [],
   "source": [
    "cibles = ['SiteEnergyUseWN(kBtu)', 'TotalGHGEmissions']"
   ]
  },
  {
   "cell_type": "code",
   "execution_count": 45,
   "id": "bb584dff-7446-442d-aedd-653ad4ba687b",
   "metadata": {},
   "outputs": [
    {
     "data": {
      "text/plain": [
       "(1668, 46)"
      ]
     },
     "execution_count": 45,
     "metadata": {},
     "output_type": "execute_result"
    }
   ],
   "source": [
    "data.shape"
   ]
  },
  {
   "cell_type": "markdown",
   "id": "9574ef1c-177c-4d8c-bbad-795dfae7b8cf",
   "metadata": {},
   "source": [
    "**Rechercher et supprimer les valeurs manquantes**"
   ]
  },
  {
   "cell_type": "code",
   "execution_count": 47,
   "id": "5e0771b2-10fd-4a9a-b9f7-02de5958c6c1",
   "metadata": {},
   "outputs": [
    {
     "name": "stdout",
     "output_type": "stream",
     "text": [
      "                                 PropertyName  SiteEnergyUseWN(kBtu)\n",
      "563   Market Place I & II-2003 Western Avenue                    NaN\n",
      "578                          SEATTLE BUILDING                    NaN\n",
      "2670                         KALBERG BUILDING                    NaN\n"
     ]
    }
   ],
   "source": [
    "mask = data['SiteEnergyUseWN(kBtu)'].isna()\n",
    "print(data.loc[mask, ['PropertyName', 'SiteEnergyUseWN(kBtu)']])"
   ]
  },
  {
   "cell_type": "code",
   "execution_count": 48,
   "id": "0c1edd55-8803-4fc0-acf5-9e515c80818b",
   "metadata": {},
   "outputs": [],
   "source": [
    "mask = ~data['SiteEnergyUseWN(kBtu)'].isna()\n",
    "data = data.loc[mask]"
   ]
  },
  {
   "cell_type": "code",
   "execution_count": 49,
   "id": "25de609b-8ac8-48ef-b16d-577ef0b2abe7",
   "metadata": {},
   "outputs": [
    {
     "data": {
      "text/plain": [
       "(1665, 46)"
      ]
     },
     "execution_count": 49,
     "metadata": {},
     "output_type": "execute_result"
    }
   ],
   "source": [
    "data.shape"
   ]
  },
  {
   "cell_type": "code",
   "execution_count": 50,
   "id": "af3056b6-af42-403d-a384-85fd18169dda",
   "metadata": {},
   "outputs": [
    {
     "name": "stdout",
     "output_type": "stream",
     "text": [
      "Empty DataFrame\n",
      "Columns: [PropertyName, TotalGHGEmissions]\n",
      "Index: []\n"
     ]
    }
   ],
   "source": [
    "mask = data['TotalGHGEmissions'].isna()\n",
    "print(data.loc[mask, ['PropertyName', 'TotalGHGEmissions']])"
   ]
  },
  {
   "cell_type": "markdown",
   "id": "8606b9d5-7bf7-4919-a856-e5ebdaca53d1",
   "metadata": {},
   "source": [
    "Les valeurs de la variable TotalGHGEmissions des lignes supprimées étaient aussi manquantes"
   ]
  },
  {
   "cell_type": "markdown",
   "id": "e51f117b-3df7-4696-b074-ae7e9b25b852",
   "metadata": {},
   "source": [
    "**Rechercher et supprimer les valeurs nulles qui sont à considérer comme manquante**"
   ]
  },
  {
   "cell_type": "code",
   "execution_count": 53,
   "id": "bb2edac1-7b39-4bbb-b45a-e54e1a556e8f",
   "metadata": {},
   "outputs": [
    {
     "name": "stdout",
     "output_type": "stream",
     "text": [
      "                                     PropertyName  SiteEnergyUseWN(kBtu)\n",
      "28                                 Meany Building                    0.0\n",
      "31                            John Hay Elementary                    0.0\n",
      "62                       Arbor Heights Elementary                    0.0\n",
      "81                                 Pathfinder K-8                    0.0\n",
      "85                           John Muir Elementary                    0.0\n",
      "95                            B.F. Day Elementary                    0.0\n",
      "133                                Whitman Middle                    0.0\n",
      "139                             Washington Middle                    0.0\n",
      "152                       Olympic View Elementary                    0.0\n",
      "220                               Norton Building                    0.0\n",
      "247                        Metropolitan Park East                    0.0\n",
      "284               Onni 1411 Fourth Development LP                    0.0\n",
      "304            Washington State Convention Center                    0.0\n",
      "350                               200 First Ave W                    0.0\n",
      "614                     Bailey Gatzert Elementary                    0.0\n",
      "630                             Leschi Elementary                    0.0\n",
      "746                Welcome Home Society - PriceCo                    0.0\n",
      "882            Green Lake United Methodist Church                    0.0\n",
      "953                                Temple Beth Am                    0.0\n",
      "1361                     Olympic Hills Elementary                    0.0\n",
      "1894                       North Beach Elementary                    0.0\n",
      "3166                         Catharine Blaine K-8                    0.0\n",
      "3274    University of Washington - Seattle Campus                    0.0\n",
      "3275                                    Aerospace                    0.0\n",
      "3277  Computer Science and Electrical Engineering                    0.0\n"
     ]
    }
   ],
   "source": [
    "mask = data['SiteEnergyUseWN(kBtu)'] == 0\n",
    "print(data.loc[mask, ['PropertyName', 'SiteEnergyUseWN(kBtu)']])"
   ]
  },
  {
   "cell_type": "code",
   "execution_count": 54,
   "id": "5e10b937-f4a2-426d-9544-14b09d4f235b",
   "metadata": {},
   "outputs": [],
   "source": [
    "mask = ~(data['SiteEnergyUseWN(kBtu)'] == 0)\n",
    "data = data.loc[mask]"
   ]
  },
  {
   "cell_type": "code",
   "execution_count": 55,
   "id": "cae6a41b-0bd8-49c2-965a-e6f7a0d3a81c",
   "metadata": {},
   "outputs": [
    {
     "data": {
      "text/plain": [
       "(1640, 46)"
      ]
     },
     "execution_count": 55,
     "metadata": {},
     "output_type": "execute_result"
    }
   ],
   "source": [
    "data.shape"
   ]
  },
  {
   "cell_type": "code",
   "execution_count": 56,
   "id": "b04d6330-d0b0-4c80-a55e-64a2f20d8c72",
   "metadata": {},
   "outputs": [
    {
     "name": "stdout",
     "output_type": "stream",
     "text": [
      "                  PropertyName  TotalGHGEmissions\n",
      "513  IUC- Whole Foods Interbay                0.0\n"
     ]
    }
   ],
   "source": [
    "mask = data['TotalGHGEmissions'] == 0\n",
    "print(data.loc[mask, ['PropertyName', 'TotalGHGEmissions']])"
   ]
  },
  {
   "cell_type": "code",
   "execution_count": 57,
   "id": "fd6bb256-58eb-4e1e-90db-bd6270eff136",
   "metadata": {},
   "outputs": [],
   "source": [
    "mask = ~(data['TotalGHGEmissions'] == 0)\n",
    "data = data.loc[mask]"
   ]
  },
  {
   "cell_type": "code",
   "execution_count": 58,
   "id": "4f7dba9a-b8ca-454f-9500-6215317d3d70",
   "metadata": {},
   "outputs": [
    {
     "data": {
      "text/plain": [
       "(1639, 46)"
      ]
     },
     "execution_count": 58,
     "metadata": {},
     "output_type": "execute_result"
    }
   ],
   "source": [
    "data.shape"
   ]
  },
  {
   "cell_type": "markdown",
   "id": "208cfdb0-6eeb-4a27-949c-46b5029cda9b",
   "metadata": {},
   "source": [
    "### 5 - Automatiser les étapes 3 et 4"
   ]
  },
  {
   "cell_type": "code",
   "execution_count": 60,
   "id": "6acc5b91-24a0-4a9a-8ee0-b1f91688273e",
   "metadata": {},
   "outputs": [
    {
     "data": {
      "text/plain": [
       "(3376, 46)"
      ]
     },
     "execution_count": 60,
     "metadata": {},
     "output_type": "execute_result"
    }
   ],
   "source": [
    "# Charger le fichier de données\n",
    "data = pd.read_csv(\"C:/Users/admin/Documents/Projets/Projet_4/data_projet/source/2016_Building_Energy_Benchmarking.csv\", sep=',', low_memory=False)\n",
    "data.shape"
   ]
  },
  {
   "cell_type": "code",
   "execution_count": 61,
   "id": "a8f40f56-f21b-4347-8bdb-e6bfd8e22fad",
   "metadata": {},
   "outputs": [],
   "source": [
    "def select_dataset(df):\n",
    "\n",
    "    # Filter le dataset sur les bâtiments non destinés à l'habitation\n",
    "    building_types = ['NonResidential', 'Nonresidential COS', 'SPS-District K-12', 'Campus', 'Nonresidential WA']\n",
    "    mask = df['BuildingType'].isin(building_types)\n",
    "    df = df.loc[mask]\n",
    "    \n",
    "    # Supprimer les produits qui n'ont pas de valeurs cibles\n",
    "    ## Rechercher et supprimer les valeurs manquantes\n",
    "    mask = ~df['SiteEnergyUseWN(kBtu)'].isna()\n",
    "    df = df.loc[mask]\n",
    "    mask = ~df['TotalGHGEmissions'].isna()\n",
    "    df = df.loc[mask]\n",
    "\n",
    "    ## Rechercher et supprimer les valeurs nulles qui sont à considérer comme manquantes\n",
    "    mask = (df['SiteEnergyUseWN(kBtu)'] != 0) & (df['TotalGHGEmissions'] != 0)\n",
    "    df = df.loc[mask]\n",
    "\n",
    "    return df    "
   ]
  },
  {
   "cell_type": "code",
   "execution_count": 62,
   "id": "8e041ea7-3fe3-4edb-af76-efe8233b389f",
   "metadata": {},
   "outputs": [
    {
     "data": {
      "text/plain": [
       "(1639, 46)"
      ]
     },
     "execution_count": 62,
     "metadata": {},
     "output_type": "execute_result"
    }
   ],
   "source": [
    "data = select_dataset(data)\n",
    "data.shape"
   ]
  },
  {
   "cell_type": "markdown",
   "id": "9dd5d38c-3fbb-4cfa-9866-d8c1666daf0b",
   "metadata": {},
   "source": [
    "### 6 - 1er feature engineering"
   ]
  },
  {
   "cell_type": "markdown",
   "id": "372fcf81-1904-4c06-9538-20be1ea6ccfe",
   "metadata": {},
   "source": [
    "#### 6.1 - Traiter les valeurs manquantes des features de consommation d'energy"
   ]
  },
  {
   "cell_type": "code",
   "execution_count": 65,
   "id": "209d2dea-f9ba-4fea-a44a-0d6c582f3f8b",
   "metadata": {},
   "outputs": [
    {
     "name": "stdout",
     "output_type": "stream",
     "text": [
      "Nombre de lignes où les valeurs des 3 types d'energy sont nulles :  0\n"
     ]
    }
   ],
   "source": [
    "mask = (data['Electricity(kBtu)'] == 0) & (data['NaturalGas(kBtu)'] == 0) & (data['SteamUse(kBtu)'] == 0)\n",
    "print(\"Nombre de lignes où les valeurs des 3 types d'energy sont nulles : \", data.loc[mask].shape[0])"
   ]
  },
  {
   "cell_type": "code",
   "execution_count": 66,
   "id": "a5a76e68-3b4b-4e81-83b0-f38e76c601b9",
   "metadata": {},
   "outputs": [
    {
     "name": "stdout",
     "output_type": "stream",
     "text": [
      "Nombre de lignes où les valeurs des 3 types d'energy sont manquantes :  0\n"
     ]
    }
   ],
   "source": [
    "mask = (data['Electricity(kBtu)'].isna()) & (data['NaturalGas(kBtu)'].isna()) & (data['SteamUse(kBtu)'].isna())\n",
    "print(\"Nombre de lignes où les valeurs des 3 types d'energy sont manquantes : \", data.loc[mask].shape[0])"
   ]
  },
  {
   "cell_type": "markdown",
   "id": "e0fa75dc-1dba-45da-b075-5e73ded974e5",
   "metadata": {},
   "source": [
    "#### 6.2 - Filtrer sur les variables \"Outlier\" et \"CompliantStatus\""
   ]
  },
  {
   "cell_type": "code",
   "execution_count": 68,
   "id": "64f0c3db-50ed-43d4-b690-5e5b6e4ca210",
   "metadata": {},
   "outputs": [
    {
     "name": "stdout",
     "output_type": "stream",
     "text": [
      "Nombre de propriétés aberrantes :  17\n"
     ]
    }
   ],
   "source": [
    "mask = (data['Outlier'] == 'High outlier') | (data['Outlier'] == 'Low outlier')\n",
    "print(\"Nombre de propriétés aberrantes : \", data.loc[mask].shape[0])"
   ]
  },
  {
   "cell_type": "markdown",
   "id": "a17f2709-811c-4008-8e74-63c2aaa5c35c",
   "metadata": {},
   "source": [
    "Comme le nombre de propriété aberrantes concerne 1% du dataset, on peut supprimer ces lignes:"
   ]
  },
  {
   "cell_type": "code",
   "execution_count": 70,
   "id": "0eed38ad-e45d-4d7b-abf5-3bccf28b3410",
   "metadata": {},
   "outputs": [
    {
     "data": {
      "text/plain": [
       "(1639, 46)"
      ]
     },
     "execution_count": 70,
     "metadata": {},
     "output_type": "execute_result"
    }
   ],
   "source": [
    "data.shape"
   ]
  },
  {
   "cell_type": "code",
   "execution_count": 71,
   "id": "fdef7e92-558f-429b-b8af-723bf314e13f",
   "metadata": {},
   "outputs": [
    {
     "data": {
      "text/plain": [
       "(1622, 46)"
      ]
     },
     "execution_count": 71,
     "metadata": {},
     "output_type": "execute_result"
    }
   ],
   "source": [
    "mask = ~data['Outlier'].isin(['High outlier', 'Low outlier'])\n",
    "data = data.loc[mask]\n",
    "data.shape"
   ]
  },
  {
   "cell_type": "code",
   "execution_count": 72,
   "id": "644c41f8-4374-4f9d-9cd5-5917088b0f99",
   "metadata": {},
   "outputs": [
    {
     "name": "stdout",
     "output_type": "stream",
     "text": [
      "Nombre de propriétés not compliant : 0\n",
      "Nombre de propriétés missing-data : 0\n",
      "Nombre de propriétés error : 85\n"
     ]
    }
   ],
   "source": [
    "mask = data['ComplianceStatus'].isin(['Non-Compliant'])\n",
    "print(\"Nombre de propriétés not compliant :\", data.loc[mask].shape[0])\n",
    "\n",
    "mask = data['ComplianceStatus'].isin(['Missing Data'])\n",
    "print(\"Nombre de propriétés missing-data :\", data.loc[mask].shape[0])\n",
    "\n",
    "mask = data['ComplianceStatus'].isin(['Error - Correct Default Data'])\n",
    "print(\"Nombre de propriétés error :\", data.loc[mask].shape[0])"
   ]
  },
  {
   "cell_type": "markdown",
   "id": "854ac294-e42e-4ce8-bfdf-cd98c10583a9",
   "metadata": {},
   "source": [
    "Les 85 propriétés en erreur représentent 5% du dataset. Cela fait beaucoup à supprimer. Donc pour le moment je les conserve, car la description de cette variable n'est pas claire sur ce type d'erreur."
   ]
  },
  {
   "cell_type": "markdown",
   "id": "f4abebd5-065b-48f5-8848-be3e928ce70f",
   "metadata": {},
   "source": [
    "**Automatisation:**"
   ]
  },
  {
   "cell_type": "code",
   "execution_count": 181,
   "id": "6286df93-52dc-41e7-9efd-71d6935aaaf9",
   "metadata": {},
   "outputs": [],
   "source": [
    "def delete_outliers(df):\n",
    "    mask = ~df['Outlier'].isin(['High outlier', 'Low outlier'])\n",
    "    df= df.loc[mask]\n",
    "    return df"
   ]
  },
  {
   "cell_type": "markdown",
   "id": "92a24339-2096-422a-85c9-0666af7d9b99",
   "metadata": {},
   "source": [
    "#### 6.3 - Traiter les valeurs aberrantes\n",
    "\n",
    "Liste des variables du 1er feature engineering :"
   ]
  },
  {
   "cell_type": "code",
   "execution_count": 211,
   "id": "64ec5d92-667a-4530-bfac-d15f6a3a122b",
   "metadata": {},
   "outputs": [],
   "source": [
    "features_fe1 = ['PrimaryPropertyType', 'Neighborhood', 'YearBuilt', 'NumberofBuildings', 'NumberofFloors', 'PropertyGFATotal', \\\n",
    "                'Electricity(kBtu)', 'NaturalGas(kBtu)', 'SteamUse(kBtu)', 'SiteEnergyUseWN(kBtu)', 'TotalGHGEmissions']"
   ]
  },
  {
   "cell_type": "code",
   "execution_count": 80,
   "id": "5036cae3-613f-4263-96b1-b72b1f6c9180",
   "metadata": {},
   "outputs": [
    {
     "data": {
      "text/html": [
       "<div>\n",
       "<style scoped>\n",
       "    .dataframe tbody tr th:only-of-type {\n",
       "        vertical-align: middle;\n",
       "    }\n",
       "\n",
       "    .dataframe tbody tr th {\n",
       "        vertical-align: top;\n",
       "    }\n",
       "\n",
       "    .dataframe thead th {\n",
       "        text-align: right;\n",
       "    }\n",
       "</style>\n",
       "<table border=\"1\" class=\"dataframe\">\n",
       "  <thead>\n",
       "    <tr style=\"text-align: right;\">\n",
       "      <th></th>\n",
       "      <th>YearBuilt</th>\n",
       "      <th>NumberofBuildings</th>\n",
       "      <th>NumberofFloors</th>\n",
       "      <th>PropertyGFATotal</th>\n",
       "      <th>Electricity(kBtu)</th>\n",
       "      <th>NaturalGas(kBtu)</th>\n",
       "      <th>SteamUse(kBtu)</th>\n",
       "      <th>SiteEnergyUseWN(kBtu)</th>\n",
       "      <th>TotalGHGEmissions</th>\n",
       "    </tr>\n",
       "  </thead>\n",
       "  <tbody>\n",
       "    <tr>\n",
       "      <th>count</th>\n",
       "      <td>1622.000000</td>\n",
       "      <td>1622.000000</td>\n",
       "      <td>1622.000000</td>\n",
       "      <td>1.622000e+03</td>\n",
       "      <td>1.622000e+03</td>\n",
       "      <td>1.622000e+03</td>\n",
       "      <td>1.622000e+03</td>\n",
       "      <td>1.622000e+03</td>\n",
       "      <td>1622.000000</td>\n",
       "    </tr>\n",
       "    <tr>\n",
       "      <th>mean</th>\n",
       "      <td>1962.048089</td>\n",
       "      <td>1.102959</td>\n",
       "      <td>4.136868</td>\n",
       "      <td>1.132678e+05</td>\n",
       "      <td>5.494045e+06</td>\n",
       "      <td>2.012954e+06</td>\n",
       "      <td>4.655916e+05</td>\n",
       "      <td>8.219665e+06</td>\n",
       "      <td>181.147244</td>\n",
       "    </tr>\n",
       "    <tr>\n",
       "      <th>std</th>\n",
       "      <td>32.689652</td>\n",
       "      <td>1.170743</td>\n",
       "      <td>6.620385</td>\n",
       "      <td>1.934086e+05</td>\n",
       "      <td>1.342554e+07</td>\n",
       "      <td>9.491907e+06</td>\n",
       "      <td>5.171827e+06</td>\n",
       "      <td>2.227302e+07</td>\n",
       "      <td>711.156893</td>\n",
       "    </tr>\n",
       "    <tr>\n",
       "      <th>min</th>\n",
       "      <td>1900.000000</td>\n",
       "      <td>0.000000</td>\n",
       "      <td>0.000000</td>\n",
       "      <td>1.128500e+04</td>\n",
       "      <td>-1.154170e+05</td>\n",
       "      <td>0.000000e+00</td>\n",
       "      <td>0.000000e+00</td>\n",
       "      <td>5.811420e+04</td>\n",
       "      <td>-0.800000</td>\n",
       "    </tr>\n",
       "    <tr>\n",
       "      <th>25%</th>\n",
       "      <td>1930.000000</td>\n",
       "      <td>1.000000</td>\n",
       "      <td>1.000000</td>\n",
       "      <td>2.939250e+04</td>\n",
       "      <td>7.418918e+05</td>\n",
       "      <td>0.000000e+00</td>\n",
       "      <td>0.000000e+00</td>\n",
       "      <td>1.362387e+06</td>\n",
       "      <td>20.870000</td>\n",
       "    </tr>\n",
       "    <tr>\n",
       "      <th>50%</th>\n",
       "      <td>1965.500000</td>\n",
       "      <td>1.000000</td>\n",
       "      <td>2.000000</td>\n",
       "      <td>4.898850e+04</td>\n",
       "      <td>1.633988e+06</td>\n",
       "      <td>5.313785e+05</td>\n",
       "      <td>0.000000e+00</td>\n",
       "      <td>2.772078e+06</td>\n",
       "      <td>50.245000</td>\n",
       "    </tr>\n",
       "    <tr>\n",
       "      <th>75%</th>\n",
       "      <td>1989.000000</td>\n",
       "      <td>1.000000</td>\n",
       "      <td>4.000000</td>\n",
       "      <td>1.046775e+05</td>\n",
       "      <td>4.902622e+06</td>\n",
       "      <td>1.531840e+06</td>\n",
       "      <td>0.000000e+00</td>\n",
       "      <td>7.322608e+06</td>\n",
       "      <td>143.102500</td>\n",
       "    </tr>\n",
       "    <tr>\n",
       "      <th>max</th>\n",
       "      <td>2015.000000</td>\n",
       "      <td>27.000000</td>\n",
       "      <td>99.000000</td>\n",
       "      <td>2.200000e+06</td>\n",
       "      <td>2.745325e+08</td>\n",
       "      <td>2.979090e+08</td>\n",
       "      <td>1.349435e+08</td>\n",
       "      <td>4.716139e+08</td>\n",
       "      <td>16870.980000</td>\n",
       "    </tr>\n",
       "  </tbody>\n",
       "</table>\n",
       "</div>"
      ],
      "text/plain": [
       "         YearBuilt  NumberofBuildings  NumberofFloors  PropertyGFATotal  \\\n",
       "count  1622.000000        1622.000000     1622.000000      1.622000e+03   \n",
       "mean   1962.048089           1.102959        4.136868      1.132678e+05   \n",
       "std      32.689652           1.170743        6.620385      1.934086e+05   \n",
       "min    1900.000000           0.000000        0.000000      1.128500e+04   \n",
       "25%    1930.000000           1.000000        1.000000      2.939250e+04   \n",
       "50%    1965.500000           1.000000        2.000000      4.898850e+04   \n",
       "75%    1989.000000           1.000000        4.000000      1.046775e+05   \n",
       "max    2015.000000          27.000000       99.000000      2.200000e+06   \n",
       "\n",
       "       Electricity(kBtu)  NaturalGas(kBtu)  SteamUse(kBtu)  \\\n",
       "count       1.622000e+03      1.622000e+03    1.622000e+03   \n",
       "mean        5.494045e+06      2.012954e+06    4.655916e+05   \n",
       "std         1.342554e+07      9.491907e+06    5.171827e+06   \n",
       "min        -1.154170e+05      0.000000e+00    0.000000e+00   \n",
       "25%         7.418918e+05      0.000000e+00    0.000000e+00   \n",
       "50%         1.633988e+06      5.313785e+05    0.000000e+00   \n",
       "75%         4.902622e+06      1.531840e+06    0.000000e+00   \n",
       "max         2.745325e+08      2.979090e+08    1.349435e+08   \n",
       "\n",
       "       SiteEnergyUseWN(kBtu)  TotalGHGEmissions  \n",
       "count           1.622000e+03        1622.000000  \n",
       "mean            8.219665e+06         181.147244  \n",
       "std             2.227302e+07         711.156893  \n",
       "min             5.811420e+04          -0.800000  \n",
       "25%             1.362387e+06          20.870000  \n",
       "50%             2.772078e+06          50.245000  \n",
       "75%             7.322608e+06         143.102500  \n",
       "max             4.716139e+08       16870.980000  "
      ]
     },
     "execution_count": 80,
     "metadata": {},
     "output_type": "execute_result"
    }
   ],
   "source": [
    "data[features_fe1].describe()"
   ]
  },
  {
   "cell_type": "markdown",
   "id": "b9b3c37e-f723-4a2c-b22c-83474049fcb4",
   "metadata": {},
   "source": [
    "**Cible SiteEnergyUseWN(kBtu)**"
   ]
  },
  {
   "cell_type": "markdown",
   "id": "1fc37c86-e30b-4c51-92fb-960882e0f874",
   "metadata": {},
   "source": [
    "Visualiser la distribution:"
   ]
  },
  {
   "cell_type": "code",
   "execution_count": 83,
   "id": "c9947165-c1a7-4196-abbd-a5208d0ffa9c",
   "metadata": {},
   "outputs": [
    {
     "data": {
      "image/png": "[encoded data removed]",
      "text/plain": [
       "<Figure size 640x480 with 1 Axes>"
      ]
     },
     "metadata": {},
     "output_type": "display_data"
    }
   ],
   "source": [
    "#plt.figure(figsize=(15,5))\n",
    "sns.histplot(data=data, x='SiteEnergyUseWN(kBtu)')\n",
    "plt.title('Histplot of SiteEnergyUseWN(kBtu)', fontsize=16)\n",
    "plt.show()"
   ]
  },
  {
   "cell_type": "code",
   "execution_count": 84,
   "id": "9034be82-1991-4699-8321-889211e66429",
   "metadata": {},
   "outputs": [
    {
     "data": {
      "image/png": "[encoded data removed]",
      "text/plain": [
       "<Figure size 640x480 with 1 Axes>"
      ]
     },
     "metadata": {},
     "output_type": "display_data"
    }
   ],
   "source": [
    "sns.boxplot(x=data['SiteEnergyUseWN(kBtu)'])\n",
    "plt.title('Boxplot of SiteEnergyUseWN(kBtu)', fontsize=16)\n",
    "plt.show()"
   ]
  },
  {
   "cell_type": "markdown",
   "id": "c044766a-7b20-4e6a-be10-3b6ea8fb7416",
   "metadata": {},
   "source": [
    "On constate la présence de nombreux outliers qui viennent perturber la visualisation.\n",
    "\n",
    "On peut aussi regarder la méthode basée sur l'IQR pour idnetifier les valeurs aberrantes. L'IQR est la différence entre le 25e centile (Q1) et le 75e centile (Q3) des données. Les valeurs :\r\n",
    "\r\n",
    "inférieures à Q1 - 1,5 * IQR\r\n",
    "ou supérieures à Q3 + 1,5 * IQR\r\n",
    "sont considérées comme aberrantes."
   ]
  },
  {
   "cell_type": "code",
   "execution_count": 86,
   "id": "6be3ea50-0571-4ef5-9645-590c1288177f",
   "metadata": {},
   "outputs": [
    {
     "name": "stdout",
     "output_type": "stream",
     "text": [
      "limite basse : 0 kBtu\n",
      "limite haute : 16262938.3 kBtu\n"
     ]
    }
   ],
   "source": [
    "# On calcule l'IQR (intervalle interquartile)\n",
    "Q1 = data['SiteEnergyUseWN(kBtu)'].quantile(0.25)\n",
    "Q3 = data['SiteEnergyUseWN(kBtu)'].quantile(0.75)\n",
    "IQR = Q3 - Q1\n",
    "\n",
    "# On calcule les limites\n",
    "limite_basse = max(0, Q1 - 1.5 * IQR)\n",
    "limite_haute = Q3 + 1.5 * IQR\n",
    "\n",
    "print(\"limite basse :\", limite_basse, \"kBtu\")\n",
    "print(\"limite haute :\", round(limite_haute,2), \"kBtu\")"
   ]
  },
  {
   "cell_type": "markdown",
   "id": "9939cd19-4a3f-436d-bc56-817f68a1ac3d",
   "metadata": {},
   "source": [
    "Combien de propriétés sont au-dessus de la limite haute ?"
   ]
  },
  {
   "cell_type": "code",
   "execution_count": 187,
   "id": "91360d92-3313-45eb-8517-382496fe402f",
   "metadata": {},
   "outputs": [
    {
     "name": "stdout",
     "output_type": "stream",
     "text": [
      "Nombre de propriétés au-dessus de la limite haute : 177\n"
     ]
    }
   ],
   "source": [
    "mask = data['SiteEnergyUseWN(kBtu)'] > limite_haute\n",
    "print(\"Nombre de propriétés au-dessus de la limite haute :\", data.loc[mask].shape[0])"
   ]
  },
  {
   "cell_type": "markdown",
   "id": "9527943e-5f2a-49ce-8508-06b0fcbde16a",
   "metadata": {},
   "source": [
    "Quel est le \"complianceStatus\" de ces propriétés ?"
   ]
  },
  {
   "cell_type": "code",
   "execution_count": 189,
   "id": "de934005-b205-4666-85f4-d25a0ab5c090",
   "metadata": {},
   "outputs": [
    {
     "data": {
      "text/plain": [
       "ComplianceStatus\n",
       "Compliant    177\n",
       "Name: count, dtype: int64"
      ]
     },
     "execution_count": 189,
     "metadata": {},
     "output_type": "execute_result"
    }
   ],
   "source": [
    "data.loc[mask, 'ComplianceStatus'].value_counts()"
   ]
  },
  {
   "cell_type": "markdown",
   "id": "879aca4b-5111-4b90-9d36-b4c490ba352f",
   "metadata": {},
   "source": [
    "On voit ici la faible utilité de la variable ComplianceStatus"
   ]
  },
  {
   "cell_type": "markdown",
   "id": "023bee12-c60a-4bb1-8b45-4b7dcd9a71ba",
   "metadata": {},
   "source": [
    "Quelle est la distribution sans ces propriétés ?"
   ]
  },
  {
   "cell_type": "code",
   "execution_count": 90,
   "id": "4656d0c6-b8d1-405f-89db-e39964f0b77a",
   "metadata": {},
   "outputs": [
    {
     "data": {
      "image/png": "[encoded data removed]",
      "text/plain": [
       "<Figure size 640x480 with 1 Axes>"
      ]
     },
     "metadata": {},
     "output_type": "display_data"
    }
   ],
   "source": [
    "mask = data['SiteEnergyUseWN(kBtu)'] <= limite_haute\n",
    "sample = data.loc[mask]\n",
    "sns.histplot(data=sample, x='SiteEnergyUseWN(kBtu)')\n",
    "plt.title('Histplot of SiteEnergyUseWN(kBtu)', fontsize=16)\n",
    "plt.show()"
   ]
  },
  {
   "cell_type": "markdown",
   "id": "2717c9ab-c9c1-4ca8-8d7f-8ee5441718d1",
   "metadata": {},
   "source": [
    "On visualise une distribution unimodale asymétrique (étalement à droite)."
   ]
  },
  {
   "cell_type": "code",
   "execution_count": 92,
   "id": "4484af88-35de-4e4e-be0a-5651e22305c6",
   "metadata": {},
   "outputs": [
    {
     "data": {
      "image/png": "[encoded data removed]",
      "text/plain": [
       "<Figure size 640x480 with 1 Axes>"
      ]
     },
     "metadata": {},
     "output_type": "display_data"
    }
   ],
   "source": [
    "sns.boxplot(x=sample['SiteEnergyUseWN(kBtu)'])\n",
    "plt.title('Boxplot of SiteEnergyUseWN(kBtu)', fontsize=16)\n",
    "plt.show()"
   ]
  },
  {
   "cell_type": "markdown",
   "id": "efce6ea8-c9c0-4831-b2bc-311c7866e939",
   "metadata": {},
   "source": [
    "Est-ce que ces valeurs \"aberrantes\" ont un lien avec la surface du bâtiment ?"
   ]
  },
  {
   "cell_type": "code",
   "execution_count": 238,
   "id": "f79291ac-45df-427b-a1b3-86b90039cd05",
   "metadata": {},
   "outputs": [
    {
     "data": {
      "image/png": "[encoded data removed]",
      "text/plain": [
       "<Figure size 640x480 with 1 Axes>"
      ]
     },
     "metadata": {},
     "output_type": "display_data"
    }
   ],
   "source": [
    "# Création du scatter plot\n",
    "data.plot.scatter(x='PropertyGFATotal', y='SiteEnergyUseWN(kBtu)', alpha=0.1)\n",
    "\n",
    "# Affichage du graphique\n",
    "plt.show()"
   ]
  },
  {
   "cell_type": "markdown",
   "id": "bf2bfcbf-4bdc-4934-9f71-adb64ec3626c",
   "metadata": {},
   "source": [
    "On voit ici que les valeurs de consommation au-dessus de 1,6e8 ne s'expliquent pas forcément par la superficie du bâtiment.\n",
    "\n",
    "Je vais donc supprimer du dataset les valeurs au-dessus de la limite haute."
   ]
  },
  {
   "cell_type": "code",
   "execution_count": 199,
   "id": "2a2f46e4-484b-4386-aa9f-74fdf1b8e632",
   "metadata": {},
   "outputs": [],
   "source": [
    "mask = data['SiteEnergyUseWN(kBtu)'] <= limite_haute\n",
    "data = data.loc[mask]"
   ]
  },
  {
   "cell_type": "code",
   "execution_count": 201,
   "id": "88f58548-942f-4982-8284-520e3fb99e31",
   "metadata": {},
   "outputs": [
    {
     "data": {
      "text/plain": [
       "(1445, 46)"
      ]
     },
     "execution_count": 201,
     "metadata": {},
     "output_type": "execute_result"
    }
   ],
   "source": [
    "data.shape"
   ]
  },
  {
   "cell_type": "code",
   "execution_count": 203,
   "id": "658623be-bc09-4b9a-a539-3f8f727e9b73",
   "metadata": {},
   "outputs": [
    {
     "data": {
      "image/png": "[encoded data removed]",
      "text/plain": [
       "<Figure size 640x480 with 1 Axes>"
      ]
     },
     "metadata": {},
     "output_type": "display_data"
    }
   ],
   "source": [
    "sns.histplot(data=sample, x='SiteEnergyUseWN(kBtu)')\n",
    "plt.title('Histplot of SiteEnergyUseWN(kBtu)', fontsize=16)\n",
    "plt.show()"
   ]
  },
  {
   "cell_type": "code",
   "execution_count": 213,
   "id": "0bb64328-ebf0-4bba-b014-db74ec053754",
   "metadata": {},
   "outputs": [
    {
     "data": {
      "text/html": [
       "<div>\n",
       "<style scoped>\n",
       "    .dataframe tbody tr th:only-of-type {\n",
       "        vertical-align: middle;\n",
       "    }\n",
       "\n",
       "    .dataframe tbody tr th {\n",
       "        vertical-align: top;\n",
       "    }\n",
       "\n",
       "    .dataframe thead th {\n",
       "        text-align: right;\n",
       "    }\n",
       "</style>\n",
       "<table border=\"1\" class=\"dataframe\">\n",
       "  <thead>\n",
       "    <tr style=\"text-align: right;\">\n",
       "      <th></th>\n",
       "      <th>YearBuilt</th>\n",
       "      <th>NumberofBuildings</th>\n",
       "      <th>NumberofFloors</th>\n",
       "      <th>PropertyGFATotal</th>\n",
       "      <th>Electricity(kBtu)</th>\n",
       "      <th>NaturalGas(kBtu)</th>\n",
       "      <th>SteamUse(kBtu)</th>\n",
       "      <th>SiteEnergyUseWN(kBtu)</th>\n",
       "      <th>TotalGHGEmissions</th>\n",
       "    </tr>\n",
       "  </thead>\n",
       "  <tbody>\n",
       "    <tr>\n",
       "      <th>count</th>\n",
       "      <td>1445.000000</td>\n",
       "      <td>1445.000000</td>\n",
       "      <td>1445.000000</td>\n",
       "      <td>1445.000000</td>\n",
       "      <td>1.445000e+03</td>\n",
       "      <td>1.445000e+03</td>\n",
       "      <td>1.445000e+03</td>\n",
       "      <td>1.445000e+03</td>\n",
       "      <td>1445.000000</td>\n",
       "    </tr>\n",
       "    <tr>\n",
       "      <th>mean</th>\n",
       "      <td>1960.210381</td>\n",
       "      <td>1.022145</td>\n",
       "      <td>3.078201</td>\n",
       "      <td>69280.738408</td>\n",
       "      <td>2.492841e+06</td>\n",
       "      <td>1.018276e+06</td>\n",
       "      <td>9.451563e+04</td>\n",
       "      <td>3.767918e+06</td>\n",
       "      <td>78.754754</td>\n",
       "    </tr>\n",
       "    <tr>\n",
       "      <th>std</th>\n",
       "      <td>32.678129</td>\n",
       "      <td>0.435040</td>\n",
       "      <td>3.746112</td>\n",
       "      <td>70740.623113</td>\n",
       "      <td>2.744288e+06</td>\n",
       "      <td>1.505151e+06</td>\n",
       "      <td>5.616864e+05</td>\n",
       "      <td>3.595049e+06</td>\n",
       "      <td>95.616344</td>\n",
       "    </tr>\n",
       "    <tr>\n",
       "      <th>min</th>\n",
       "      <td>1900.000000</td>\n",
       "      <td>0.000000</td>\n",
       "      <td>0.000000</td>\n",
       "      <td>11285.000000</td>\n",
       "      <td>-1.154170e+05</td>\n",
       "      <td>0.000000e+00</td>\n",
       "      <td>0.000000e+00</td>\n",
       "      <td>5.811420e+04</td>\n",
       "      <td>-0.800000</td>\n",
       "    </tr>\n",
       "    <tr>\n",
       "      <th>25%</th>\n",
       "      <td>1929.000000</td>\n",
       "      <td>1.000000</td>\n",
       "      <td>1.000000</td>\n",
       "      <td>28072.000000</td>\n",
       "      <td>6.781670e+05</td>\n",
       "      <td>0.000000e+00</td>\n",
       "      <td>0.000000e+00</td>\n",
       "      <td>1.259282e+06</td>\n",
       "      <td>18.620000</td>\n",
       "    </tr>\n",
       "    <tr>\n",
       "      <th>50%</th>\n",
       "      <td>1963.000000</td>\n",
       "      <td>1.000000</td>\n",
       "      <td>2.000000</td>\n",
       "      <td>43661.000000</td>\n",
       "      <td>1.357120e+06</td>\n",
       "      <td>4.768320e+05</td>\n",
       "      <td>0.000000e+00</td>\n",
       "      <td>2.340056e+06</td>\n",
       "      <td>43.450000</td>\n",
       "    </tr>\n",
       "    <tr>\n",
       "      <th>75%</th>\n",
       "      <td>1987.000000</td>\n",
       "      <td>1.000000</td>\n",
       "      <td>4.000000</td>\n",
       "      <td>78374.000000</td>\n",
       "      <td>3.327045e+06</td>\n",
       "      <td>1.239357e+06</td>\n",
       "      <td>0.000000e+00</td>\n",
       "      <td>5.205994e+06</td>\n",
       "      <td>95.860000</td>\n",
       "    </tr>\n",
       "    <tr>\n",
       "      <th>max</th>\n",
       "      <td>2015.000000</td>\n",
       "      <td>6.000000</td>\n",
       "      <td>99.000000</td>\n",
       "      <td>706176.000000</td>\n",
       "      <td>1.587869e+07</td>\n",
       "      <td>1.150804e+07</td>\n",
       "      <td>8.630381e+06</td>\n",
       "      <td>1.622816e+07</td>\n",
       "      <td>712.390000</td>\n",
       "    </tr>\n",
       "  </tbody>\n",
       "</table>\n",
       "</div>"
      ],
      "text/plain": [
       "         YearBuilt  NumberofBuildings  NumberofFloors  PropertyGFATotal  \\\n",
       "count  1445.000000        1445.000000     1445.000000       1445.000000   \n",
       "mean   1960.210381           1.022145        3.078201      69280.738408   \n",
       "std      32.678129           0.435040        3.746112      70740.623113   \n",
       "min    1900.000000           0.000000        0.000000      11285.000000   \n",
       "25%    1929.000000           1.000000        1.000000      28072.000000   \n",
       "50%    1963.000000           1.000000        2.000000      43661.000000   \n",
       "75%    1987.000000           1.000000        4.000000      78374.000000   \n",
       "max    2015.000000           6.000000       99.000000     706176.000000   \n",
       "\n",
       "       Electricity(kBtu)  NaturalGas(kBtu)  SteamUse(kBtu)  \\\n",
       "count       1.445000e+03      1.445000e+03    1.445000e+03   \n",
       "mean        2.492841e+06      1.018276e+06    9.451563e+04   \n",
       "std         2.744288e+06      1.505151e+06    5.616864e+05   \n",
       "min        -1.154170e+05      0.000000e+00    0.000000e+00   \n",
       "25%         6.781670e+05      0.000000e+00    0.000000e+00   \n",
       "50%         1.357120e+06      4.768320e+05    0.000000e+00   \n",
       "75%         3.327045e+06      1.239357e+06    0.000000e+00   \n",
       "max         1.587869e+07      1.150804e+07    8.630381e+06   \n",
       "\n",
       "       SiteEnergyUseWN(kBtu)  TotalGHGEmissions  \n",
       "count           1.445000e+03        1445.000000  \n",
       "mean            3.767918e+06          78.754754  \n",
       "std             3.595049e+06          95.616344  \n",
       "min             5.811420e+04          -0.800000  \n",
       "25%             1.259282e+06          18.620000  \n",
       "50%             2.340056e+06          43.450000  \n",
       "75%             5.205994e+06          95.860000  \n",
       "max             1.622816e+07         712.390000  "
      ]
     },
     "execution_count": 213,
     "metadata": {},
     "output_type": "execute_result"
    }
   ],
   "source": [
    "data[features_fe1].describe()"
   ]
  },
  {
   "cell_type": "markdown",
   "id": "4a867b80-29d6-41a6-af6d-36361950add5",
   "metadata": {},
   "source": [
    "**Cible TotalGHGEmissions**"
   ]
  },
  {
   "cell_type": "markdown",
   "id": "80e3fb12-cad5-433b-92fa-1b79ce8d4186",
   "metadata": {},
   "source": [
    "On voit qu'il y a des valeurs négatives, ce qui est aberrant ici.\n",
    "\n",
    "On supprime les valeurs négatives :"
   ]
  },
  {
   "cell_type": "code",
   "execution_count": 218,
   "id": "683817bf-27d7-4ec5-a0bc-efa176aadfd3",
   "metadata": {},
   "outputs": [],
   "source": [
    "mask = data['TotalGHGEmissions'] >= 0\n",
    "data = data.loc[mask]"
   ]
  },
  {
   "cell_type": "code",
   "execution_count": 220,
   "id": "3c6a6e80-8f67-4847-a472-8b89afe74ed7",
   "metadata": {},
   "outputs": [
    {
     "data": {
      "text/plain": [
       "(1444, 46)"
      ]
     },
     "execution_count": 220,
     "metadata": {},
     "output_type": "execute_result"
    }
   ],
   "source": [
    "data.shape"
   ]
  },
  {
   "cell_type": "code",
   "execution_count": 222,
   "id": "9e6ed3f5-5641-4242-9c92-e530b877a9f8",
   "metadata": {},
   "outputs": [
    {
     "data": {
      "text/html": [
       "<div>\n",
       "<style scoped>\n",
       "    .dataframe tbody tr th:only-of-type {\n",
       "        vertical-align: middle;\n",
       "    }\n",
       "\n",
       "    .dataframe tbody tr th {\n",
       "        vertical-align: top;\n",
       "    }\n",
       "\n",
       "    .dataframe thead th {\n",
       "        text-align: right;\n",
       "    }\n",
       "</style>\n",
       "<table border=\"1\" class=\"dataframe\">\n",
       "  <thead>\n",
       "    <tr style=\"text-align: right;\">\n",
       "      <th></th>\n",
       "      <th>YearBuilt</th>\n",
       "      <th>NumberofBuildings</th>\n",
       "      <th>NumberofFloors</th>\n",
       "      <th>PropertyGFATotal</th>\n",
       "      <th>Electricity(kBtu)</th>\n",
       "      <th>NaturalGas(kBtu)</th>\n",
       "      <th>SteamUse(kBtu)</th>\n",
       "      <th>SiteEnergyUseWN(kBtu)</th>\n",
       "      <th>TotalGHGEmissions</th>\n",
       "    </tr>\n",
       "  </thead>\n",
       "  <tbody>\n",
       "    <tr>\n",
       "      <th>count</th>\n",
       "      <td>1444.000000</td>\n",
       "      <td>1444.000000</td>\n",
       "      <td>1444.000000</td>\n",
       "      <td>1444.000000</td>\n",
       "      <td>1.444000e+03</td>\n",
       "      <td>1.444000e+03</td>\n",
       "      <td>1.444000e+03</td>\n",
       "      <td>1.444000e+03</td>\n",
       "      <td>1444.000000</td>\n",
       "    </tr>\n",
       "    <tr>\n",
       "      <th>mean</th>\n",
       "      <td>1960.173823</td>\n",
       "      <td>1.022161</td>\n",
       "      <td>3.076177</td>\n",
       "      <td>69292.705679</td>\n",
       "      <td>2.494647e+06</td>\n",
       "      <td>1.018981e+06</td>\n",
       "      <td>9.458109e+04</td>\n",
       "      <td>3.770361e+06</td>\n",
       "      <td>78.809848</td>\n",
       "    </tr>\n",
       "    <tr>\n",
       "      <th>std</th>\n",
       "      <td>32.659878</td>\n",
       "      <td>0.435190</td>\n",
       "      <td>3.746620</td>\n",
       "      <td>70763.667283</td>\n",
       "      <td>2.744379e+06</td>\n",
       "      <td>1.505434e+06</td>\n",
       "      <td>5.618755e+05</td>\n",
       "      <td>3.595094e+06</td>\n",
       "      <td>95.626523</td>\n",
       "    </tr>\n",
       "    <tr>\n",
       "      <th>min</th>\n",
       "      <td>1900.000000</td>\n",
       "      <td>0.000000</td>\n",
       "      <td>0.000000</td>\n",
       "      <td>11285.000000</td>\n",
       "      <td>0.000000e+00</td>\n",
       "      <td>0.000000e+00</td>\n",
       "      <td>0.000000e+00</td>\n",
       "      <td>5.811420e+04</td>\n",
       "      <td>0.400000</td>\n",
       "    </tr>\n",
       "    <tr>\n",
       "      <th>25%</th>\n",
       "      <td>1929.000000</td>\n",
       "      <td>1.000000</td>\n",
       "      <td>1.000000</td>\n",
       "      <td>28062.000000</td>\n",
       "      <td>6.783500e+05</td>\n",
       "      <td>0.000000e+00</td>\n",
       "      <td>0.000000e+00</td>\n",
       "      <td>1.259692e+06</td>\n",
       "      <td>18.627500</td>\n",
       "    </tr>\n",
       "    <tr>\n",
       "      <th>50%</th>\n",
       "      <td>1963.000000</td>\n",
       "      <td>1.000000</td>\n",
       "      <td>2.000000</td>\n",
       "      <td>43653.000000</td>\n",
       "      <td>1.357482e+06</td>\n",
       "      <td>4.783005e+05</td>\n",
       "      <td>0.000000e+00</td>\n",
       "      <td>2.343374e+06</td>\n",
       "      <td>43.540000</td>\n",
       "    </tr>\n",
       "    <tr>\n",
       "      <th>75%</th>\n",
       "      <td>1987.000000</td>\n",
       "      <td>1.000000</td>\n",
       "      <td>4.000000</td>\n",
       "      <td>78380.750000</td>\n",
       "      <td>3.331490e+06</td>\n",
       "      <td>1.239401e+06</td>\n",
       "      <td>0.000000e+00</td>\n",
       "      <td>5.206862e+06</td>\n",
       "      <td>95.877500</td>\n",
       "    </tr>\n",
       "    <tr>\n",
       "      <th>max</th>\n",
       "      <td>2015.000000</td>\n",
       "      <td>6.000000</td>\n",
       "      <td>99.000000</td>\n",
       "      <td>706176.000000</td>\n",
       "      <td>1.587869e+07</td>\n",
       "      <td>1.150804e+07</td>\n",
       "      <td>8.630381e+06</td>\n",
       "      <td>1.622816e+07</td>\n",
       "      <td>712.390000</td>\n",
       "    </tr>\n",
       "  </tbody>\n",
       "</table>\n",
       "</div>"
      ],
      "text/plain": [
       "         YearBuilt  NumberofBuildings  NumberofFloors  PropertyGFATotal  \\\n",
       "count  1444.000000        1444.000000     1444.000000       1444.000000   \n",
       "mean   1960.173823           1.022161        3.076177      69292.705679   \n",
       "std      32.659878           0.435190        3.746620      70763.667283   \n",
       "min    1900.000000           0.000000        0.000000      11285.000000   \n",
       "25%    1929.000000           1.000000        1.000000      28062.000000   \n",
       "50%    1963.000000           1.000000        2.000000      43653.000000   \n",
       "75%    1987.000000           1.000000        4.000000      78380.750000   \n",
       "max    2015.000000           6.000000       99.000000     706176.000000   \n",
       "\n",
       "       Electricity(kBtu)  NaturalGas(kBtu)  SteamUse(kBtu)  \\\n",
       "count       1.444000e+03      1.444000e+03    1.444000e+03   \n",
       "mean        2.494647e+06      1.018981e+06    9.458109e+04   \n",
       "std         2.744379e+06      1.505434e+06    5.618755e+05   \n",
       "min         0.000000e+00      0.000000e+00    0.000000e+00   \n",
       "25%         6.783500e+05      0.000000e+00    0.000000e+00   \n",
       "50%         1.357482e+06      4.783005e+05    0.000000e+00   \n",
       "75%         3.331490e+06      1.239401e+06    0.000000e+00   \n",
       "max         1.587869e+07      1.150804e+07    8.630381e+06   \n",
       "\n",
       "       SiteEnergyUseWN(kBtu)  TotalGHGEmissions  \n",
       "count           1.444000e+03        1444.000000  \n",
       "mean            3.770361e+06          78.809848  \n",
       "std             3.595094e+06          95.626523  \n",
       "min             5.811420e+04           0.400000  \n",
       "25%             1.259692e+06          18.627500  \n",
       "50%             2.343374e+06          43.540000  \n",
       "75%             5.206862e+06          95.877500  \n",
       "max             1.622816e+07         712.390000  "
      ]
     },
     "execution_count": 222,
     "metadata": {},
     "output_type": "execute_result"
    }
   ],
   "source": [
    "data[features_fe1].describe()"
   ]
  },
  {
   "cell_type": "markdown",
   "id": "2fcd0682-f11e-4926-9286-4aaec42e37bd",
   "metadata": {},
   "source": [
    "Visualiser la distribution :"
   ]
  },
  {
   "cell_type": "code",
   "execution_count": 207,
   "id": "8423f1cc-e24d-42a8-b8e0-28fa8cbc512c",
   "metadata": {},
   "outputs": [
    {
     "data": {
      "image/png": "[encoded data removed]",
      "text/plain": [
       "<Figure size 640x480 with 1 Axes>"
      ]
     },
     "metadata": {},
     "output_type": "display_data"
    }
   ],
   "source": [
    "sns.histplot(data=data, x='TotalGHGEmissions')\n",
    "plt.title('Histplot of TotalGHGEmissions', fontsize=16)\n",
    "plt.show()"
   ]
  },
  {
   "cell_type": "code",
   "execution_count": 224,
   "id": "5b4487be-fad2-4fb7-9362-4ecf28cf51ee",
   "metadata": {},
   "outputs": [
    {
     "data": {
      "image/png": "[encoded data removed]",
      "text/plain": [
       "<Figure size 640x480 with 1 Axes>"
      ]
     },
     "metadata": {},
     "output_type": "display_data"
    }
   ],
   "source": [
    "sns.boxplot(x=sample['TotalGHGEmissions'])\n",
    "plt.title('Boxplot of TotalGHGEmissions', fontsize=16)\n",
    "plt.show()"
   ]
  },
  {
   "cell_type": "markdown",
   "id": "aed5d6ec-ee21-46e4-b30a-541f087060a7",
   "metadata": {},
   "source": [
    "Visualiser le lien entre les émissions et la consommation d'energie :"
   ]
  },
  {
   "cell_type": "code",
   "execution_count": 236,
   "id": "91554807-434a-4faf-a538-d9c88de55417",
   "metadata": {},
   "outputs": [
    {
     "data": {
      "image/png": "[encoded data removed]",
      "text/plain": [
       "<Figure size 640x480 with 1 Axes>"
      ]
     },
     "metadata": {},
     "output_type": "display_data"
    }
   ],
   "source": [
    "# Création du scatter plot\n",
    "data.plot.scatter(x='SiteEnergyUseWN(kBtu)', y='TotalGHGEmissions', alpha=0.1)\n",
    "\n",
    "# Affichage du graphique\n",
    "plt.show()"
   ]
  },
  {
   "cell_type": "code",
   "execution_count": 241,
   "id": "a3899dfb-46d5-4984-8bcd-b376bd821dc3",
   "metadata": {},
   "outputs": [
    {
     "data": {
      "image/png": "[encoded data removed]",
      "text/plain": [
       "<Figure size 640x480 with 1 Axes>"
      ]
     },
     "metadata": {},
     "output_type": "display_data"
    }
   ],
   "source": [
    "# Afficher le regplot\n",
    "sns.regplot(x='SiteEnergyUseWN(kBtu)', y='TotalGHGEmissions', data=data, color='blue', marker='o', line_kws={'color': 'red'}, scatter_kws={'s': 5, 'alpha': 0.1})\n",
    "\n",
    "# Afficher le graphique\n",
    "plt.show()"
   ]
  },
  {
   "cell_type": "code",
   "execution_count": null,
   "id": "bd63db3b-87b4-4ecb-8806-835f983ca512",
   "metadata": {},
   "outputs": [],
   "source": []
  },
  {
   "cell_type": "code",
   "execution_count": null,
   "id": "63d2c06f-b7bf-492c-bad2-04be5c8b8eb3",
   "metadata": {},
   "outputs": [],
   "source": []
  },
  {
   "cell_type": "code",
   "execution_count": null,
   "id": "b422db15-0546-4ce3-a7a6-4e1ed95f71e0",
   "metadata": {},
   "outputs": [],
   "source": []
  },
  {
   "cell_type": "code",
   "execution_count": null,
   "id": "3b8800b8-8cd4-4583-b5b5-0a42609c168f",
   "metadata": {},
   "outputs": [],
   "source": []
  },
  {
   "cell_type": "code",
   "execution_count": null,
   "id": "4b2da4fc-c1b3-40db-a56c-9eb45393fe96",
   "metadata": {},
   "outputs": [],
   "source": []
  },
  {
   "cell_type": "code",
   "execution_count": null,
   "id": "3542c9f8-0ec9-4dfb-847f-493230b5621f",
   "metadata": {},
   "outputs": [],
   "source": []
  },
  {
   "cell_type": "code",
   "execution_count": null,
   "id": "5d2fe607-4458-4e50-a230-b525aacac735",
   "metadata": {},
   "outputs": [],
   "source": []
  },
  {
   "cell_type": "code",
   "execution_count": null,
   "id": "b4d1973c-18b9-4971-8c85-bf568ef2adc5",
   "metadata": {},
   "outputs": [],
   "source": []
  },
  {
   "cell_type": "code",
   "execution_count": null,
   "id": "1ae73b7c-4003-48c8-98b5-dbdbe41eff49",
   "metadata": {},
   "outputs": [],
   "source": []
  },
  {
   "cell_type": "code",
   "execution_count": null,
   "id": "ff32e712-22de-4cfe-b053-5b64379aef50",
   "metadata": {},
   "outputs": [],
   "source": []
  },
  {
   "cell_type": "code",
   "execution_count": null,
   "id": "e7294047-0959-4675-8c0c-f13a8417cc1e",
   "metadata": {},
   "outputs": [],
   "source": []
  },
  {
   "cell_type": "code",
   "execution_count": null,
   "id": "a937ef92-3bf1-4f81-abba-43c48a1ed33a",
   "metadata": {},
   "outputs": [],
   "source": []
  },
  {
   "cell_type": "code",
   "execution_count": null,
   "id": "5d8abe29-30e3-4dd1-8fa9-53aa1bb7c654",
   "metadata": {},
   "outputs": [],
   "source": []
  },
  {
   "cell_type": "code",
   "execution_count": null,
   "id": "294b4ab7-95dd-4bb1-b7c5-227f9067dee5",
   "metadata": {},
   "outputs": [],
   "source": []
  },
  {
   "cell_type": "code",
   "execution_count": null,
   "id": "e16a65f1-659b-4603-8c2a-3021271196e8",
   "metadata": {},
   "outputs": [],
   "source": []
  },
  {
   "cell_type": "markdown",
   "id": "05aba1a0-ac5d-4684-ab18-5200785ea09a",
   "metadata": {},
   "source": [
    "#### 6.3 - Filtrer les features"
   ]
  },
  {
   "cell_type": "markdown",
   "id": "00a4ca66-260e-4022-9d20-144b72949c59",
   "metadata": {},
   "source": [
    "Liste des features :"
   ]
  },
  {
   "cell_type": "code",
   "execution_count": 95,
   "id": "28171a86-2f53-45de-a232-6786ad7494e8",
   "metadata": {},
   "outputs": [],
   "source": [
    "features_fe1 = ['PrimaryPropertyType', 'Neighborhood', 'YearBuilt', 'NumberofBuildings', 'NumberofFloors', 'PropertyGFATotal', \\\n",
    "                'Electricity(kBtu)', 'NaturalGas(kBtu)', 'SteamUse(kBtu)']"
   ]
  },
  {
   "cell_type": "code",
   "execution_count": 96,
   "id": "0923a5b4-7314-42fc-86e4-a29802c6c714",
   "metadata": {},
   "outputs": [
    {
     "data": {
      "text/html": [
       "<div>\n",
       "<style scoped>\n",
       "    .dataframe tbody tr th:only-of-type {\n",
       "        vertical-align: middle;\n",
       "    }\n",
       "\n",
       "    .dataframe tbody tr th {\n",
       "        vertical-align: top;\n",
       "    }\n",
       "\n",
       "    .dataframe thead th {\n",
       "        text-align: right;\n",
       "    }\n",
       "</style>\n",
       "<table border=\"1\" class=\"dataframe\">\n",
       "  <thead>\n",
       "    <tr style=\"text-align: right;\">\n",
       "      <th></th>\n",
       "      <th>PrimaryPropertyType</th>\n",
       "      <th>Neighborhood</th>\n",
       "      <th>YearBuilt</th>\n",
       "      <th>NumberofBuildings</th>\n",
       "      <th>NumberofFloors</th>\n",
       "      <th>PropertyGFATotal</th>\n",
       "      <th>Electricity(kBtu)</th>\n",
       "      <th>NaturalGas(kBtu)</th>\n",
       "      <th>SteamUse(kBtu)</th>\n",
       "    </tr>\n",
       "  </thead>\n",
       "  <tbody>\n",
       "    <tr>\n",
       "      <th>0</th>\n",
       "      <td>Hotel</td>\n",
       "      <td>DOWNTOWN</td>\n",
       "      <td>1927</td>\n",
       "      <td>1.0</td>\n",
       "      <td>12</td>\n",
       "      <td>88434</td>\n",
       "      <td>3946027.0</td>\n",
       "      <td>1276453.0</td>\n",
       "      <td>2003882.00</td>\n",
       "    </tr>\n",
       "    <tr>\n",
       "      <th>1</th>\n",
       "      <td>Hotel</td>\n",
       "      <td>DOWNTOWN</td>\n",
       "      <td>1996</td>\n",
       "      <td>1.0</td>\n",
       "      <td>11</td>\n",
       "      <td>103566</td>\n",
       "      <td>3242851.0</td>\n",
       "      <td>5145082.0</td>\n",
       "      <td>0.00</td>\n",
       "    </tr>\n",
       "    <tr>\n",
       "      <th>2</th>\n",
       "      <td>Hotel</td>\n",
       "      <td>DOWNTOWN</td>\n",
       "      <td>1969</td>\n",
       "      <td>1.0</td>\n",
       "      <td>41</td>\n",
       "      <td>956110</td>\n",
       "      <td>49526664.0</td>\n",
       "      <td>1493800.0</td>\n",
       "      <td>21566554.00</td>\n",
       "    </tr>\n",
       "    <tr>\n",
       "      <th>3</th>\n",
       "      <td>Hotel</td>\n",
       "      <td>DOWNTOWN</td>\n",
       "      <td>1926</td>\n",
       "      <td>1.0</td>\n",
       "      <td>10</td>\n",
       "      <td>61320</td>\n",
       "      <td>2768924.0</td>\n",
       "      <td>1811213.0</td>\n",
       "      <td>2214446.25</td>\n",
       "    </tr>\n",
       "    <tr>\n",
       "      <th>4</th>\n",
       "      <td>Hotel</td>\n",
       "      <td>DOWNTOWN</td>\n",
       "      <td>1980</td>\n",
       "      <td>1.0</td>\n",
       "      <td>18</td>\n",
       "      <td>175580</td>\n",
       "      <td>5368607.0</td>\n",
       "      <td>8803998.0</td>\n",
       "      <td>0.00</td>\n",
       "    </tr>\n",
       "  </tbody>\n",
       "</table>\n",
       "</div>"
      ],
      "text/plain": [
       "  PrimaryPropertyType Neighborhood  YearBuilt  NumberofBuildings  \\\n",
       "0               Hotel     DOWNTOWN       1927                1.0   \n",
       "1               Hotel     DOWNTOWN       1996                1.0   \n",
       "2               Hotel     DOWNTOWN       1969                1.0   \n",
       "3               Hotel     DOWNTOWN       1926                1.0   \n",
       "4               Hotel     DOWNTOWN       1980                1.0   \n",
       "\n",
       "   NumberofFloors  PropertyGFATotal  Electricity(kBtu)  NaturalGas(kBtu)  \\\n",
       "0              12             88434          3946027.0         1276453.0   \n",
       "1              11            103566          3242851.0         5145082.0   \n",
       "2              41            956110         49526664.0         1493800.0   \n",
       "3              10             61320          2768924.0         1811213.0   \n",
       "4              18            175580          5368607.0         8803998.0   \n",
       "\n",
       "   SteamUse(kBtu)  \n",
       "0      2003882.00  \n",
       "1            0.00  \n",
       "2     21566554.00  \n",
       "3      2214446.25  \n",
       "4            0.00  "
      ]
     },
     "execution_count": 96,
     "metadata": {},
     "output_type": "execute_result"
    }
   ],
   "source": [
    "X_fe1 = data[features_fe1]\n",
    "X_fe1.head()"
   ]
  },
  {
   "cell_type": "markdown",
   "id": "b3a115aa-52ba-4437-83cf-fd1f37d5d34c",
   "metadata": {},
   "source": [
    "#### 6.4 - Extraire les 2 cibles"
   ]
  },
  {
   "cell_type": "code",
   "execution_count": 98,
   "id": "9046f932-a627-4a7d-8966-786f7835d92a",
   "metadata": {},
   "outputs": [
    {
     "data": {
      "text/plain": [
       "(1622,)"
      ]
     },
     "execution_count": 98,
     "metadata": {},
     "output_type": "execute_result"
    }
   ],
   "source": [
    "y_fe1_conso = data['SiteEnergyUse(kBtu)']\n",
    "y_fe1_conso.shape"
   ]
  },
  {
   "cell_type": "code",
   "execution_count": 99,
   "id": "e35ccde9-6f68-475c-8ba4-c5794def4eef",
   "metadata": {},
   "outputs": [
    {
     "data": {
      "text/plain": [
       "(1622,)"
      ]
     },
     "execution_count": 99,
     "metadata": {},
     "output_type": "execute_result"
    }
   ],
   "source": [
    "y_fe1_emission = data['TotalGHGEmissions']\n",
    "y_fe1_emission.shape"
   ]
  },
  {
   "cell_type": "markdown",
   "id": "46718595-f044-4314-aad8-be44468d3f2b",
   "metadata": {},
   "source": [
    "#### 6.5 - Traiter les valeurs aberrantes des 2 cibles"
   ]
  },
  {
   "cell_type": "markdown",
   "id": "672a9358-a3ba-4229-8555-473fde6e0c9f",
   "metadata": {},
   "source": [
    "**SiteEnergyUse(kBtu)**"
   ]
  },
  {
   "cell_type": "code",
   "execution_count": null,
   "id": "80473650-8b6d-4191-8b5b-4091ffb54411",
   "metadata": {},
   "outputs": [],
   "source": []
  }
 ],
 "metadata": {
  "kernelspec": {
   "display_name": "Python 3 (ipykernel)",
   "language": "python",
   "name": "python3"
  },
  "language_info": {
   "codemirror_mode": {
    "name": "ipython",
    "version": 3
   },
   "file_extension": ".py",
   "mimetype": "text/x-python",
   "name": "python",
   "nbconvert_exporter": "python",
   "pygments_lexer": "ipython3",
   "version": "3.11.7"
  }
 },
 "nbformat": 4,
 "nbformat_minor": 5
}
